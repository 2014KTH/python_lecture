{
 "cells": [
  {
   "cell_type": "markdown",
   "metadata": {},
   "source": [
    "# Assignment 3\n",
    "## 스크립트 프로그래밍 2분반 2014136031 김태형"
   ]
  },
  {
   "cell_type": "markdown",
   "metadata": {},
   "source": [
    "####1. L=[1, 2, 3, 4, 5]일 때 다음 각 문장을 수행한 후의 결과를 보고 납득할 만한 이유를 설명하시오."
   ]
  },
  {
   "cell_type": "markdown",
   "metadata": {},
   "source": [
    "1)"
   ]
  },
  {
   "cell_type": "code",
   "execution_count": 24,
   "metadata": {
    "collapsed": false
   },
   "outputs": [
    {
     "name": "stdout",
     "output_type": "stream",
     "text": [
      "[1, 100, 4, 5]\n"
     ]
    }
   ],
   "source": [
    "L = [1, 2, 3, 4, 5]\n",
    "L[1:3] = [100]\n",
    "print L"
   ]
  },
  {
   "cell_type": "markdown",
   "metadata": {},
   "source": [
    "리스트의 인덱스 1(포함) 3(미포함)사이에 [100]을 넣기 때문에 2와 3이 사라지고 100이 저장된다. "
   ]
  },
  {
   "cell_type": "markdown",
   "metadata": {},
   "source": [
    "2)"
   ]
  },
  {
   "cell_type": "code",
   "execution_count": 25,
   "metadata": {
    "collapsed": false
   },
   "outputs": [
    {
     "name": "stdout",
     "output_type": "stream",
     "text": [
      "[1, 100, 4, 5]\n"
     ]
    }
   ],
   "source": [
    "L = [1, 2, 3, 4, 5]\n",
    "L[1:3] = [(100)]\n",
    "print L"
   ]
  },
  {
   "cell_type": "markdown",
   "metadata": {},
   "source": [
    "튜플인 ()에 원소 하나이면 정수로 인식하기 때문에 [(100)] = [100]이다. 리스트의 인덱스 1(포함) 3(미포함)사이에 [100]을 넣기 때문에 2와 3이 사라지고 100이 저장된다."
   ]
  },
  {
   "cell_type": "markdown",
   "metadata": {},
   "source": [
    "3)"
   ]
  },
  {
   "cell_type": "code",
   "execution_count": 26,
   "metadata": {
    "collapsed": false
   },
   "outputs": [
    {
     "ename": "TypeError",
     "evalue": "can only assign an iterable",
     "output_type": "error",
     "traceback": [
      "\u001b[1;31m---------------------------------------------------------------------------\u001b[0m",
      "\u001b[1;31mTypeError\u001b[0m                                 Traceback (most recent call last)",
      "\u001b[1;32m<ipython-input-26-21449691155d>\u001b[0m in \u001b[0;36m<module>\u001b[1;34m()\u001b[0m\n\u001b[0;32m      1\u001b[0m \u001b[0mL\u001b[0m \u001b[1;33m=\u001b[0m \u001b[1;33m[\u001b[0m\u001b[1;36m1\u001b[0m\u001b[1;33m,\u001b[0m \u001b[1;36m2\u001b[0m\u001b[1;33m,\u001b[0m \u001b[1;36m3\u001b[0m\u001b[1;33m,\u001b[0m \u001b[1;36m4\u001b[0m\u001b[1;33m,\u001b[0m \u001b[1;36m5\u001b[0m\u001b[1;33m]\u001b[0m\u001b[1;33m\u001b[0m\u001b[0m\n\u001b[1;32m----> 2\u001b[1;33m \u001b[0mL\u001b[0m\u001b[1;33m[\u001b[0m\u001b[1;36m1\u001b[0m\u001b[1;33m:\u001b[0m\u001b[1;36m3\u001b[0m\u001b[1;33m]\u001b[0m \u001b[1;33m=\u001b[0m \u001b[1;36m100\u001b[0m\u001b[1;33m\u001b[0m\u001b[0m\n\u001b[0m\u001b[0;32m      3\u001b[0m \u001b[1;32mprint\u001b[0m \u001b[0mL\u001b[0m\u001b[1;33m\u001b[0m\u001b[0m\n",
      "\u001b[1;31mTypeError\u001b[0m: can only assign an iterable"
     ]
    }
   ],
   "source": [
    "L = [1, 2, 3, 4, 5]\n",
    "L[1:3] = 100\n",
    "print L"
   ]
  },
  {
   "cell_type": "markdown",
   "metadata": {},
   "source": [
    "값을 넣을 때 연속형 자료형이 아니면 대입이 안되므로 오류가 발생한다."
   ]
  },
  {
   "cell_type": "markdown",
   "metadata": {},
   "source": [
    "4)"
   ]
  },
  {
   "cell_type": "code",
   "execution_count": 27,
   "metadata": {
    "collapsed": false
   },
   "outputs": [
    {
     "ename": "TypeError",
     "evalue": "can only assign an iterable",
     "output_type": "error",
     "traceback": [
      "\u001b[1;31m---------------------------------------------------------------------------\u001b[0m",
      "\u001b[1;31mTypeError\u001b[0m                                 Traceback (most recent call last)",
      "\u001b[1;32m<ipython-input-27-708053a6bae3>\u001b[0m in \u001b[0;36m<module>\u001b[1;34m()\u001b[0m\n\u001b[0;32m      1\u001b[0m \u001b[0mL\u001b[0m \u001b[1;33m=\u001b[0m \u001b[1;33m[\u001b[0m\u001b[1;36m1\u001b[0m\u001b[1;33m,\u001b[0m \u001b[1;36m2\u001b[0m\u001b[1;33m,\u001b[0m \u001b[1;36m3\u001b[0m\u001b[1;33m,\u001b[0m \u001b[1;36m4\u001b[0m\u001b[1;33m,\u001b[0m \u001b[1;36m5\u001b[0m\u001b[1;33m]\u001b[0m\u001b[1;33m\u001b[0m\u001b[0m\n\u001b[1;32m----> 2\u001b[1;33m \u001b[0mL\u001b[0m\u001b[1;33m[\u001b[0m\u001b[1;36m1\u001b[0m\u001b[1;33m:\u001b[0m\u001b[1;36m3\u001b[0m\u001b[1;33m]\u001b[0m \u001b[1;33m=\u001b[0m \u001b[1;33m(\u001b[0m\u001b[1;36m100\u001b[0m\u001b[1;33m)\u001b[0m\u001b[1;33m\u001b[0m\u001b[0m\n\u001b[0m\u001b[0;32m      3\u001b[0m \u001b[1;32mprint\u001b[0m \u001b[0mL\u001b[0m\u001b[1;33m\u001b[0m\u001b[0m\n",
      "\u001b[1;31mTypeError\u001b[0m: can only assign an iterable"
     ]
    }
   ],
   "source": [
    "L = [1, 2, 3, 4, 5]\n",
    "L[1:3] = (100)\n",
    "print L"
   ]
  },
  {
   "cell_type": "markdown",
   "metadata": {},
   "source": [
    "튜플인 ()에 원소 하나이면 정수로 인식하기 때문에 연속형 자료형이 아니므로 오류가 발생한다."
   ]
  },
  {
   "cell_type": "markdown",
   "metadata": {},
   "source": [
    "5)"
   ]
  },
  {
   "cell_type": "code",
   "execution_count": 28,
   "metadata": {
    "collapsed": false
   },
   "outputs": [
    {
     "name": "stdout",
     "output_type": "stream",
     "text": [
      "[1, 100, 101, 102, 4, 5]\n"
     ]
    }
   ],
   "source": [
    "L = [1, 2, 3, 4, 5]\n",
    "L[1:3] = (100, 101, 102)\n",
    "print L"
   ]
  },
  {
   "cell_type": "markdown",
   "metadata": {},
   "source": [
    "튜플 (100, 101, 102)가 가리키는 참조값을 리스트의 인덱스 1(포함) 3(미포함)사이에 넣기 때문에 2와 3이 사라지고 100, 101, 102가 저장된다. 할당할 크기가 할당될 크기보다 커도 넣는 것이 가능하다."
   ]
  },
  {
   "cell_type": "markdown",
   "metadata": {},
   "source": [
    "6)"
   ]
  },
  {
   "cell_type": "code",
   "execution_count": 29,
   "metadata": {
    "collapsed": false
   },
   "outputs": [
    {
     "name": "stdout",
     "output_type": "stream",
     "text": [
      "[1, 100, 101, 102, 4, 5]\n"
     ]
    }
   ],
   "source": [
    "L = [1, 2, 3, 4, 5]\n",
    "L[1:3] = [100, 101, 102]\n",
    "print L"
   ]
  },
  {
   "cell_type": "markdown",
   "metadata": {},
   "source": [
    "리스트 (100, 101, 102)가 가리키는 참조값을 리스트의 인덱스 1(포함) 3(미포함)사이에 넣기 때문에 2와 3이 사라지고 100, 101, 102가 저장된다. 할당할 크기가 할당될 크기보다 커도 넣는 것이 가능하다."
   ]
  },
  {
   "cell_type": "markdown",
   "metadata": {},
   "source": [
    "7)"
   ]
  },
  {
   "cell_type": "code",
   "execution_count": 30,
   "metadata": {
    "collapsed": false
   },
   "outputs": [
    {
     "name": "stdout",
     "output_type": "stream",
     "text": [
      "[1, (100, 101, 102), 4, 5]\n"
     ]
    }
   ],
   "source": [
    "L = [1, 2, 3, 4, 5]\n",
    "L[1:3] = [(100, 101, 102)]\n",
    "print L"
   ]
  },
  {
   "cell_type": "markdown",
   "metadata": {},
   "source": [
    "리스트 안에 튜플 (100, 101, 102)가 가리키는 참조값을 인덱스 1(포함) 3(미포함)사이에 넣기 때문에 2와 3이 사라지고 튜플 (100, 101, 102)가 저장된다. "
   ]
  },
  {
   "cell_type": "markdown",
   "metadata": {},
   "source": [
    "8)"
   ]
  },
  {
   "cell_type": "code",
   "execution_count": 31,
   "metadata": {
    "collapsed": false
   },
   "outputs": [
    {
     "name": "stdout",
     "output_type": "stream",
     "text": [
      "[1, [100, 101, 102], 4, 5]\n"
     ]
    }
   ],
   "source": [
    "L = [1, 2, 3, 4, 5]\n",
    "L[1:3] = [[100, 101, 102]]\n",
    "print L"
   ]
  },
  {
   "cell_type": "markdown",
   "metadata": {},
   "source": [
    "리스트 안에 리스트 [100, 101, 102]가 가리키는 참조값을 인덱스 1(포함) 3(미포함)사이에 넣기 때문에 2와 3이 사라지고 리스트 [100, 101, 102]가 저장된다.\n"
   ]
  },
  {
   "cell_type": "markdown",
   "metadata": {},
   "source": [
    "####2. 문자열 S = 'Hello World and Python'에 대해 다음 요구사항에 대한 Python 코드를 제시하시오."
   ]
  },
  {
   "cell_type": "markdown",
   "metadata": {},
   "source": [
    "1) 단어의 순서가 역순으로 되어진 문자열 ('Python and World Hello')을 만들고\n",
    "\n",
    "2) 1)의 결과 문자열에 대해 메소드 split과 join을 이용하여 공백을 모두 없엔 문자열 'PythonandWorldHello'을 만드시오."
   ]
  },
  {
   "cell_type": "code",
   "execution_count": 32,
   "metadata": {
    "collapsed": false
   },
   "outputs": [
    {
     "name": "stdout",
     "output_type": "stream",
     "text": [
      "Python and World Hello\n",
      "PythonandWorldHello\n"
     ]
    }
   ],
   "source": [
    "S = 'Hello World and Python'\n",
    "\n",
    "S_rev = S.split()\n",
    "S_rev.reverse()\n",
    "S_rev = ' '.join(S_rev)\n",
    "\n",
    "print S_rev\n",
    "\n",
    "S_rev = S_rev.split()\n",
    "S_rev = ''.join(S_rev)\n",
    "\n",
    "print S_rev"
   ]
  },
  {
   "cell_type": "markdown",
   "metadata": {},
   "source": [
    "(1) S 변수에 Hello World and Python을 넣고, split() 함수를 사용하여 공백 기준으로 단어를 나눠 주었다. reverse() 함수를 통해 순서를 역으로 바꾸고, 다시 공백을 기준으로 문자열을 만들기 위해 join() 함수를 사용했다. \n",
    "\n",
    "(2) S_rev 변수에 저장된 Python and World Hello을 split() 함수를 사용하여 공백 기준으로 단어를 나누고, 공백 없이 문자열을 만들기 위해 join() 함수를 사용했다."
   ]
  },
  {
   "cell_type": "markdown",
   "metadata": {},
   "source": [
    "####3. 다음 코드를 보고 물음에 답하시오.\n",
    "\n",
    "a = [1, 2, 3]\n",
    "\n",
    "b = a * 3\n",
    "\n",
    "c = [a] * 3\n",
    "\n",
    "print b\n",
    "\n",
    "print c\n",
    "\n",
    "1) 위 코드를 수행한 이후 다음 코드를 수행한 후 b와 c의 내용을 확인하시오.\n",
    "\n",
    "a[0]=0\n",
    "\n",
    "2) b와 c 객체의 차이는 무엇인가?"
   ]
  },
  {
   "cell_type": "code",
   "execution_count": 33,
   "metadata": {
    "collapsed": false
   },
   "outputs": [
    {
     "name": "stdout",
     "output_type": "stream",
     "text": [
      "[1, 2, 3, 1, 2, 3, 1, 2, 3]\n",
      "[[1, 2, 3], [1, 2, 3], [1, 2, 3]]\n",
      "\n",
      "[1, 2, 3, 1, 2, 3, 1, 2, 3]\n",
      "[[0, 2, 3], [0, 2, 3], [0, 2, 3]]\n"
     ]
    }
   ],
   "source": [
    "a = [1, 2, 3]\n",
    "b = a * 3\n",
    "c = [a] * 3\n",
    "print b\n",
    "print c\n",
    "print\n",
    "\n",
    "a[0] = 0\n",
    "\n",
    "print b\n",
    "print c"
   ]
  },
  {
   "cell_type": "markdown",
   "metadata": {},
   "source": [
    "b 변수는 a의 안의 원소들 즉 정수들을 반복하는 얕은 복사를 해주어서 a[0] = 0 을 할 때 값이 바뀌지 않았고, c 변수는 a가 가리키는 참조값을 반복하는 깊은 복사를 해주었기 때문에 a[0] = 0 을 할 때 값이 바뀌었다."
   ]
  },
  {
   "cell_type": "markdown",
   "metadata": {},
   "source": [
    "####4. 다음 문자열을 ':'을 기준으로 분리하여 리스트로 만들고 각 문자열의 좌우 공백을 제거하시오 (즉, 문자열 S에서 l을 만들어라)\n",
    "\n",
    "s = '  first star   :   second star   :    third star  '\n",
    "\n",
    "l = ['first star', 'second star', 'third star']\n",
    "\n",
    "1) for ~ in 문을 이용한 코드를 작성하시오."
   ]
  },
  {
   "cell_type": "code",
   "execution_count": 34,
   "metadata": {
    "collapsed": false,
    "scrolled": true
   },
   "outputs": [
    {
     "name": "stdout",
     "output_type": "stream",
     "text": [
      "['first star', 'second star', 'third star']\n"
     ]
    }
   ],
   "source": [
    "s = '  first star   :   second star   :    third star  '\n",
    "l = ['first star', 'second star', 'third star']\n",
    "\n",
    "s = s.split(':')\n",
    "for num in range(0, len(s)):\n",
    "    s[num] = s[num].strip()\n",
    "    \n",
    "print s"
   ]
  },
  {
   "cell_type": "markdown",
   "metadata": {},
   "source": [
    "우선 s 변수를 split() 함수를 사용하여 ':' 기준으로 분리하여 리스트를 만들었다. for ~ in 문을 활용하여 각 리스트의 원소를 호출하여 strip() 함수를 사용해 공백을 제거해 주었다."
   ]
  },
  {
   "cell_type": "markdown",
   "metadata": {},
   "source": [
    "2) 리스트 내포(list comprehension)를 이용한 코드를 작성하시오."
   ]
  },
  {
   "cell_type": "code",
   "execution_count": 35,
   "metadata": {
    "collapsed": false
   },
   "outputs": [
    {
     "name": "stdout",
     "output_type": "stream",
     "text": [
      "['first star', 'second star', 'third star']\n"
     ]
    }
   ],
   "source": [
    "s = '  first star   :   second star   :    third star  '\n",
    "l = ['first star', 'second star', 'third star']\n",
    "\n",
    "s = s.split(':')\n",
    "\n",
    "s = [ s[num].strip() for num in range(0, len(s))]\n",
    "\n",
    "print s"
   ]
  },
  {
   "cell_type": "markdown",
   "metadata": {},
   "source": [
    "우선 s 변수를 split() 함수를 사용하여 ':' 기준으로 분리하여 리스트를 만들었다. 리스트 내포를 활용하여 s의 리스트 길이 만큼 리스트 원소의 공백을 제거하는 split()함수를 사용했다."
   ]
  },
  {
   "cell_type": "markdown",
   "metadata": {},
   "source": [
    "####5. 다음과 같이 0보다 큰 정수 리스트 변수 list를 인자로 받는 함수 addall(list)와 addallodd(list)를 for ~ in 리터널과 리스트 내포 방식으로 각각 제시하시오.\n",
    "1) addall(list) 함수 (리스트 내의 모든 정수를 더하는 함수로서 해답으로는 for ~ in 리터럴과 리스트 내포 방식으로 각각 제시하시오.)\n",
    "\n",
    "addall([1])\n",
    "\n",
    "= 1\n",
    "\n",
    "addall([1, 2, 3, 4, 5, 6, 7, 8, 9])\n",
    "\n",
    "= 45\n",
    "\n",
    "2) addallodd(list) 함수 (리스트내의 모든 홀수를 더하는 함수로서 해답으로는 for ~ in 리터럴과 리스트 내포 방식으로 각각 제시하시오.)\n",
    "\n",
    "addallodd([1])\n",
    "\n",
    "= 1\n",
    "\n",
    "addallodd([1, 2, 3, 4, 5, 6, 7, 8, 9])\n",
    "\n",
    "= 25"
   ]
  },
  {
   "cell_type": "code",
   "execution_count": 36,
   "metadata": {
    "collapsed": false
   },
   "outputs": [
    {
     "name": "stdout",
     "output_type": "stream",
     "text": [
      "1\n",
      "45\n"
     ]
    }
   ],
   "source": [
    "def addall(list):\n",
    "    sum = 0\n",
    "    for i in list:\n",
    "        sum += i\n",
    "    return sum\n",
    "\n",
    "print addall([1])\n",
    "print addall([1, 2, 3, 4, 5, 6, 7, 8, 9])"
   ]
  },
  {
   "cell_type": "markdown",
   "metadata": {},
   "source": [
    "for ~ in 문을 사용해 리스트 내의 모든 정수를 더하는 함수이다. 총 값을 저장할 sum 변수를 0으로 초기화하고 매개 변수로 받은 list의 원소를 각각 sum에 더해주어 sum 변수를 반환했다."
   ]
  },
  {
   "cell_type": "code",
   "execution_count": 37,
   "metadata": {
    "collapsed": false,
    "scrolled": true
   },
   "outputs": [
    {
     "name": "stdout",
     "output_type": "stream",
     "text": [
      "1\n",
      "45\n"
     ]
    }
   ],
   "source": [
    "def addall(list):\n",
    "    return sum(list)\n",
    "\n",
    "print addall([list for list in range(1, 2)])\n",
    "print addall([list for list in range(10)])"
   ]
  },
  {
   "cell_type": "markdown",
   "metadata": {},
   "source": [
    "리스트내포를 사용해 리스트 내의 모든 정수를 더하는 함수이다. 매개 변수에 리스트 내포를 사용하여 그 리스트를 가지고 내장 함수인 sum()을 사용해 그 값을 반환했다."
   ]
  },
  {
   "cell_type": "code",
   "execution_count": 38,
   "metadata": {
    "collapsed": false
   },
   "outputs": [
    {
     "name": "stdout",
     "output_type": "stream",
     "text": [
      "1\n",
      "25\n"
     ]
    }
   ],
   "source": [
    "def addallodd(list):\n",
    "    sum = 0\n",
    "    for i in list:\n",
    "        if(i % 2 == 1):\n",
    "            sum += i\n",
    "    return sum\n",
    "\n",
    "print addallodd([1])\n",
    "print addallodd([1, 2, 3, 4, 5, 6, 7, 8, 9])"
   ]
  },
  {
   "cell_type": "markdown",
   "metadata": {},
   "source": [
    "for ~ in 문을 사용해 리스트 내의 홀수만 더하는 함수이다. 총 값을 저장할 sum 변수를 0으로 초기화 하고, 매개 변수로 받은 list의 원소를 if문을 통해 홀수인지 확인하고 홀수가 맞다면 sum에 더해 최종적으로 sum을 반환한다."
   ]
  },
  {
   "cell_type": "code",
   "execution_count": 39,
   "metadata": {
    "collapsed": false
   },
   "outputs": [
    {
     "name": "stdout",
     "output_type": "stream",
     "text": [
      "1\n",
      "25\n"
     ]
    }
   ],
   "source": [
    "def addallodd(list):\n",
    "    return sum(list)\n",
    "\n",
    "print addallodd([list for list in range(1, 2) if list % 2 == 1])\n",
    "print addallodd([list for list in range(10) if list % 2 == 1])"
   ]
  },
  {
   "cell_type": "markdown",
   "metadata": {},
   "source": [
    "리스트내포를 사용해 리스트 내의 홀수만 더하는 함수이다. 매개 변수에 if문을 사요해 홀수만 존재하는 리스트 내포를 사용하여 그 리스트를 가지고 내장 함수인 sum()을 사용해 그 값을 반환했다."
   ]
  },
  {
   "cell_type": "markdown",
   "metadata": {},
   "source": [
    "####6. 다음 코드를 보고 물음에 답하시오.\n",
    "\n",
    "L1 = [1, 2, 3]\n",
    "\n",
    "L2 = [4, 5, 6]\n",
    "\n",
    "d = {'low':L1, 'high':L2}\n",
    "\n",
    "e = d\n",
    "\n",
    "f = d.copy()\n",
    "\n",
    "print d\n",
    "\n",
    "print e\n",
    "\n",
    "print f\n",
    "\n",
    "print\n",
    "\n",
    "d['low'] = [10, 20, 30]\n",
    "\n",
    "d['high'][1] = 500\n",
    "\n",
    "print d\n",
    "\n",
    "print e\n",
    "\n",
    "print f\n",
    "\n",
    "1) 위 코드의 수행 결과 d와 e는 항상 같은 결과를 출력한다. 그 이유는 무엇인가?\n",
    "\n",
    "2) 위 코드의 수행 결과 마지막 f의 내용은 다음과 같다. 이 때 'high' 키의 값 내용 중 500이 출력된 이유와 'low' 키의 값 내용 중 [1, 2, 3]이 출력된 이유를 설명하시오 ([hint]: shallow copy 관점에서 설명하시오.)\n",
    "\n",
    "{'high': [4, 500, 6], 'low': [1, 2, 3]}"
   ]
  },
  {
   "cell_type": "code",
   "execution_count": 40,
   "metadata": {
    "collapsed": false
   },
   "outputs": [
    {
     "name": "stdout",
     "output_type": "stream",
     "text": [
      "{'high': [4, 5, 6], 'low': [1, 2, 3]}\n",
      "{'high': [4, 5, 6], 'low': [1, 2, 3]}\n",
      "{'high': [4, 5, 6], 'low': [1, 2, 3]}\n",
      "\n",
      "{'high': [4, 500, 6], 'low': [10, 20, 30]}\n",
      "{'high': [4, 500, 6], 'low': [10, 20, 30]}\n",
      "{'high': [4, 500, 6], 'low': [1, 2, 3]}\n"
     ]
    }
   ],
   "source": [
    "L1 = [1, 2, 3]\n",
    "L2 = [4, 5, 6]\n",
    "d = {'low':L1, 'high':L2}\n",
    "e = d\n",
    "f = d.copy()\n",
    "print d\n",
    "print e\n",
    "print f\n",
    "print\n",
    "d['low'] = [10, 20, 30]\n",
    "d['high'][1] = 500\n",
    "print d\n",
    "print e\n",
    "print f"
   ]
  },
  {
   "cell_type": "markdown",
   "metadata": {},
   "source": [
    "(1) d = e라고 선언을 했으므로 값이 바뀌어도 d와 e는 참조하는 값이 같아 항상 같은 결과를 출력한다.\n",
    "\n",
    "(2) shallow copy일 때 참조값이 바뀐다면 shallow copy한 변수는 그 참조값으로 바꾸지 못한다. 그래서 d['high'][1] = 500을 할 때에는 참조값이 바뀐 것이 아니라 값만 바뀌었으므로 f를 출력할 때 500이 나오지만, 참조값이 바뀐 d['low'] = [10, 20, 30]을 할 때에는 참조값이 바뀌었으므로 f를 출력할 때 값이 바뀌지 않았다."
   ]
  },
  {
   "cell_type": "markdown",
   "metadata": {},
   "source": [
    "####7. 사전 d = {'one':1, 'two':2, 'three':3, 'four':4, 'five':5}가 주어졌을 때 다음 요구사항에 맞는 코드를 제시하시오\n",
    "\n",
    "1) 키의 알파벳 오름차순 순서대로 튜플 (키, 값)을 차례대로 출력하시오.\n",
    "\n",
    "2) 키의 알파벳 내림차순 순서대로 튜플 (키, 값)을 차례대로 출력하시오.\n",
    "\n",
    "3) 값의 오름차순 순서대로 튜플 (키, 값)을 차례대로 출력하시오.\n",
    "\n",
    "4) 값의 내림차순 순서대로 튜플 (키, 값)을 차례대로 출력하시오."
   ]
  },
  {
   "cell_type": "code",
   "execution_count": 41,
   "metadata": {
    "collapsed": false,
    "scrolled": true
   },
   "outputs": [
    {
     "name": "stdout",
     "output_type": "stream",
     "text": [
      "('five', 5) ('four', 4) ('one', 1) ('three', 3) ('two', 2)\n",
      "('two', 2) ('three', 3) ('one', 1) ('four', 4) ('five', 5)\n",
      "('one', 1) ('two', 2) ('three', 3) ('four', 4) ('five', 5)\n",
      "('five', 5) ('four', 4) ('three', 3) ('two', 2) ('one', 1)\n"
     ]
    }
   ],
   "source": [
    "d = {'one':1, 'two':2, 'three':3, 'four':4, 'five':5}\n",
    "\n",
    "dkeys = d.keys()\n",
    "dvalues = d.values()\n",
    "\n",
    "dkeys.sort()\n",
    "\n",
    "for i in dkeys:\n",
    "    print (i, d[i]),\n",
    "\n",
    "print\n",
    "\n",
    "dkeys.sort(reverse = True)\n",
    "\n",
    "for i in dkeys:\n",
    "    print (i, d[i]),\n",
    "\n",
    "print\n",
    "dvalues.sort()\n",
    "\n",
    "for i in dvalues:\n",
    "    for j in dkeys:\n",
    "        if(d[j] == i):\n",
    "            print (j, i),\n",
    "            \n",
    "print\n",
    "dvalues.sort(reverse = True)\n",
    "\n",
    "for i in dvalues:\n",
    "    for j in dkeys:\n",
    "        if(d[j] == i):\n",
    "            print (j, i),"
   ]
  },
  {
   "cell_type": "markdown",
   "metadata": {},
   "source": [
    "d의 사전 변수에서 dkeys 변수에 d의 키를 넣었고, dvalues 변수에 d의 값을 넣었다. 리스트 형식으로 저장이 되므로 sort() 함수와 reverse를 사용해 키의 오름차순, 내림차순, 값의 오름차순, 내림차순을 출력했다. 값의 오름차순과 내림차순을 출력할 때 if문을 사용하여 d[키]와 값을 비교했다."
   ]
  },
  {
   "cell_type": "markdown",
   "metadata": {},
   "source": [
    "####8. [프로젝트 오일러 문제 7]\n",
    "\n",
    "소수를 크기 순으로 나열하면 2, 3, 5, 7, 11, 13, ... 과 같이 됩니다.\n",
    "\n",
    "이 때 10,001번째의 소수를 구하세요."
   ]
  },
  {
   "cell_type": "code",
   "execution_count": 60,
   "metadata": {
    "collapsed": false
   },
   "outputs": [
    {
     "name": "stdout",
     "output_type": "stream",
     "text": [
      "104743\n"
     ]
    }
   ],
   "source": [
    "a = 0\n",
    "num = 2\n",
    "total = 0\n",
    "\n",
    "while(1):\n",
    "    count = 0\n",
    "    for i in range(2, num+1):\n",
    "        if(num % i == 0):\n",
    "            count += 1\n",
    "        \n",
    "    \n",
    "    if(count == 1):\n",
    "        a = num\n",
    "        total += 1\n",
    "    \n",
    "    if(total == 10001):\n",
    "        break;\n",
    "    \n",
    "    num += 1\n",
    "        \n",
    "print a"
   ]
  },
  {
   "cell_type": "markdown",
   "metadata": {},
   "source": [
    "10001번째의 소수를 구해야 하는 문제이므로 while문을 무한 반복한 뒤 for ~ in 문을 사용하여 num값을 2부터 차례대로 나누어 count == 1 이라면 소수로 인식되어 a변수에다가 그 소수를 저장하고 total값을 증가시키도록 했다. 이 과정을 반복해서 결국 total 값이 10001이라면 10001번째의 소수를 구한 것이므로 while문을 종료하고 10001번째의 소수를 출력했다."
   ]
  },
  {
   "cell_type": "markdown",
   "metadata": {},
   "source": [
    "####9. [프로젝트 오일러 문제 8]\n",
    "\n",
    "다음은 연속된 1000자리 숫자입니다 (읽기 좋게 50자리씩 잘라놓음).\n",
    "\n",
    "73167176531330624919225119674426574742355349194934\n",
    "96983520312774506326239578318016984801869478851843\n",
    "85861560789112949495459501737958331952853208805511\n",
    "12540698747158523863050715693290963295227443043557\n",
    "66896648950445244523161731856403098711121722383113\n",
    "62229893423380308135336276614282806444486645238749\n",
    "30358907296290491560440772390713810515859307960866\n",
    "70172427121883998797908792274921901699720888093776\n",
    "65727333001053367881220235421809751254540594752243\n",
    "52584907711670556013604839586446706324415722155397\n",
    "53697817977846174064955149290862569321978468622482\n",
    "83972241375657056057490261407972968652414535100474\n",
    "82166370484403199890008895243450658541227588666881\n",
    "16427171479924442928230863465674813919123162824586\n",
    "17866458359124566529476545682848912883142607690042\n",
    "24219022671055626321111109370544217506941658960408\n",
    "07198403850962455444362981230987879927244284909188\n",
    "84580156166097919133875499200524063689912560717606\n",
    "05886116467109405077541002256983155200055935729725\n",
    "71636269561882670428252483600823257530420752963450\n",
    "\n",
    "여기서 붉게 표시된 71112의 경우 7, 1, 1, 1, 2 각 숫자를 모두 곱하면 14가 됩니다.\n",
    "\n",
    "이런 식으로 맨 처음 (7 × 3 × 1 × 6 × 7 = 882) 부터 맨 끝 (6 × 3 × 4 × 5 × 0 = 0) 까지 5자리 숫자들의 곱을 구할 수 있습니다.\n",
    "이렇게 구할 수 있는 5자리 숫자의 곱 중에서 가장 큰 값은 얼마입니까?"
   ]
  },
  {
   "cell_type": "code",
   "execution_count": 61,
   "metadata": {
    "collapsed": false
   },
   "outputs": [
    {
     "name": "stdout",
     "output_type": "stream",
     "text": [
      "40824\n"
     ]
    }
   ],
   "source": [
    "a = 7316717653133062491922511967442657474235534919493496983520312774506326239578318016984801869478851843858615607891129494954595017379583319528532088055111254069874715852386305071569329096329522744304355766896648950445244523161731856403098711121722383113622298934233803081353362766142828064444866452387493035890729629049156044077239071381051585930796086670172427121883998797908792274921901699720888093776657273330010533678812202354218097512545405947522435258490771167055601360483958644670632441572215539753697817977846174064955149290862569321978468622482839722413756570560574902614079729686524145351004748216637048440319989000889524345065854122758866688116427171479924442928230863465674813919123162824586178664583591245665294765456828489128831426076900422421902267105562632111110937054421750694165896040807198403850962455444362981230987879927244284909188845801561660979191338754992005240636899125607176060588611646710940507754100225698315520005593572972571636269561882670428252483600823257530420752963450\n",
    "\n",
    "b = str(a)\n",
    "maxnum = 0\n",
    "\n",
    "for i in range(0, 996):\n",
    "    num = int(b[i]) * int(b[i+1]) * int(b[i+2]) * int(b[i+3]) * int(b[i+4])\n",
    "    if(num > maxnum):\n",
    "        maxnum = num\n",
    "\n",
    "print maxnum\n"
   ]
  },
  {
   "cell_type": "markdown",
   "metadata": {},
   "source": [
    "제시된 수를 a 변수에 우선 저장하고 str() 함수를 사용해 a 변수에 저장된 long 정수를 문자열로 바꾸어 b 변수에 저장했다. for ~ in 문을 사용하여 num에 차례대로 5개의 숫자를 더한 값을 넣어 가장 큰 값인 maxnum과 비교해 마지막으로 저장된 maxnum을 출력했습니다."
   ]
  },
  {
   "cell_type": "markdown",
   "metadata": {},
   "source": [
    "####10. [프로젝트 오일러 문제 9]\n",
    "\n",
    "세 자연수 a, b, c 가 피타고라스 정리 a2 + b2 = c2 를 만족하면 피타고라스 수라고 부릅니다 (여기서 a < b < c ).\n",
    "\n",
    "예를 들면 32 + 42 = 9 + 16 = 25 = 52이므로 3, 4, 5는 피타고라스 수입니다.\n",
    "\n",
    "a + b + c = 1000 인 피타고라스 수 a, b, c는 한 가지 뿐입니다. 이 때, a × b × c 는 얼마입니까?"
   ]
  },
  {
   "cell_type": "code",
   "execution_count": 62,
   "metadata": {
    "collapsed": false
   },
   "outputs": [
    {
     "name": "stdout",
     "output_type": "stream",
     "text": [
      "31875000\n"
     ]
    }
   ],
   "source": [
    "for a in range(1, 999):\n",
    "    for b in range(a, 999):\n",
    "        for c in range(b, 999):\n",
    "            if(a*a + b*b == c*c):\n",
    "                if(a+b+c == 1000):\n",
    "                    print a*b*c"
   ]
  },
  {
   "cell_type": "markdown",
   "metadata": {},
   "source": [
    "a + b + c = 1000 인 피타고라스 수 a, b, c는 한 가지 뿐이므로 0~1000의 범위를 가지는 3중 for ~ in 문을 사용하여 a x a + b x b == c x c을 만족하는 a,b,c 중에 a+b+c가 1000이라면 a x b x c를 출력하도록 했습니다. "
   ]
  },
  {
   "cell_type": "markdown",
   "metadata": {},
   "source": [
    "####11. [Incremental Project] 이전 Assignment 2의 마지막 문제는 웹 URL로 지정된 웹페이지를 문자열로 가져와 모든 HTML 태그 및 CSS와 Javascript를 제외한 순수 텍스트를 얻어내고 그 안에 존재하는 단어를 추출하고 단어들의 총 개수를 출력하는 프로그램을 작성하는 것이었다. 이번에는 그 마지막 숙제를 그대로 확장하여 웹 URL로 지정된 웹페이지 내 순수 텍스트 안에 존재하는 각 단어들에 대해 다음 요구사항 대로 출력하는 프로그램을 작성하시오."
   ]
  },
  {
   "cell_type": "markdown",
   "metadata": {},
   "source": [
    "저번 코드에서 구두점을 savePunc에 리스트 형태로 값을 넣고, 순수 문자열로 저장된 save 함수를 split()을 사용하여 공백 기준으로 단어가 저장되있는 리스트를 생성했습니다. 리스트이므로 for ~ in문을 사용해서 인덱스를 활용해 단어를 뽑아내고 그 단어중 savePunc에 저장된 구두점이 있다면 replace() 함수를 사용해서 공백으로 바뀌도록 했습니다. 만약 구두점을 공백으로 바꾸었는데, 그 리스트[인덱스]의 값이 빈 값이라면 save2에 단어를 넣지 않도록 했습니다. 그렇게 구두점을 제외해서 만든 리스트 save2를 for문으로 돌려 count()함수를 사용해 해당 단어의 값이 저장되있는 사전을 만들었습니다."
   ]
  },
  {
   "cell_type": "code",
   "execution_count": 19,
   "metadata": {
    "collapsed": false
   },
   "outputs": [
    {
     "name": "stdout",
     "output_type": "stream",
     "text": [
      "소리 : 1 그놈이다상승129 : 1 등록txtdate삭제intxt : 1 한글캠페인 : 1 global : 1 위하여 : 1 나눔글꼴이 : 2 라이브 : 3 6위 : 1 유지 : 1 윤소이 : 1 상대 : 1 나눔글꼴을 : 1 선호주제설정 : 1 참여하세요 : 1 adescriptionremoveUrlfunctionaforvar : 1 c0c : 1 클릭하세요 : 1 브아걸 : 1 제외 : 1 바로이동 : 1 urlhttpfinancenavercom : 1 상반기 : 1 712 : 1 LogErrorJSON : 1 기존 : 1 홈 : 3 체크 : 1 오빠들이 : 1 선수 : 1 고객센터 : 1 전국투어 : 1 주제형캐스트 : 1 작곡 : 1 사이트로 : 1 때는 : 1 위로할 : 1 제공되지 : 1 스위프트 : 1 영국 : 1 없습니다 : 1 자주 : 2 집 : 2 있습니다추가하시려면 : 1 회화 : 1 기사보기 : 1 앱 : 3 설치된 : 1 초록달 : 1 자동차 : 1 전문보기 : 2 falserunOnloadfunctionbdcifdreturnvar : 1 국어사전 : 1 주요언론사 : 2 Caps : 2 설정된 : 1 설치하세요 : 1 허지영 : 1 부동산 : 3 기온 : 2 1011 : 2 39노래방 : 1 닫기 : 7 데뷔 : 1 이용약관 : 1 폰트를 : 1 켤 : 1 삼성 : 1 풀벌레 : 1 나도 : 1 채상승171 : 1 100 : 1 카테고리 : 1 대체로 : 1 내일 : 1 가을에 : 1 확인 : 1 종합경제 : 1 33 : 1 삭제완료 : 1 주요 : 1 이용을 : 1 않고 : 1 볼 : 1 Pastel : 1 29일 : 1 경우에 : 1 채 : 2 통합검색 : 1 타임스퀘어 : 2 txt : 1 새 : 1 바람 : 1 제작 : 1 앱을 : 1 정책 : 2 외인·기관 : 2 뉴스 : 4 6 : 2 없다 : 2 type : 2 환절기 : 1 이전캐스트다음캐스트 : 1 가을 : 3 수밖에 : 1 라이프 : 1 대한 : 1 아이엠낫 : 1 개인정보 : 1 개인정보취급방침 : 1 isSupportedFlicking : 1 온스테이지 : 2 인물 : 1 검색어를 : 1 영상으로 : 1 none : 1 대해 : 1 건강 : 1 열기 : 1 8위 : 1 생활날씨 : 1 추억을 : 1 북스 : 1 메뉴 : 2 TOP : 1 저장되지 : 1 뮤지션 : 3 신청 : 1 나눔글꼴로 : 1 strHost : 1 7위 : 1 곡 : 1 어렵지 : 1 나만의 : 1 글꼴설정 : 2 삭제검색어저장 : 2 1 : 2 Imageasrchttpcecsnavercommbudocumentlocationl1115DLScriptquSXInew : 1 카페 : 2 삼성화재 : 1 증권 : 3 아이디 : 1 반드시 : 1 영자지 : 1 기록 : 3 가능합니다 : 2 다시보기 : 1 windowlocalStorageundefinedtrywindowlocalStorageclearcatchaifadescriptionLogErrorDL : 1 라이노 : 1 6원10 : 1 선보이는 : 1 Lock이 : 2 네이버를 : 1 39쇼팽 : 1 이동 : 1 문화콘텐츠공모전에 : 1 검색어는 : 1 엔트리 : 1 뉴스이슈TV : 2 생각한대로 : 1 글로벌 : 1 무대 : 1 빼고는 : 2 charsetutf8ksetRequestHeadercharsetutf8ksend : 1 일정 : 1 국민행복캠페인 : 1 실시간 : 1 연합뉴스 : 1 개인 : 2 보내기 : 1 행사 : 1 2040선 : 2 useWideLoginboxFlashtrue : 1 주요뉴스를 : 1 2015 : 1 하이라이트 : 2 단독 : 1 TV중계 : 1 아이디어 : 1 시작페이지로 : 1 질문형 : 1 오늘의 : 1 승리 : 1 검색어로 : 1 윤디의 : 1 게임 : 2 노래 : 1 춤 : 1 위해서는플래시 : 1 신현빈 : 1 빠른 : 1 전송은 : 1 새마을금고 : 2 버튼을 : 1 NAVER : 2 사용하고 : 1 입력 : 1 최근검색어 : 1 버즈의 : 1 비밀번호 : 1 내PC : 1 회원가입 : 1 7 : 2 취소 : 2 검색어를내 : 1 6789101112 : 1 꽃 : 1 자켓 : 1 NPay : 1 지워주세요 : 1 달롱마트 : 1 무료입니다 : 1 쇼핑 : 2 웹문서 : 1 유형 : 1 경기 : 1 않습니다자세히보기 : 1 발생합니다 : 1 선택 : 1 아이디찾기비밀번호 : 1 사자에 : 2 지도 : 2 5회차 : 1 않는 : 1 보세요 : 2 txttxt : 1 XIA준수 : 1 테일러 : 1 TV캐스트 : 1 구독설정 : 1 isLogin : 1 10개 : 1 않은 : 1 회사소개 : 1 isIPAD : 1 현재시스템글꼴 : 1 투데이 : 1 첫 : 1 보호를 : 1 로그아웃을 : 1 ArrayquSnew : 1 고객님의 : 1 웹툰 : 2 선공개 : 1 copy : 1 최대 : 1 보도 : 1 뮤직 : 5 도움말 : 7 12 : 1 감상회 : 1 etcreturn : 1 번다 : 1 하루 : 1 대통령39의 : 1 PC에서는 : 1 미리보기 : 1 false : 5 sqarejson11 : 1 학습 : 1 영어 : 1 모든 : 2 무료로 : 2 촬영현장 : 1 차테크 : 1 우쿨교실 : 1 null : 1 truereturn : 1 오류 : 1 사전 : 2 뉴스이슈 : 1 데일리메일 : 1 등록를 : 1 트와이스상승66 : 2 기업을 : 2 미세먼지 : 1 목요일 : 1 기억하시죠 : 1 LogErrorfunctionbvar : 1 메인에서 : 1 켜기 : 5 있습니다 : 5 clearLS : 1 refreshLcsetc : 1 httpnv1adnavercomadshowunit002ANnrefreshx0 : 1 1위 : 1 4위 : 1 시사상식 : 1 채용 : 2 초대 : 1 오늘 : 2 b0bifthisquSbathisquSb : 1 번호는 : 1 마이다스아이티 : 1 단체상봉 : 1 오픈캐스트 : 1 최신 : 1 메인을 : 2 일회용 : 1 올라 : 1 3위 : 1 상태 : 1 초대권 : 1 aDLScriptquSXIlengthforvar : 1 어쿠스틱 : 1 윤소이상승705 : 1 공모전 : 1 지역 : 2 이주의 : 1 찾기 : 1 N드라이브 : 1 당신을 : 1 사용 : 2 현재 : 2 위엄 : 1 8 : 1 당신의 : 1 다시 : 2 검색등록 : 1 검색 : 2 Nshortcutname금융 : 1 피부 : 1 자동완성 : 10 13 : 1 abreadyStateiftypeof : 1 clearLSfunctioniftypeof : 1 네이버뉴스연예스포츠경제랭킹뉴스 : 1 구독목록 : 1 용어사전 : 1 재보궐선거 : 1 영상 : 2 신규 : 1 initPage : 1 코끝에 : 1 전체보기 : 1 되나요 : 1 수 : 2 JYP에서 : 1 8℃ : 2 ifdocumentcookieindexOfnrefreshx1 : 1 광고 : 3 알림 : 1 전체 : 2 드라마 : 2 공지사항 : 1 저녁 : 1 KS : 1 9위 : 1 영어사전 : 1 도박 : 1 이대은 : 1 해피빈쥬니버한게임 : 1 b0bifthisquSbareturn : 1 공익나눔 : 1 주제별캐스트 : 1 검색해 : 1 qstidx0 : 1 설치해야 : 1 공용 : 1 강의 : 1 메일 : 1 2위 : 1 주세요 : 1 다음 : 1 PC에서 : 1 선거일까지 : 1 합니다나눔글꼴을 : 1 눈앞 : 2 백과사전 : 1 선택하여 : 1 끝나…눈물 : 1 나눔글꼴 : 7 mismatchbeforematchmismatchafter : 2 앱스토어new : 1 httpnv2adnavercomadshowunit002APnrefreshx0 : 1 신과함께상승390 : 1 전체언론사 : 2 해 : 1 다운로드URL : 2 코스피 : 2 검색어 : 10 8시 : 1 이러니 : 1 변경에 : 1 매거진전문지 : 1 urlhttpweathernavercom : 1 최근검색어내 : 1 월화 : 2 한 : 2 스포츠연예 : 1 카페명 : 1 활성화되었습니다 : 1 Beta : 1 설정 : 1 DLScriptloadDShttpspmnavernetjscJEagleEyeClient20120111minjsv2 : 1 작곡하기 : 1 계십니다 : 1 신인 : 1 생활위젯 : 1 음악 : 4 catch : 1 신고검색어저장 : 4 한번 : 1 보기 : 2 이 : 1 동부 : 1 삭제한 : 1 qstsize2 : 1 뉴스스탠드 : 2 isMyCast : 1 걸그룹 : 1 이유는 : 1 상영 : 1 차유람 : 1 이채언루트10월 : 1 설치해주세요설치방법 : 1 원인 : 1 5년 : 1 10월 : 1 쓰는 : 1 vs : 1 elseifgsetTimeoutg100injectScriptsfunctionvar : 1 행복검색 : 1 해도 : 1 만들어드려요 : 1 보기위해서는나눔글꼴 : 1 신현빈상승651 : 1 여전한 : 1 제휴제안 : 1 서비스 : 2 까지 : 1 html : 2 반할 : 1 returnifloadedacompleteabonloadDonebonloadDonetruesetTimeoutd100elseifthisretry0iikopenGETcltrueksetRequestHeaderContentTypeapplicationxwwwformurlencoded : 1 내역이 : 1 9 : 3 필요합니다 : 1 다운로드 : 2 경우 : 1 aundefinedbonloadDonebonloadDonetruecsetTimeoutd100bonloadd : 1 리그 : 3 문자받기 : 2 위해서는nbsp나눔글꼴을 : 1 바로 : 2 IT : 1 귀에 : 1 펼치기 : 1 전문자료 : 1 더보기 : 2 11억씩 : 1 영화 : 5 확인되지 : 2 lcsdorefreshLcs : 1 TV : 1 네이버me : 1 최초설치가 : 1 intxt : 1 edescription : 1 재설치가 : 1 방송통신 : 1 이산가족 : 1 동영상 : 1 미세먼지상승54 : 1 본문 : 1 쏙쏙 : 1 생방송 : 1 트와이스 : 2 TV동영상 : 1 스페셜리스트39 : 1 게 : 2 패밀리 : 1 공개 : 1 바로가기 : 6 행복시간표 : 1 토닥 : 1 만성기침의 : 1 맑고…기온 : 1 지식iN : 2 검색어가 : 1 카페글 : 1 찾는 : 1 2단계 : 1 약관 : 1 라인 : 1 IP보안 : 2 이전페이지다음페이지 : 2 해제txt : 1 가볍고 : 1 마이다스아이티상승372 : 1 않아요 : 1 온 : 1 연루 : 1 같은 : 1 주제별 : 1 그놈이다 : 1 5위 : 1 etcetcetcetcmrf1return : 1 책 : 3 ‘개인정보취급방침’ : 1 차유람상승672 : 1 너도나도 : 1 일본어사전 : 1 끄기 : 7 설치 : 3 임의로 : 1 10위 : 1 이대은상승597 : 1 포함 : 2 Lshortcutname날씨 : 1 주간예보 : 1 않습니다나눔글꼴로 : 1 네이버SE : 1 남은 : 2 image7 : 1 금융 : 1 및 : 3 KCC : 1 보안로그인 : 1 건선주의보 : 1 wwwnavercom : 1 네이버캐스트 : 1 bthisquSlength1 : 2 입력하신 : 1 라이센스 : 2 내 : 6 블로그 : 2 프로그램 : 2 현대캐피탈 : 1 검색홈 : 1 MY뉴스 : 1 만에 : 2 긍정부정검색 : 1 켜져 : 2 해볼까 : 1 낙엽 : 1 var : 10 Corp : 1 네이버 : 14 아이유 : 1 function : 1 기능을 : 2 한자사전 : 1 1020화 : 1 영영사전 : 1 레이어 : 4 플레이어를 : 1 저장 : 2 후보에 : 1 안내 : 3 설치하시겠습니까 : 2 포토 : 1 스포츠 : 5 피는 : 1 쇼핑캐스트 : 2 사이트 : 3 역대춤 : 1 기능이 : 5 anew : 1 메인뉴스 : 1 청소년보호정책 : 1 공연 : 1 앨범 : 1 급상승 : 1 있어요 : 1 신과함께 : 1 39심쿵39하게 : 1 언론사별 : 1 제대로완료되지 : 1 사용자가 : 2 4월29일 : 1 브아걸의 : 1 저장할 : 1 바다 : 1 5 : 4 이미지 : 1 휴대폰번호 : 1 저장해 : 1 isMobile : 1 0393점슛 : 1 꺼져 : 3 매체보기 : 1 없습니다최근검색어에서 : 1 9년 : 1 렐레의 : 1 이전다음 : 1 로그인 : 5 e : 1 Arrayretry0isLoadfunctionaforvar : 1 들어오는 : 1 11개039 : 1 이전 : 1 svr : 1 이렇게 : 1\n",
      "순수 문자열 안의 총 단어 개수 : 838\n"
     ]
    }
   ],
   "source": [
    "import urllib2\n",
    "import string\n",
    "\n",
    "source = urllib2.urlopen(\"http://www.naver.com\").read()\n",
    "\n",
    "i = 0\n",
    "save = ''\n",
    "save2 = []\n",
    "dic = {}\n",
    "\n",
    "while(i < len(source)):\n",
    "    if(source[i] == '<'):\n",
    "        while(source[i] != '>'):\n",
    "            i += 1\n",
    "        else:\n",
    "            i += 1        \n",
    "    else:\n",
    "        save += source[i]\n",
    "        i += 1        \n",
    "        \n",
    "save = save.replace(\"//\", \"\")\n",
    "save = save.replace(\"-->\", \"\")\n",
    "\n",
    "savePunc = string.punctuation\n",
    "save = save.split()\n",
    "                         \n",
    "for i in range(0, len(save)):\n",
    "    for punc in savePunc:\n",
    "        save[i] = save[i].replace(punc, \"\")\n",
    "    if(save[i] != ''):\n",
    "        save2.append(save[i])\n",
    "        \n",
    "for word in save2:\n",
    "    count = save2.count(word)\n",
    "    dic[word] = count\n",
    "    \n",
    "for word in dic:\n",
    "    print word, ':', dic[word],\n",
    "    \n",
    "print\n",
    "\n",
    "print \"순수 문자열 안의 총 단어 개수 : %d\" % len(save2)"
   ]
  },
  {
   "cell_type": "markdown",
   "metadata": {},
   "source": [
    "네이버 사이트"
   ]
  },
  {
   "cell_type": "code",
   "execution_count": 18,
   "metadata": {
    "collapsed": false,
    "scrolled": false
   },
   "outputs": [
    {
     "name": "stdout",
     "output_type": "stream",
     "text": [
      "top7px : 1 상승145 : 2 titstory : 11 0fontweightboldfontsize11pxlineheight13pxfontfamilytahomasansserifcolor949494 : 1 6px : 22 titissuerank : 2 suggestBox : 75 wrapthesong : 1 promotionimg : 8 linkprotect : 1 브런치홈 : 1 height103pxmargintop9px : 2 displayblockheight15pxmarginleft15pxpaddingtop14pxlineheight15px : 1 icocolon : 1 top52pxheight22pxlineheight24px : 1 지나치게 : 1 realestateon : 2 left15px : 3 카메라로 : 1 셔츠만입었을 : 1 팁 : 3 코오롱폭탄가장난아냐넘싸 : 1 border1px : 2 txtapp : 1 380px : 4 9px : 6 width188pxheight159pxpadding0 : 1 bottom8px : 1 qafter : 1 movieon : 2 overflowhiddenpadding4px : 1 영국 : 1 a5a6acbordertop0 : 1 titdaum : 1 거 : 1 displayblockheight30px : 1 44억39 : 1 유지 : 1 icosuggest2 : 1 backgroundposition481px : 2 자동차 : 1 positionabsolutetop0left264pxwidth16pxheight35pxbackgroundposition140px : 1 bottom7px : 1 eeeef0backgroundcolorfbfbfb : 1 overflowhiddenwidth201pxmargintop19px : 1 1014212 : 1 느껴봐 : 1 하락 : 2 hide : 1 width110pxheight12pxmargin4px : 1 브라질 : 1 9pxlineheight17px : 1 partevent : 33 backgroundposition378px : 4 wrapshop1 : 1 numreader : 1 wrapshop3 : 1 wrapshop2 : 1 wrapshop5 : 1 wrapshop4 : 1 displayblockwidth40pxheight40pxmargin11px : 1 width232pxpaddingright9pxtextaligncenter : 1 positionabsolutetop45pxleft0width184pxheight220pxpaddingbottom5pxbackgroundcolorfff : 1 4pxlineheight18pxbackgroundurlhttpi1daumcdnnetdecocomicstopdeco2014v2imgdaumvertv3pngv1130 : 1 height555px : 1 backgroundurlhttpi1searchdaumcdnnetssearchall2011icoicosuggest20110721gif : 1 left7px : 1 icopushhover : 1 appnew : 1 98px : 2 170pxtextindent9999px : 1 displayinlinefloatleftwidth31pxheight31pxmargin18px : 1 positionabsolutetop104pxleft0width280pxheight309pxbackgroundposition0 : 1 copytxt : 1 재벌딸미시의예쁜롱원피스 : 1 listmall : 3 norepeattextindent999em : 1 bottom21pxright295px : 1 height250px : 1 444backgroundcolorfff : 1 지분 : 1 다음앱 : 3 편성 : 1 fontstylenormalfontweightnormal : 1 wrapblog : 2 195℃ : 2 paddingtop5px : 1 spanlinkprogram : 1 norepeatcolorffftextaligncenter : 1 뉴스 : 2 floatleftwidth9pxheight13pxmargin3px : 1 backgroundurlhttpi1daumcdnnetdecotop2012startblognone20121023png : 1 물리쳤지만 : 1 verticalreader : 20 종료 : 2 열정樂서 : 1 floatleftlineheight15px : 1 horizontalimg : 12 눈을 : 1 color222 : 2 appimport : 2 labsecurity : 2 backgroundposition349px : 2 defaultimg : 22 overflowhiddenwidth181pxmargintop16pxletterspacing1px : 1 color5778ff : 1 backgroundposition40px : 5 wrapsearch : 1 되는 : 1 목록 : 1 height44pxmargin0 : 1 color3c77eb : 1 19px : 5 425px : 1 backgroundposition15px : 1 4pxfontsize11pxlineheight14pxtextalignleftwhitespacenowraptextoverflowellipsis : 1 cafeguisortablehelper : 1 displayblockwidth93pxheight27pxmargin15px : 1 w26 : 2 w27 : 2 w24 : 2 w25 : 2 w22 : 2 w23 : 2 0directionltr : 1 w21 : 2 answer : 2 일 : 1 width182pxheight123pxmargin0 : 1 닫은 : 1 w28 : 2 w29 : 2 relaycenter : 1 overflowhiddenwidth776pxpadding13px : 1 50px : 1 lablogin : 1 공중그네 : 1 79px : 1 인기기획전 : 1 강릉 : 1 보름앞시민 : 1 displayblockwidth248pxmargin0 : 1 overflowhiddenwidth170pxpadding0 : 1 dbdbdbborderleft1px : 1 color25ad8b : 1 top135pxleft369pxwidth21pxheight17pxbackgroundposition60px : 1 backgroundposition130px : 4 width278pxmargintop5px : 1 floatleftwidth53pxheight20pxfontsize11pxlineheight20pxbackgroundposition170px : 1 dee1e6 : 1 numstatus : 4 3040미시극찬겨울까지따뜻 : 1 모으기 : 1 boxtit : 11 linkhome : 3 overflowhiddenpositionabsolutebottom14pxleft11pxwidth100pxheight18pxpaddingleft30pxlineheight21pxbackgroundposition0 : 1 844px : 1 loginset : 11 실시간 : 2 overflowhiddenpositionabsolutetop30pxleft55pxwidth71pxheight87pxtextaligncenter : 1 9위 : 2 overflowhiddenwidth280pxheight35pxlineheight15px : 1 floatleftlineheight15pxletterspacing1px : 1 전주 : 1 나서나 : 1 color777 : 1 clb : 1 패턴루즈핏 : 1 todaylink : 8 0fontsize11pxlineheight13pxbackgroundposition0 : 1 numindex : 3 145pxtextaligncenter : 1 동조 : 1 linkdirect : 1 floatrightwidth62pxheight26pxbackgroundposition170px : 1 공존을 : 1 overflowhiddenpaddingtop3px : 1 오늘의 : 3 운세 : 1 무기로 : 1 repeatxletterspacing1pxclearboth : 1 txtthesong : 1 작업이나 : 1 typefstbig : 7 000opacity01filteralphaopacity10 : 1 1226pxletterspacing1px : 1 375 : 1 backgroundposition440px : 1 660px : 3 positionabsolutetop0left0zindex1width14pxheight13pxtextindent9999pxcursorpointer : 1 headlayer : 1 floatleftwidth152pxheight22pxpaddingleft9pxborder0 : 1 13px : 1 450px : 1 positionabsolutepaddingright7pxfontsize11pxlineheight14pxbackgroundposition100 : 1 39데이터 : 1 color262626letterspacing1px : 1 국회의장 : 1 990px : 3 webtoonon : 2 overflowhiddenwidth278pxpaddingtop31px : 1 비밀번호 : 2 1870px : 1 width53pxbackgroundposition40px : 1 left59pxwidth58pxbackgroundposition60px : 1 backgroundposition290px : 2 layerevent : 1 광고 : 1 발목 : 1 wrapcafe : 2 positionabsolutetop30pxleft1pxzindex0width179pxheight87pxbackgroundimageurlhttpi1daumcdnnetdecocomicstopdeco2014v2transparentgif : 1 icodisk : 1 블라우스입었을때 : 1 쇼핑 : 4 icomarket : 1 상승79 : 2 displayblockheight100 : 1 체험학습 : 1 positionabsolutetop34pxleft0height33pxpadding0 : 1 blogon : 2 txtgap : 1 zindex1backgroundcolor4e82eebackgroundposition0 : 1 180px : 1 0paddingtop4pxfontbold : 1 textdecorationunderline : 4 지도 : 3 color2156c0 : 2 layerservice : 26 width278pxheight217px : 1 txtslash : 2 backgroundposition471px : 3 때 : 2 top : 1 linkphone : 1 positionabsolutetop222pxleft214pxzindex103width466pxheight380pxbackgroundurlhttpi1daumcdnnetdecotop2012startpopie620121026png : 1 displayinlinecolorfff : 1 많은 : 1 inputselecttextareabutton : 1 width179pxheight116px : 1 박근혜 : 1 displayblockfontsize11pxcolor737373textaligncenterletterspacing1px : 1 width100paddingright0fontsize11pxcolorbababa : 1 웹툰 : 2 btnlogin : 2 linktithover : 24 이동통신업체 : 1 icoplay : 9 메세··· : 1 1pxborder0 : 3 headermainasidearticlefooter : 1 1pxbackgroundcolore8e8e8 : 1 backgroundfff : 1 minus : 1 fontweightboldfontfamily돋움dotumhelveticasansserifcolor557df6 : 1 67px : 1 인기 : 1 조혜정 : 2 e1e1e1borderleft1px : 1 width46pxbackgroundposition2px : 1 infoevent : 1 overflowhiddenpositionabsolutetop19pxright79pxheight25pxbackgroundimageurlhttpi1daumcdnnetdecocomicstopdeco2014v2transparentgiftextindent9999px : 1 650px : 1 7pxcolor000 : 1 링크모음 : 3 bottom20pxleft155px : 2 인재채용 : 1 스타일리쉬한 : 1 floatleftpadding0 : 4 displayinlineoverflowhiddenfloatleftwidth83pxheight93pxpadding23px : 1 진짜 : 1 페이지7 : 2 고통스런하나 : 1 margintop9pxlineheight18pxcolor5b5b5b : 1 floatleftwidth25pxheight15pxlineheight15pxmargin2px : 1 colore73923 : 1 프로세스 : 1 페이지4 : 1 positionrelativewidth181pxpaddingtop22px : 1 6pxborderright1px : 1 parttoday : 136 tv팟 : 3 colorg : 11 178℃ : 1 left212px : 1 195px : 1 wraptv : 10 0lineheight15pxbackgroundcolorfff : 1 titnews : 4 sportson : 2 구글 : 1 backgroundposition170px : 11 발표 : 1 width123px : 1 displayinlinewidth236pxheight52pxmargin19px : 1 티스토리 : 1 한국학교독도를 : 1 세련된느낌브랜드퀄리티 : 1 검색등록 : 1 검색 : 3 촬영지 : 1 toeaebefbackgroundimagemozlineargradienttop : 1 9pxlineheight21pxtextalignleftcursorpointer : 1 marginleft1pxfontnormal : 1 cursordefault : 1 positionabsolutetop9pxright10pxwidth62pxheight19pxpaddingleft2pxbackgroundposition285px : 1 bar : 3 699px : 1 listfavorsch : 3 전성기 : 1 titfavor : 3 color24adc0 : 1 width267pxpadding26px : 1 marginleft3pxpaddingleft13pxbackgroundurlhttpi1daumcdnnetimgsrcsearchsearchall2012icoicocomm2120614gif : 1 gameon : 2 overflowhiddenpositionabsoluteleft24pxwidth153pxheight21pxpaddingleft8pxfontsize11pxlineheight22pxcolor96969bletterspacing1pxcursortext : 1 여야 : 1 gulim굴림sansserifcolor000 : 3 overflowhiddenbackgroundurlhttpi1daumcdnnetdecocomicstopdeco2014v2btndaumv3pngv1247 : 1 margintop9pxlineheight19pxcolor757474 : 1 floatleftpaddingright4px : 1 nummsg : 1 titbrunch : 4 left205px : 2 top75pxwidth367pxheight20pxpadding8px : 1 displayinlineblockpadding11px : 1 best : 3 0backgroundposition100 : 1 top0right18px : 1 layoutpromotion : 2 paddingtop16px : 1 wrapbestreader : 1 사라진마지막 : 1 aactive : 1 팀별 : 1 17pxborder1px : 1 linkagora : 7 paddingleft46pxbackgroundposition0 : 1 newg : 6 width13pxbackgroundposition170px : 1 inpagain : 1 txtlabel : 7 top83pxleft365px : 1 tiertopexpand : 1 귀국 : 1 용산구 : 1 marginleft3pxfont12px14px : 2 점점 : 1 롯데닷컴 : 2 top156pxleft229px : 1 tophead : 1 캐나다 : 1 teamaway : 1 어학사전 : 1 시대를 : 1 backgroundposition55px : 1 width51pxbackgroundposition180px : 1 displayblockoverflowhiddenwidth78pxheight16pxmargintop8pxfontweightboldlineheight17pxcolorfffletterspacing1px : 1 titbook : 4 rolltxt : 1 margintop10pxlineheight19pxcolor7c7c7c : 1 titentertain : 4 displayinlinepaddingleft11pxbackgroundurlhttpi1daumcdnnetdecocomicstopdeco2014v2barplatepngv1102 : 1 overflowhiddenwidth271pxmarginleft3pxletterspacing1px : 1 125px : 6 청춘의 : 1 displayblockmargintop2pxfontsize11pxcolor262626 : 1 해적은 : 1 200px : 4 3f78dffontsize12pxlineheight17pxfontfamily굴림gulimsansserifbackgroundcolorfff : 1 whitespacenowrap : 1 linkimghover : 2 contsort : 2 dotg : 1 eventshop : 2 1pxlineheight14pxverticalaligntopwhitespacenowrap : 1 left80pxwidth177pxbackgroundposition285px : 1 tflogin : 1 마일리지 : 1 8대11 : 1 backgroundurlhttpi1daumcdnnetdecocomicstopdeco2014v2imgdaumvertv3pngv1130 : 1 750px : 1 favoron : 2 backgroundposition380px : 1 linkservice : 1 eaebefbackgroundimagelineargradientto : 1 cont : 2 39들불39 : 1 overflowhiddenwidth181pxheight142pxbackgroundurlhttpi1daumcdnnetdecocomicstopdeco2014v2bgweatherpngv1102 : 1 조철현 : 1 pagedaum : 6 d8d9dbborderbottom1px : 1 linkmore : 2 칼에 : 1 통합 : 1 plateg : 13 숨기는우리 : 1 13pxpaddingright6pxfontsize11pxbackgroundposition100 : 1 overflowhiddenpositionabsolutetop0left0height18pxpadding0 : 1 linkjoin : 1 0textalignrightletterspacing0 : 1 bottom22pxleft265px : 2 titmyset : 1 11pxfontsize14pxlineheight17pxwhitespacenowraptextoverflowellipsis : 1 71pxcolor666letterspacing1px : 1 linkbnr2 : 3 overflowhiddenwidth444pxbackgroundposition0 : 1 backgroundcolorfff : 1 9pxlineheight15px : 1 0lineheight15pxbackgroundposition270px : 1 backgroundposition30px : 2 width30px : 1 displayblockpositionrelativeheight100px : 1 paddingleft9pxbackgroundposition4px : 1 iconew : 1 5찬스 : 1 페이지9 : 1 페이지8 : 2 추천 : 2 페이지2 : 1 페이지1 : 2 ㅈㅊ : 1 padding0 : 6 페이지5 : 2 left : 2 verticalimg : 13 icocafehot : 1 shortcutghover : 1 layertoday : 50 quotes : 1 overflowvisibleheight340px : 1 447px : 1 1pxbackgroundposition145px : 1 margintop5pxfontsize11pxcolor878787letterspacing1px : 1 전등 : 1 17pxbackgroundposition100 : 1 국내 : 1 3px : 4 linksale : 1 titnotice : 1 nameuser : 1 left224pxbackgroundposition225px : 1 공감 : 7 txtcont : 4 72pxcolor878787letterspacing1px : 2 backgroundposition390px : 4 width43pxbackgroundposition0 : 1 suggestBoxreverseType : 2 listimgtxt : 12 dindex : 7 11pxlineheight18pxbackgroundposition90px : 1 btnvideo : 1 top251pxleft370pxwidth20pxheight24pxbackgroundposition15px : 1 심리학자 : 1 bookon : 2 backgroundposition100px : 2 2px : 6 467px : 1 relmy : 1 wrapfun : 1 btnsearch : 1 displayblockheight12pxpaddingtop7pxfontsize10pxlineheight12pxcolor848484 : 1 bodydivdldtddulollih1h2h3h4h5h6precodeformfieldsetlegendtextareapblockquotethtdinputselecttextareabutton : 1 btnassay : 1 displayinlinemarginleft1pxpaddingleft2pxbackgroundurlhttpi1daumcdnnetdecocomicstopdeco2014v2imgdaumvertv3pngv1130 : 1 displayinlineblockmargin4px : 1 탭 : 10 거실비밀공간어머너무신기 : 1 bottom : 2 positionabsolutetop33pxright0width515pxpadding16px : 1 400px : 12 msgreset : 1 left158px : 1 wrapmiznet : 1 뉴스펀딩 : 1 boxcont : 1 displayinlinefloatrightwidth84pxheight15pxmargin14px : 1 0letterspacing1pxcursorpointer : 1 floatleftpaddingleft7pxlineheight15pxbackgroundposition0 : 1 iSTYLE24 : 1 padding36px : 1 스타일 : 1 0px : 1 width17pxbackgroundposition93px : 1 및 : 2 spetype2 : 6 spetype3 : 3 spetype1 : 3 txtblue : 1 linkbnr : 2 plus : 1 접근성 : 1 Best : 1 546px : 1 17pxbackgroundposition0 : 1 20pxtextaligncenter : 1 paddingleft50pxbackgroundposition0 : 1 블로그 : 3 740pxcolor209bdbcursorpointer : 1 linksvc : 2 paddingleft44pxbackgroundposition0 : 1 paddingtop25px : 2 imginit : 11 news5tabon : 2 stocksteady : 2 89px : 3 156px : 11 326pxcolor333 : 1 color888 : 1 cafeon : 2 신규앱 : 1 noticecafe : 2 overflowhiddenwidth278pxheight307pxpaddingtop31pxborder1px : 1 displayinlinefloatrightpadding0 : 2 color555 : 4 안내 : 2 11pxfontsize12pxlineheight17px : 2 스포츠 : 3 웹 : 1 2219 : 1 fontsize20pxlineheight23px : 1 13pxfontsize11pxlineheight14pxcolor959595letterspacing1pxverticalaligntop : 1 padding1px : 2 linkcont : 20 listtoday : 8 labid : 1 희망해 : 3 top47pxwidth94pxheight16pxpadding5px : 1 모으다 : 1 sectionmedia : 44 displayinlineverticalaligntop : 1 txtstate : 1 66px : 9 shop1on : 3 dotted : 1 tit : 1 임신부들 : 1 mystockon : 4 14px : 1 headlinespe : 11 eaebefbackgroundimageolineargradienttop : 1 top81pxleft369px : 1 labsteady : 1 top8pxright8px : 1 floatrightlineheight15pxletterspacing1px : 1 인기를 : 1 서비스약관 : 1 HOT : 1 따뜻가을신상3040동안코디 : 1 fontsize11pxletterspacing1px : 1 linkconthover : 2 shop3on : 3 개인정보 : 1 220px : 4 pagetype2 : 15 icolive : 1 paddingleft12pxbackgroundposition0 : 1 fst : 5 옥션 : 1 displayblockoverflowhiddenheight40pxheight63pxpadding12px : 1 txtblue2 : 1 color6d3fdf : 1 linkdaum : 1 displayinlinefloatleftwidth164pxheight46pxmargin29px : 1 675pxcolor7a7c83letterspacing1px : 1 정준오 : 1 footdaum : 12 positionabsolutetop64pxleft0width940pxheight64px : 1 partspecial : 19 displayblockoverflowhiddenpositionrelativewidth280pxheight219pxmargintop5px : 1 show : 1 본 : 1 0 : 202 186℃ : 1 linkhelp : 1 고품격퀄리티3040미시추천 : 1 floatleftwidth63pxheight42pxmargin0 : 1 eaeaeaborderbottom1px : 1 36px : 5 quot임신이 : 1 textdecorationnone : 3 displayinline : 1 scoregame : 4 220pxverticalaligntoptextindent9999px : 1 innerfoot : 1 ahover : 1 width42pxbackgroundposition270px : 1 77px : 1 item : 1 11pxbordertop1px : 1 66pxcursordefault : 1 infomy : 1 width16pxheight15pxbackgroundposition70px : 1 베스트100 : 1 backgroundposition340px : 2 fontfamily굴림gulimsansserifcolor363b4a : 1 6화 : 1 CJ몰 : 1 55pxtextindent9999pxcursorpointer : 2 50pxmargintop22pxbackgroundcolorf0f0f0clearboth : 1 imgvert : 2 라이프 : 2 infonotice : 1 overflowhiddenwidth271pxheight55pxmarginleft7pxpaddingtop6px : 1 msgsave : 1 회사를 : 1 width63pxbackgroundposition210px : 1 width179pxheight95px : 1 캔자스시티 : 1 하프클럽 : 1 멜빵 : 1 안 : 1 부동산 : 2 color4559e9 : 2 4199 : 1 msgmyset : 1 displaytablecellpositionabsoluteleft0top0width100height100 : 1 titgame : 4 innermain : 1 overflowhiddenpositionrelativewidth188pxheight339pxbordertop1px : 2 199px : 1 주요 : 2 서안지구서 : 1 zindex1backgroundcolor4e82eebackgroundposition171px : 1 rank10 : 1 linkconthome : 5 verticalsong : 17 170px : 1 8460 : 1 tistoryguisortablehelper : 1 clearboth : 1 수원 : 1 floatleftmargintop11pxpaddingright2pxcolor3a5fb9letterspacing1px : 1 displayblockmargin6px : 1 displayinlineblockwidth280pxheight150pxfontsize0lineheight0verticalaligntop : 1 txtdaum : 2 backgroundposition210px : 2 linksvcmore : 1 titsports : 4 발표할 : 1 연예 : 2 32pxfontweightboldbackgroundposition0 : 1 overflowhiddenpositionabsolutetop0left0zindex1width15pxheight15pxtextindent9999px : 1 가을 : 1 icorecom : 2 35pxcolor444 : 1 msgerror : 1 반하는 : 1 width36pxheight13pxmargin0 : 1 제목 : 22 width181pxheight118px : 1 listissue : 20 8위 : 2 listdaumapp : 5 807px : 1 wrapfavor : 9 textindent9999px : 1 Daum : 2 topservice : 15 marginright4pxfontbold : 1 ㅋㅎ : 1 26pxborderbottom1px : 1 noneverticalaligntop : 1 headdaum : 2 재밌는 : 2 7위 : 2 tfkeyword : 1 fontweightnormalcolorfff : 2 overflowhiddenpositionabsolutetop48pxleft95pxwidth13pxheight16pxbackgroundposition0 : 1 8pxlineheight15pxbackgroundurlhttpi1daumcdnnetdecocomicstopdeco2014v2imgdaumvertv3pngv1130 : 1 fontweightbold : 3 left353px : 1 icosteady : 1 margintop14px : 1 floatleftpositionrelativewidth427pxpaddingleft25px : 1 width54pxbackgroundposition40px : 1 btnlogout : 1 셀프눈썹타투지금 : 1 초특가2만원대80darr : 1 boxlst : 3 innertag : 1 몹보이 : 1 width31pxbackgroundposition310px : 1 titshop5 : 3 titshop4 : 3 floatright : 2 39마션39 : 1 titshop1 : 3 abb5bdbordertop0 : 1 titshop3 : 3 titshop2 : 3 정보 : 8 이승우에게 : 1 핼러윈 : 1 q : 1 181℃ : 1 displayblock : 34 linkrecom : 1 따뜻한 : 1 1430px : 8 floatleftcolor6d7078 : 1 displayblockoverflowhiddenfloatleftwidth88pxheight34pxmargintop1pxfontsize12pxlineheight18pxletterspacing0 : 1 lst : 1 rellink : 1 timenum : 1 아이들이 : 1 14pxbackgroundposition450px : 1 큰 : 1 floatleftbackgroundposition0 : 1 좋은 : 2 txtpso : 1 ndash : 1 로드뷰 : 1 backgroundcolorf0f0f0 : 1 blockquote : 1 w20 : 2 7pxbordertopnoneborderbottom1px : 1 admaintopad : 1 277pxcolor2c74e0 : 1 시도 : 1 headlineimg : 12 신의진 : 2 displayinlineblockpaddingright10pxmargintop11pxbackgroundposition100 : 1 cursorpointer : 1 피핀 : 1 displayblockoverflowhiddenwidth174pxheight29pxpadding18px : 1 displayinlineblockwidth2pxheight7pxmargin4px : 1 폭탄39 : 1 displayinlineblockwidth18pxheight7pxmargin4px : 1 총학 : 1 영상 : 1 contthesong : 4 displayblockfontsize11pxlineheight14pxcolor878787 : 1 f2f2f4 : 1 1165px : 1 contshopbest : 37 positionabsolutetop0left92pxwidth154pxheight75pxpaddingleft12pxfontsize11pxbackgroundcolorfbfbfbbackgroundposition285px : 1 inpsteady : 1 알고도 : 1 linkthumb : 4 G마켓 : 1 오르다 : 1 점수 : 1 floatleftmargin11px : 2 193℃ : 1 160℃ : 1 width28pxbackgroundposition75px : 1 미즈넷 : 2 백령도 : 1 소설이 : 1 eaebefbackgroundcolorf9fafbcolor222letterspacing2pxtextaligncentertextdecorationnonewebkitboxshadowinset : 1 listgoods : 7 65pxtextindent9999px : 1 width179pxheight183px : 1 backgroundposition605px : 2 svcmorelink : 1 bline : 1 379px : 1 contdaysale : 7 width188pxheight283px : 1 height249px : 1 positionabsolutetop38pxleft0zindex9999width100padding0 : 1 width224px : 1 displayinlineblockwidth653pxborderbottom1px : 1 ··· : 1 wrapmycont : 1 floatleftwidth280px : 1 top0left0width54pxheight41pxbackgroundposition110px : 3 overflowhiddenpositionabsolutetop50pxleft91pxwidth17pxheight14pxbackgroundposition40px : 1 화소 : 1 회사소개 : 1 white : 1 width190pxheight160pxborderbottom1px : 1 nonebackgroundcolortransparentcursorpointer : 1 f3f3f3fontsize11pxfontfamily돋움dotumsansserifbackgroundcolorf8f8f8letterspacing1pxclearboth : 1 이마트몰 : 1 보호를 : 1 left132pxwidth101pxbackgroundposition410px : 1 인 : 1 adtimead : 1 wraptabcont : 12 brunchon : 2 국정화 : 1 copy : 1 날씨 : 3 wraptierfixcont : 1 330px : 3 365px : 2 eeeef0 : 2 wrapmy : 1 마음달 : 1 wraplife : 1 overflowhiddenfloatleftwidth37pxmargintop1pxpaddingleft9pxfontsize10pxlineheight12pxcolor81838cwhitespacenowrap : 1 backgroundposition1px : 1 a9abb0bordertop0 : 1 backgroundposition430px : 1 displayinlineblockwidth278pxheight562pxborder1px : 1 height50px : 1 width397pxheight283px : 1 floatleftpadding14px : 1 height291pxpaddingtop36px : 1 회사가 : 1 positionabsolutetextindent9999pxcursorpointer : 1 경기시간 : 1 icotopic : 2 15px : 14 MLB : 1 overflowhiddenpositionrelativewidth500pxheight53px : 1 a5a6accolor000 : 1 overflowhiddenpositionabsolutetop278pxleft139pxwidth188pxheight38pxbackgroundimageurlhttpi1daumcdnnetdecocomicstopdeco2014v2transparentgiftextindent9999px : 1 7pxpadding1pxbackgroundposition465px : 1 webkitappearancenone : 1 icog : 1 displayinlineblockoverflowhiddenheight100backgroundfffverticalalignmiddle : 1 icotime : 1 overflowhiddenwidth179pxheight87pxbordertop1px : 1 1760px : 1 1위 : 2 b5b8bfborderradius12pxfontsize52pxlineheightnormalbackgroundimagewebkitgradientlinear : 1 rgba000006 : 1 height15px : 1 txtnotice : 1 btnlayer : 2 top0left0width54pxheight41pxbackgroundposition55px : 2 9pxbackgroundurlhttpi1daumcdnnetdecocomicstopdeco2014v2imgdaumvertv3pngv1130 : 1 backgroundposition413px : 2 bottom16pxleft416px : 1 227pxcolored5c5e : 1 overflowhiddenfloatleftwidth127pxmarginright5pxpaddingleft9px : 1 경기영상 : 1 지역 : 2 소개 : 1 floatleftwidth46pxheight25pxmarginright6pxbackgroundposition0 : 1 descstoryhover : 1 titfun : 4 현재 : 9 padding12px : 2 0lineheight18pxbackgroundurlhttpi1daumcdnnetdecocomicstopdeco2014v2btndaumv3pngv1247 : 1 회사들이 : 1 blogguisortablehelper : 1 의식할 : 1 height62px : 1 margintop7pxlineheight19pxcolor757474 : 1 0font11px : 1 btnmmsrelay : 1 0colorfff : 1 icocelsius : 1 titrealestate : 4 marginleft2pxfontsize14pxcolordedede : 1 울릉도 : 1 눌러주세요 : 22 left111px : 2 backgroundcolortransparent : 1 icomono : 1 춘천 : 1 언론 : 1 displayblockpadding5px : 1 margintop2px : 1 380pxtextindent9999px : 1 colord5d4d8 : 1 중계센터 : 1 overflowhiddenheight19pxpadding2px : 1 btnlocate : 1 日서도 : 1 11번가 : 1 49px : 1 wrapsub : 3 a5a6acborderleft1px : 2 880px : 4 60px : 2 overflowhiddenwidth188pxpaddingtop10pxbordertop1px : 1 edededbackgroundcolorf8f9fa : 1 displayblockpositionabsolutetop0left0width280pxpaddingtop120pxtextaligncenter : 1 paddingleft14pxbackgroundposition1px : 1 titcafe : 4 overflowhiddenpositionabsolutewidth0height0lineheight0textindent9999px : 1 mycontfoot : 1 floatleftwidth201px : 1 250px : 4 arialbackgroundurlhttpi1searchdaumcdnnetssearchall2011icoicosuggest20110721gif : 1 405px : 1 rankcont : 1 layoutheadlinevertical : 1 얻어 : 1 주세요 : 1 다음 : 9 20px : 2 backgroundposition180px : 4 174℃ : 1 left69px : 1 0lineheight12px : 1 positionabsolutetop0right0width940pxheight33pxborderbottom1px : 1 흰 : 1 17세 : 1 d8d9dbverticalaligntop : 1 품 : 1 listimg : 20 cafeg : 6 210px : 1 color : 1 top129pxwidth167pxheight23pxpadding9px : 1 backgroundposition350px : 2 205px : 2 displayblockfontsize11pxcolor262626 : 1 top259pxleft369pxwidth21pxheight17pxbackgroundposition60px : 1 listrel : 2 linkprivacy : 1 width179pxheight116pxborder1px : 2 width167pxheight45pxpadding10px : 2 contfeature : 3 fontsize14pxlineheight22px : 1 floatleftwidth175pxheight144pxpadding15px : 1 더 : 1 quot국정화 : 1 zindex1backgroundcolor4e82eebackgroundposition117px : 1 linkinfo : 1 c4cdd6 : 1 22pxbackgroundposition0 : 1 color3f4145 : 1 noticelogout : 1 titspe : 1 width940pxmargin0 : 1 개발 : 2 overflowhiddenpositionabsolutetop171pxheight30pxfontsize11pxletterspacing1pxtextaligncentertextindent9999px : 1 백제 : 1 만드는가 : 1 linksvcall : 1 border0 : 2 75px : 2 차유람 : 2 icofavor : 1 layersteady : 4 margin4px : 2 liststylenone : 1 floatleftpositionrelativezindex0width266pxmargintop14px : 1 width98pxheight50px : 1 contspe : 1 height375px : 1 유익한 : 2 rgba000006boxshadowinset : 1 backgroundposition200px : 1 overflowhiddenwidth258pxpadding8px : 1 icosuggest : 1 3pxlineheight47pxbackgroundposition0 : 1 linkweather : 42 btnsave : 1 displayinlineblockcolor5d6273verticalaligntop : 1 20pxbordertop2px : 1 대전 : 1 IS : 1 overflowhiddenpositionabsolutetop22pxright20pxwidth110pxheight15pxbackgroundposition95px : 1 baseBox : 3 89pxcolor777 : 1 251px : 1 floatnone : 2 overflowhiddenwidth244pxpadding14px : 1 floatrightpaddingleft0backgroundnone : 1 18pxborder1px : 1 fontsize11pxcolor555letterspacing1px : 1 btnbefore : 1 eeeef0backgroundcolorf7f7f7 : 2 페이지11 : 1 상승122 : 2 positionabsolutetop23pxright39pxheight13pxfontsize11pxlineheight14px : 1 신세계몰 : 1 179℃ : 1 btncaster : 1 top227pxwidth160pxpadding5px : 1 overflowhiddenwidth66pxheight74pxfontsize11pxlineheight14pxtextaligncentercolor414141letterspacing1px : 1 displaynone : 5 width385pxheight101px : 1 color8f8f8ftextdecorationunderline : 1 eventteam : 1 폭행당한 : 1 textaligncenter : 1 상승27 : 2 3pxletterspacing1px : 1 infothumb : 6 issuetypetxt : 4 icoarrowequal : 1 floatleftpadding9px : 1 listmainsvc : 3 301pxcolore73923 : 1 바로가기 : 7 1980px : 1 backgroundposition310px : 3 검색어 : 1 displayblockoverflowhiddenwidth278pxheight80pxmargintop8px : 1 displaynonepositionabsolutetop0left0width100backgroundcolor000filteralphaopacity60opacity06 : 1 리스본 : 1 quot국정화는 : 1 fsttxt : 2 wraptvpot : 6 top47pxright10px : 1 게임 : 3 sectioncontents : 2 IP보안 : 2 35px : 3 titbestlike : 4 listthumb : 24 자동실행 : 1 제주 : 2 overflowhiddenpositionrelativewidth266pxheight61px : 1 width41pxbackgroundposition50px : 1 itemvs : 2 5위 : 2 backgroundposition45px : 1 color848585 : 1 얻고 : 1 다 : 1 articledaum : 1 titblog : 4 btnnext : 4 tithope : 4 backgroundcolorf8f8f8textdecorationnone : 1 left9999px : 1 총 : 7 126px : 22 displayblockheight22pxlineheight22pxtextaligncentercolor777b80 : 2 950px : 1 on : 2 가재벌가Style : 1 20pxfontsize0 : 1 marginright5pxbackgroundposition355px : 1 outline1px : 1 잡혔다 : 1 사살 : 1 icopush : 2 floatleftwidth24pxheight20pxheight24pxmargin5px : 1 width52pxbackgroundposition130px : 1 or : 1 총선 : 1 이스라엘 : 1 1100px : 1 enteron : 2 height416pxpaddingtop43px : 1 color333 : 1 displayblockoverflowhiddenwidth278pxheight120px : 1 txtarea : 1 스토리볼 : 1 servicegroup : 1 icoarrowdown : 1 4559e9 : 1 스마트워치 : 1 backgroundurlhttpi1daumcdnnetdecocomicstopdeco2014v2imgweatherpngv1102 : 1 imgdaum : 2 titmovie : 4 infogame : 1 floatleftwidth21pxheight23pxmargintop3pxbackgroundposition120px : 1 부천fc : 2 top127pxleft370pxwidth20pxheight24pxbackgroundposition15px : 1 80px : 4 backgroundposition70px : 1 shopmall : 1 displayblockwidth22pxheight12pxmargin21px : 1 1020 : 1 bordertop1px : 2 marginleft1pxpaddingleft1pxbackgroundposition97px : 3 width399pxheight340pxborderbottom1px : 1 height110pxmargin0 : 1 top6pxleft5pxwidth28pxheight28pxbackgroundposition0 : 1 displayblockoverflowhiddenheight23pxpaddingtop10pxlineheight15pxbackgroundurlhttpi1daumcdnnetdecocomicstopdeco2014v2bgdaumv6pngv1559 : 1 floatleftwidth13pxheight13pxmargintop1pxtextindent9999px : 1 mypeopleg : 1 padding4px : 1 184℃ : 1 txtlabid : 1 wrapbestlike : 5 backgroundposition80px : 1 displayinlineblockoverflowhiddenwidth18pxheight26pxmargintop4pxfontsize0lineheight0verticalaligntop : 1 적발quot : 1 quot폭탄원료 : 1 backgroundposition69px : 1 positionabsolutetop146pxleft943pxzindex98width57pxheight105pxbackgroundurlhttpi1daumcdnnetdecotop2012logout20121016png : 1 screenout : 2 adstation : 1 레깅스 : 1 fontbold : 2 stockg : 6 39역사 : 1 backgroundposition60px : 1 positionrelativezindex10width279px : 1 floatleftwidth32pxheight21pxtextindent9999px : 1 이제 : 1 floatleftwidth73pxheight47pxmargin28px : 1 미디어 : 2 servicebottom : 2 0marginleft6pxverticalalignmiddle : 1 overflowhiddenwidth278px : 2 width250pxheight220pxmarginright24px : 1 width18pxheight17pxbackgroundposition75px : 1 이전 : 7 6pxpadding0fontsize1pxlineheight1pxbackgroundcolore5e5e5 : 1 오늘만 : 1 매력UP : 1 b8bbbfbordertop0 : 1 btnpage : 4 18px23px : 1 overflowhiddenpositionrelativewidth278pxheight34pxborderbottom1px : 1 displayinlineblockwidth40pxheight23pxmarginright4pxlineheight23pxbackgroundposition35px : 1 eaeaed : 2 649pxcolorec2c2fverticalaligntop : 1 eaeaea : 1 이태화 : 1 width188pxheight159px : 2 잇다 : 1 상승130 : 2 모습 : 1 displayinlinefontsize11pxlineheight13pxcolorec0000 : 1 setstart : 1 000outlinewebkitfocusringcolor : 1 fontsize14pxcolor000textdecorationnone : 1 431pxtextindent9999px : 1 width100pxheight14pxlineheight14pxbackgroundposition145px : 1 wrapwebtoon : 2 top8pxright9px : 1 1px : 17 overflowhiddenpositionabsolutetop96pxleft0width269pxheight17pxbackgroundurlhttpi1daumcdnnetdecocomicstopdeco2014v2linedotgifv1102 : 1 overflowhiddenwidth249pxheight83pxmargin0 : 1 15pxtextindent9999px : 1 teamhome : 1 와서 : 1 290px : 20 list : 3 fontweightnormalcolorea570a : 1 강소라 : 1 paddingleft1pxbackgroundnone : 1 displayinlinefloatleftwidth358pxheight18pxpadding0margin11px : 1 linkmyinfo : 1 floatleftwidth13pxheight13pxmarginright3px : 1 width53pxbackgroundposition130px : 1 67pxtextindent9999pxcursorpointer : 1 height161pxborderbottom0 : 1 여수 : 1 top83pxleft164px : 1 lifeon : 2 와디럼 : 1 40pxtextindent999em : 1 top15px : 1 망신 : 1 overflowhiddenwidth383pxheight14pxpaddingtop8pxlineheight15pxtextaligncenter : 1 adtime : 13 bodyh1h2h3h4thtdinputselecttextareabutton : 1 닫기 : 2 floatrightpositionstaticheight17pxpaddingleft12pxbackgroundcolorfff : 1 떨려 : 1 e8e8e8borderbottom1px : 1 1320px : 3 strong : 1 marginright0backgroundposition455px : 1 contg : 8 titlife : 4 displayinlineblockverticalaligntop : 1 fwb : 1 top148pxwidth216pxheight21pxfontsize12pxlineheight15pxpadding9px : 1 adrightbtm : 5 positionabsolutebottom0left0width515pxheight31pxbackgroundcolorf4f5f7 : 1 2pxcolorddd : 1 floatleftwidth85pxpaddingleft16pxlineheight16px : 1 paddingleft0backgroundnone : 1 표기 : 1 18px20px : 1 urlhttpi1searchdaumcdnnetssearchall2013bgbgfootergif : 1 backgroundnone : 1 fontfamilytahomasansserif : 1 1248pxverticalaligntop : 1 floatleftheight19pxpaddingleft7pxcolorfffbackgroundposition0 : 1 Corp : 1 광고안내 : 1 titnews5tab : 4 titsort : 1 timehour : 1 overflowhiddenpositionabsoluteright12pxbottom10pxheight14pxfontsize11pxlineheight14pxcolor777letterspacing1px : 1 txtnum : 7 overflowhiddenwidth203pxheight18pxmargin14px : 1 txtfortune : 1 13pxlineheight18px : 1 wrapmain : 7 bottom15pxleft208px : 1 0textaligncentercolor5b6473 : 1 overflowhiddenwidth278pxheight273pxbordertop1px : 1 관련 : 2 icow04 : 1 icow05 : 1 icow06 : 1 icow07 : 1 icow01 : 1 icow02 : 1 icow03 : 1 imgweather : 2 황PD : 1 icow08 : 1 icow09 : 1 irwa : 1 none : 10 0fontsize11pxlineheight14pxcolor5b6473letterspacing1px : 1 mysvclist : 1 10pxbackgroundposition20px : 1 icodownbackgroundposition0 : 1 484pxtextindent9999px : 1 urlhttpi1daumcdnnetdecocomicstopdeco2014v2bgtopbargifv1102 : 1 displayblockfloatleftmarginright8px : 1 color4559e9textdecorationunderline : 3 width180pxheight100px : 1 제휴문의 : 1 shop4on : 3 floatleftmargin5px : 1 폰번호 : 1 num4 : 3 num5 : 2 num6 : 2 num7 : 2 num0 : 2 num1 : 5 num2 : 4 num3 : 4 위해개인 : 1 num8 : 2 num9 : 2 displayblockmargintop4pxfontsize11pxcolor959595letterspacing1px : 1 arialcolor000 : 1 overflowhiddenwidth161pxheight21pxmarginright10pxpadding7px : 1 tvon : 2 positionabsolutetop283pxright9pxwidth19pxheight17pxbackgroundposition225px : 1 txtnum4 : 1 txtnum3 : 1 txtnum2 : 1 txtnum1 : 1 txtstock : 1 linkdaumapp : 1 AK몰 : 1 tahomacolor000 : 1 비아냥까지 : 1 카페 : 4 신소연 : 2 아이디 : 2 fr : 1 4pxcolor444 : 1 280pxtextaligncenter : 1 loginsimple : 5 사람들 : 1 logininp : 8 a5a6ac : 1 floatleftwidth100margintop8pxlineheight19pxcolor757474clearboth : 1 wrapdaum : 1 floatleftmargin19px : 1 600px : 2 fl : 2 width58pxheight48px : 1 a : 3 width190pxheight340pxborderbottom1px : 1 width100pxheight52px : 1 footer : 10 daumContent : 1 609px : 1 sortservice : 8 backgroundposition420px : 1 numprice : 4 현위치 : 1 width410pxheight161px : 1 fff : 5 width53pxbackgroundposition0 : 1 backgroundposition185px : 7 대구 : 1 상품 : 3 연대에 : 1 쇼핑몰 : 1 color9b01bc : 1 floatleft : 11 8pxlineheight15pxcolorfc6870letterspacing1px : 1 ellipsisg : 3 220pxletterspacing1px : 1 marginbottom1px : 1 uisortablehelper : 1 top191pxheight39px : 1 breakingnews : 3 1817 : 1 overflowhiddenpositionrelativewidth263pxheight55pxmargin21px : 1 책··· : 1 overflowhiddenfloatrightwidth138pxheight112pxlineheight100pxtextaligncenter : 1 rankissue : 1 floatleftmargin2px : 1 6위 : 2 overflowhiddenpositionabsolutebottom10pxleft11pxwidth167pxcursorpointerwhitespacenowraptextoverflowellipsis : 1 ㄱㄹ : 1 호박 : 1 루리웹 : 1 searchon : 1 overflowhiddenbackgroundurlhttpi1daumcdnnetdecocomicstopdeco2014v2icodaumv7pngv1324 : 1 top47pxwidth106pxheight17pxpadding4px : 1 내역 : 1 left116pxbackgroundposition117px : 1 mumu : 1 linksetpage : 1 hopeon : 2 0lineheight15pxtextaligncenter : 1 overflowhiddenwidth515pxpaddingbottom12pxbackgroundurlhttpi1daumcdnneticon2013topmorelayerbglinev2gif : 1 backgroundposition110px : 1 width53pxbackgroundposition340px : 1 wrapbrunch : 2 positionabsolutebottom3pxleft0width13pxheight13px : 1 listuser : 10 최근 : 1 overflowhiddenpositionabsolutebottom15pxleft11pxwidth100pxheight19pxpaddingleft20pxlineheight23pxbackgroundposition0 : 1 overflowhidden : 2 회원가입 : 1 noticeblog : 2 wrapbook : 4 4px : 5 다른 : 2 color196adb : 1 0backgroundposition0 : 1 displayblockoverflowhiddenwidth188pxpadding8px : 1 txttv : 1 mypeopleguisortablehelper : 1 모을 : 1 막는다 : 1 width42pxbackgroundposition170px : 1 wraphope : 3 230pxtextindent9999px : 1 삶을 : 1 floatleftpadding1px : 1 left241px : 1 이메일 : 1 icoarrowup : 1 left248px : 1 507px : 1 floatleftwidth37pxlineheight17px : 1 width397pxheight159px : 1 overflowhiddenfloatleftwidth89pxheight64pxmarginright3pxpaddingtop11pxfontweightboldfontsize11pxlineheight12pxbackgroundurlhttpi1daumcdnnetdecocomicstopdeco2014v2bgdaumv6pngv1559 : 1 0color222letterspacing1px : 1 날짜 : 1 fontsize11pxcolor555lineheight15pxletterspacing1px : 1 linkthesong : 3 tfkeywordwebkitsearchcancelbutton : 1 layertop : 3 zindex10backgroundposition0 : 1 23px : 1 verticalalignmiddle : 1 displayblockoverflowhiddenwidth46pxheight18pxmargin57px : 1 혜안quot : 1 txtprice : 1 overflowhiddenfloatleftheight33pxfontweightboldlineheight35pxpadding0 : 1 displayblockmargintop1pxfontsize11pxcolor737373letterspacing1px : 1 wrapdaumapp : 1 backgroundposition135px : 2 overflowhiddenpositionrelativewidth628pxheight597pxpadding37px : 1 영화 : 4 390px : 1 nonezindex1 : 1 icoup : 1 돈에는 : 1 displayinlinefontsize13pxcolor000 : 1 15pxpaddingtop5pxfontsize11pxlineheight16pxcolor7b7b7bletterspacing1pxwhitespacenormal : 1 외국인 : 1 displayblockfloatleftwidth32pxheight32pxbackgroundposition120px : 1 layoutheadlinet2 : 1 borderright1px : 1 e1e1e1backgroundcolorfbfbfb : 2 하루 : 1 paddingleft48pxbackgroundposition0 : 2 247px : 1 tfpw : 1 부산 : 1 color454545 : 1 icow13 : 1 icow12 : 1 icow11 : 1 height25pxpadding43px : 1 icow17 : 1 icow16 : 1 icow15 : 1 icow14 : 1 ageg : 1 광주 : 1 icow18 : 1 0colorfffletterspacing1pxtextdecorationnonecursorpointer : 1 overflowhiddenfloatleftpositionrelativewidth52pxheight53px : 1 15pxbackgroundposition170px : 1 전 : 22 요새 : 1 상승120 : 2 w40 : 2 wrapmysvc : 2 txtred : 1 여자도 : 1 txtstory : 2 spiritdaum : 2 issuetypeimg : 3 dsch : 6 blockquoteafterqbefore : 1 overflowhiddenpositionrelativewidth181pxheight120pxmargintop14px : 1 120px : 1 145px : 5 funon : 2 nonefontsize11pxfontfamily돋움dotumsansserifbackgroundf8f8f8 : 1 shortcutgfocus : 1 뉴스홈 : 1 고시 : 1 98pxtextdecorationnone : 1 paddingleft39pxbackgroundposition0 : 2 linkagorahover : 1 3위 : 2 imgmobileweb : 1 colord40400 : 1 norepeat : 31 나에게 : 1 displayinlinefloatright : 1 침구60 : 1 paddingleft42pxbackgroundposition0 : 1 nonefontweightboldfontsize16pxlineheight18pxfontfamily돋움dotumsansserifbackgroundcolortransparentoutlinenoneimemodeactivewebkitappearancenone : 1 psogame : 3 22px : 1 layoutvertical : 2 width248pxheight176px : 1 backgroundposition105px : 2 문화는 : 1 찔려 : 1 overflowhiddenpositionrelativeheight17pxmargintop5pxlineheight17pxfontfamily굴림gulimsansserif : 1 backgroundposition270px : 2 color676767 : 1 tipon : 2 tittip : 4 top7pxleft7pxwidth45pxheight45pxbackgroundposition30px : 1 checkoff : 1 backgroundposition50px : 4 fontweightnormal : 3 나의 : 2 txtagora : 2 앞서간 : 1 displayinlineblockpositionabsolutetop13pxlineheight15pxverticalaligntop : 1 국사 : 1 0padding0 : 1 전체보기 : 2 suggestexact : 37 paddingtop7px : 2 246px : 1 listbasis : 6 이산가족상봉 : 2 55px : 9 displayinlineblockpaddingleft8pxfontweightboldfontsize10pxlineheight10pxfontfamilytahomasansserif : 1 위해 : 1 txtexact : 1 contsub : 1 202℃ : 1 displayinlineblockmargin13px : 1 backgroundposition120px : 2 위한 : 1 이대은 : 1 headlinetxt : 5 797px : 1 icolabel : 2 displayblockoverflowhiddenheight30pxmargin1pxfontweightnormalfontsize12pxlineheight33pxfontfamily굴림gulimsansseriftextaligncentertextdecorationnonecolor000letterspacing1px : 1 titthesong : 3 inputmsclear : 1 width8pxheight8pxmargin13px : 1 브런치 : 3 overflowhiddenpositionrelativewidth200px : 1 color209bdb : 1 color303030textdecorationnone : 1 메일 : 1 width44pxbackgroundposition25px : 1 btnend : 1 timethesong : 3 울산 : 1 displayinlinepadding0 : 1 linkcopy : 1 margintop12pxpaddingleft17pxbackgroundposition1px : 1 titstoryhover : 1 paddingleft19pxbackgroundposition3px : 1 c4cdd6borderleft1px : 1 icodown : 1 사막을 : 1 paddingleft14pxbackgroundurlhttpi1daumcdnnetdecocomicstopdeco2014v2imgdaumvertv3pngv1130 : 1 addresscaptioncitecodedfnemvar : 1 displayblockoverflowhiddenpositionrelative : 1 offSuggest : 1 39예비비 : 1 힘 : 1 overflowhiddenpositionabsoluteright3pxbottom3pxwidth20pxheight20pxtextindent9999px : 1 달리다 : 1 linktotalsvc : 1 285px : 6 주는 : 1 noticedaum : 18 fontsize11pxfontfamilytahomasansserifcolor4c4c4c : 1 교과서 : 2 width70pxheight14pxlineheight14pxbackgroundposition10px : 1 height24pxbackgroundposition471px : 1 15pxverticalaligntoptextindent9999px : 1 dotum돋움sansserifcolor000 : 1 displayblockwidth26pxheight15pxmargintop4pxbackgroundposition0 : 1 overflowhiddenfloatleftwidth279pxheight21pxpaddingleft17pxlineheight21pxwhitespacenowrap : 1 17개 : 1 btning : 1 0letterspacing1pxwhitespacenowrap : 1 청소년보호정책 : 1 GS샵 : 1 16px : 2 width149pxmarginright5pxpadding1px : 1 흐림 : 1 height79px : 1 solid : 53 stocktoday : 10 displayinlineblockmarginright4pxpaddingright8pxfontweightboldbackgroundposition100 : 1 fieldsetimg : 1 icow10 : 1 overflowhiddenpositionabsolutetop19pxright20pxwidth54pxheight25pxbackgroundimageurlhttpi1daumcdnnetdecocomicstopdeco2014v2transparentgiftextindent9999px : 1 guide : 1 appintro : 7 floatrightpadding11px : 1 infopage : 6 eeeef0verticalaligntop : 1 recomshop : 3 layerie6 : 6 positionabsolutetop0left0zindex102width100 : 1 가져오기 : 22 페이지13 : 1 backgroundurlhttpicondaumcdnnetwc130219696439712097703png : 1 displayinlineblockheight14pxmargintop14pxlineheight14pxverticalaligntopwhitespacenowrap : 1 contimport : 1 displayblockheight40pxmargintop7pxpaddingleft17pxbackgroundposition1px : 1 positionabsoluteright4pxbottom3pxwidth13pxheight13pxborder0 : 1 floatleftheight23pxpadding10px : 2 linkimg : 2 headevent : 2 더보기 : 1 개발자들을 : 1 1pxtextindent9999px : 1 icoreader : 1 b7c1caverticalaligntop : 1 김두혁 : 1 width28pxbackgroundposition145px : 1 동지의 : 1 btnrecord : 1 paddingleft5pxlineheight12pxbackgroundnone : 1 사용해 : 1 아고라 : 2 172℃ : 1 width167pxheight143pxpadding16px : 1 190℃ : 1 770px : 1 217px : 1 backgroundposition541px : 2 width63pxbackgroundposition390px : 1 5명 : 1 트와이스 : 2 10pxfontsize11pxlineheight14pxfontfamily돋움dotumhelveticasansserifcolor666 : 1 paddingleft41pxbackgroundposition0 : 5 titevent : 1 13pxlineheight15pxwhitespacenowraptextoverflowellipsis : 1 160px : 3 95px : 3 backgroundposition85px : 1 left61px : 1 15pxlineheight13pxwhitespacenowrap : 1 사망가해자 : 1 bottom23pxleft370px : 1 displayblockwidth130px : 1 titwebtoon : 4 icogivehover : 1 displayblockoverflowhiddenpadding25px : 1 readersinfo : 4 floatleftpositionrelativewidth444pxmargintop28px : 1 PC에서만 : 1 고대 : 1 d : 2 0border0 : 1 noticestart : 2 itemhover : 1 예술상인 : 1 당해quot : 1 비타민 : 2 제철과일 : 1 wrapnews : 1 군인 : 1 btnsvcmove : 1 findpw : 1 1pxbackgroundcolore1e1e1 : 2 boxuser : 10 w41 : 2 e1e1e1cursorpointer : 1 displayinlineblockheight23pxpadding10px : 1 btnclose : 7 positionrelativeheight103px : 1 사람과 : 1 책 : 2 emphtxt : 1 fontsize12pxcolor000textdecorationnone : 1 적이 : 1 positionrelativewidth100zindex101 : 1 listmyset : 15 토론토 : 1 txtred2 : 1 overflowhiddenzindex0width280pxheight143px : 1 icophoto : 7 105px : 1 backgroundposition150px : 2 저지위해 : 1 페이지6 : 1 12px18px : 1 쇼핑홈 : 1 금강최대78사은품도빵빵 : 1 top30px : 1 color6f6f6f : 1 8px : 8 num10 : 1 wrapnews5tab : 1 패션 : 1 bottom16pxleft209px : 1 height43pxpaddingtop12px : 2 frameg : 23 width940pxmargin4px : 1 3f4243fontsize11pxlineheight14pxbackgroundcolor26292acolorfffletterspacing1pxtextaligncenter : 1 fontsize12pxlineheight15fontfamily돋움dotumsansserifcolor333 : 1 newslink : 1 tittvpot : 4 overflowhiddenwidth272pxheight29pxpadding6px : 1 txtmyset : 1 쇼핑도움 : 1 만에국정교과서 : 1 icodaum : 4 span : 1 블로그에 : 1 positionabsolute : 2 SALE : 1 contstory : 48 width70pxheight101pxmargin7px : 1 얻을 : 1 소호 : 2 overflowhiddenfloatleftpaddingleft16pxbackgroundurlhttpi1daumcdnnetdecocomicstopdeco2014v2imgdaumvertv3pngv1130 : 1 3601 : 1 찍은 : 1 96px : 5 txtvs : 1 분단 : 1 포토 : 3 line : 2 linkbasis : 2 0color5b6473letterspacing1px : 1 icoevent : 1 mycafeon : 4 zindex1backgroundcolor4e82eebackgroundposition60px : 1 positionrelativemarginright90pxclearboth : 1 dotum돋움sansserifcolora1a1a1 : 1 최고의 : 1 cacbce : 1 24px : 2 170pxtextaligncenter : 1 bigimg : 6 wraptiertop : 2 backgroundurlhttpi1daumcdnnetdecocomicstopdeco2014v2imgdaumv3pngv1324 : 1 fontsize12px : 1 floatrightmargin25px : 1 이야기 : 1 positionabsolutetop0left22pxfontsize11pxlineheight14pxletterspacing1px : 1 인수 : 1 shortcutg : 2 storyballon : 2 suggestexacthover : 1 특가 : 1 TV : 2 13pxletterspacing1px : 1 marginright8px : 1 wrapentertain : 1 titconthover : 1 top0left0width54pxheight41pxbackgroundposition0 : 2 labagain : 1 삼성라이온즈 : 2 left154px : 1 floatleftmaxwidth117pxwidth117pxmargintop5pxfontsize14px : 1 네파 : 1 0border2px : 1 tit5 : 1 tit4 : 1 550px : 1 tit1 : 1 505px : 1 tit3 : 1 tit2 : 1 비판부터 : 1 floatleftpositionrelativewidth220pxheight105pxmarginright5px : 1 이슈 : 2 contshop : 29 9pxheight21pxlineheight21px : 1 overflowhiddenfloatleftwidth282pxheight112pxtextaligncenter : 1 shortcutgactive : 2 8pxlineheight15pxwhitespacenowrap : 1 뿐인데 : 1 14pxbackgroundposition10px : 1 dlulolmenuli : 1 displayinlineblockmarginright6pxheight11pxfontsize10pxlineheight11pxverticalaligntop : 1 25px : 7 daumSuggestWrap : 1 앞에서 : 1 positionabsolutetop0left0width36pxheight20pxbackgroundposition80px : 1 defaulttxt : 10 1792 : 1 1795 : 1 backgroundposition2px : 2 margintop11px : 1 txtissue : 2 left1pxtop1pxpadding0 : 1 고객센터 : 1 backgroundposition75px : 1 420px : 1 명 : 1 button : 1 110px : 2 bgdaum : 1 paddingleft47pxbackgroundposition0 : 3 todayopen : 2 562px : 1 positionrelativedisplayblockheight100pxborder1px : 1 문화가 : 1 fontweightnormalcolore5333d : 1 Kakao : 1 floatleftmarginright2px : 1 135px : 1 infotemper : 15 backgroundposition13px : 41 numbasis : 1 6pxlineheight16pxcolor262626 : 1 mysetbtn : 1 wrapcont : 1 left80pxwidth120pxbackgroundposition285px : 1 displayblockoverflowhiddenpositionrelativezindex1width100height100 : 1 전일대비 : 2 displayblockcursorpointer : 1 margin0padding0 : 1 벼슬이냐quot : 1 body : 1 positionabsolutetop0left0border1px : 1 width620pxheight161px : 1 146℃ : 1 width278pxheight105px : 1 backgroundposition306px : 1 tistoryg : 1 listmysvc : 9 floatleftwidth230pxmarginright17px : 1 typepso : 2 topautobottom62pxleft166px : 1 wraptoday : 3 displayinlineblockpositionrelativewidth280pxheight34pxborderbottom1px : 1 overflowhiddenwidth922pxpadding11px : 1 platebestlike : 1 titedu : 4 displayinlineblockwidth627pxpaddingright1pxverticalaligntop : 1 203℃ : 1 10pxcolor555 : 1 innershortcut : 1 overflowhiddenpositionabsoluteleft0fontsize12pxbackgroundposition20px : 1 wrapsports : 1 innertxt : 1 displayinlineblockheight110pxverticalaligntop : 1 397ce0fontsize11pxlineheight20pxbackgroundcolor3f8af9textalignleftcolorfffletterspacing1pxtextdecorationnonecursorpointer : 1 bgframe : 1 paddingleft51pxbackgroundurlhttpi1searchdaumcdnnetssearchall2014icoicoweathersize3gif : 1 11pxbackgroundposition0 : 1 7px : 3 descstory : 8 listpolicy : 6 width30pxbackgroundposition451px : 1 모바일 : 1 금융 : 1 num20 : 1 overflowhiddenfloatleftwidth130pxheight70pxlineheight14px : 1 margintop3px : 2 linkupgrade : 1 marginright6pxwidth15pxbackgroundposition425px : 1 대학 : 1 상승95 : 2 논란 : 1 상승90 : 2 입니다 : 22 width15pxbackgroundposition86px : 1 icolotto : 1 shop2on : 3 633416 : 1 교육부 : 1 시크 : 1 17px : 1 quot바르셀로나 : 1 marginbottom7px : 1 displaynonepositionabsoluteright0pxbottom19pxwidth211pxheight27pxbackgroundurlhttpi1searchdaumcdnnetssearchall2009imagesuggestservicegif : 1 184도 : 1 borderbottom1px : 1 379pxcolor6d7078 : 1 marginbottom4px : 1 매거진 : 1 0backgroundurlhttpi1searchdaumcdnnetssearchall2013bgbgshadowpng : 1 1650px : 3 floatleftpositionrelativezindex0width280pxheight105pxbackgroundurlhttpi1daumcdnnetdecocomicstopdeco2014v2bgdaumv6pngv1559 : 1 mymileage : 1 5pxbackgroundposition0 : 1 wrapstoryball : 4 listrecomsvc : 4 positionrelativeheight19pxpadding4px : 1 relshop : 7 left115px : 1 displayinlineblockwidth938pxheight67pxborderright1px : 1 tilesstory : 36 fromfff : 1 증권 : 3 offGuide : 1 color383b42 : 1 padding3px : 1 310px : 6 textdecorationnonelistmysvc : 1 345px : 5 linkstock : 1 준비하기 : 1 만든 : 1 65px : 2 0lineheight42pxtextaligncentercursormove : 1 displaynonepadding0 : 1 color3770bf : 1 linkmobile : 1 스페셜 : 3 backgroundurlhttpi1daumcdnnetdecocomicstopdeco2014v2txtdaumv9pngv1528 : 1 linkmysvc : 7 overflowhiddenfloatleftwidth66pxheight39pxlineheight39pxbackgroundposition378px : 1 것은 : 1 loginmy : 18 backgroundposition451px : 2 overflowhiddenpositionabsolutebottom10pxleft208pxwidth167pxcursorpointerwhitespacenowraptextoverflowellipsis : 1 공지사항 : 1 개인 : 1 positionrelativeheight20pxpadding6px : 1 degreeg : 1 12pxfontweightnormalfontsize11pxlineheight20pxcolorfffletterspacing1px : 1 margintop9px : 4 color000 : 1 overflowhiddenpositionabsolutetop0right0width68pxheight37pxtextindent9999px : 1 li : 32 세부 : 1 floatleftwidth176pxheight143pxpadding16px : 1 auto : 8 colorda4453 : 1 backgroundposition360px : 1 width12pxheight13pxpaddingright14pxbackgroundpositionright : 1 0fontsize14pxlineheight16pxfontfamilyverdanasansserifletterspacing1px : 1 대 : 1 boxsearch : 1 inpprotect : 1 매력 : 1 링크를 : 22 10px : 13 14px16px : 1 705pxletterspacing1px : 1 한국에서 : 1 icovs : 1 top139pxheight40pxpaddingtop6px : 1 left1pxwidth61pxbackgroundposition0 : 1 paddingleft45pxbackgroundposition0 : 1 w19 : 2 w18 : 2 3pxbackgroundposition0 : 1 w16 : 2 w15 : 2 w14 : 2 w13 : 2 iconewarr : 2 w11 : 2 w10 : 2 전쟁39 : 1 FUN : 1 stockguisortablehelper : 1 floatleftmargin1px : 1 titsong : 1 width156pxheight20pxpadding8px : 1 width278pxheight33pxbordertop1px : 1 floatleftwidth655pxmarginright5pxbordertop1px : 1 bottom97px : 1 displayblockpositionrelative : 1 positionrelativefloatleftwidth92pxheight33pxpadding1px : 1 중국 : 1 58px : 1 나답게 : 1 linkempathy : 1 0lineheight14pxcolor777letterspacing1pxtextdecorationunderline : 1 margintop4pxletterspacing1px : 1 핏하이웨스트 : 1 backgroundposition410px : 1 floatleftwidth15pxheight13pxmargin4px : 1 positionrelativetop0left0zindex99 : 1 positionrelativetop0left0zindex98 : 1 eduon : 2 12pxfontweightnormallineheight12pxbackgroundposition370px : 1 overflowhiddenfloatleftheight19pxpaddingright5pxlineheight20pxbackgroundposition100 : 1 mizneton : 2 45px : 7 내또래 : 1 딴소리하는 : 1 width181pxbackgroundposition166px : 1 width80pxheight14pxlineheight14pxbackgroundposition185px : 1 backgroundposition285px : 6 repeatx : 2 repeaty : 1 top1pxwidth55pxheight32pxbackgroundf9f9f9 : 1 floatleftwidth48pxheight70pxclearboth : 1 backgroundurlhttpi1daumcdnnetdecocomicstopdeco2014v2bgdaumv6pngv1559 : 1 displayinlineblockoverflowhiddenmaxwidth100paddingright2pxwhitespacenowraptextoverflowellipsisverticalaligntop : 1 height45pxpaddingtop10px : 2 width13pxmargin6px : 1 color00a0b6 : 2 내용을 : 22 color4689df : 1 displayblockoverflowhiddenpositionrelativewidth387pxheight103px : 1 142px : 1 overflowhiddenborderright1px : 1 이지성 : 2 linkfind : 2 titdaumspe : 1 정경 : 1 loadingmy : 1 positionabsolutetop5pxright9pxwidth21pxheight21pxbackgroundposition175px : 1 1540px : 2 floatleftwidth90pxfontsize11pxlineheight14pxletterspacing1pxtextaligncenter : 1 지식공간 : 1 fontsize11pxcolor2156c0letterspacing1px : 1 b8bbbfborderbottom0 : 1 floatleftwidth15pxheight18pxbackgroundposition0 : 1 0backgroundposition485px : 1 EBS지식 : 1 mykeyword : 1 backgroundposition320px : 1 overflowhiddenwidth376pxheight35pxpadding20px : 1 positionrelativewidth113pxheight103pxmargintop13pxpadding0lineheight14pxtextaligncenterclearbothwhitespacenormal : 1 titmiznet : 4 num30 : 1 1129px : 1 servicetop : 4 13pxfontsize11pxlineheight14pxcolor262626 : 1 정의화 : 1 상승87 : 2 85px : 1 left170pxbackgroundposition171px : 1 displayblockwidth280pxmargin0 : 1 7pxborder1px : 1 wrapedu : 2 1210px : 4 맞서는 : 1 150px : 2 displayblockwidth66pxheight18pxbackgroundposition69px : 1 사전 : 3 도움말보기 : 1 확인하시려면 : 22 linktit : 54 setagain : 1 ㅅㅇ : 1 기획전홈 : 1 bottom96px : 1 키덜트 : 1 positionabsolutetop18pxright11pxpaddingright7pxfontsize11pxlineheight14pxbackgroundposition100 : 2 0color5e646f : 1 wraprealestate : 1 icoupbackgroundposition0 : 1 overflowhiddentop0textdecorationnone : 1 color61646e : 1 롯데i몰 : 1 icogive : 3 4위 : 2 619px : 1 tvpoton : 2 overflowhiddenwidth188pxpaddingtop15pxbordertop1px : 1 color36a0e4 : 1 전망대에 : 1 linkevent : 13 floatleftwidth68pxheight25pxbackgroundposition50px : 1 ㅁㅂ : 1 입 : 1 weathertoday : 1 overflowhiddenwidth608px : 1 contvs : 2 fontsize16pxlineheight26px : 1 width6pxmarginleft1pxbackgroundposition170px : 1 업체 : 1 30px : 2 BEST : 1 971px : 1 찾기 : 2 오늘 : 1 stockup : 2 width188pxheight103px : 1 overflowhiddenfloatleftwidth71pxmargintop4pxwhitespacenowraptextoverflowellipsis : 1 470px : 1 국정교과서 : 1 44억원 : 1 width31pxbackgroundposition32px : 1 displayinlineblockpositionrelativezindex0width940pxheight112pxmargintop34pxverticalaligntop : 1 positionabsolutetop9pxright43pxpaddingleft7pxlineheight15pxbackgroundposition0 : 1 가족 : 1 5px : 11 labpw : 1 overflowhiddenwidth278pxheight32pxlineheight35pxbordertop1px : 1 height52px : 1 icohot : 2 floatnonemargin0padding0 : 1 width179pxheight233px : 1 14pxlineheight15pxcolor477ae4letterspacing1px : 1 90px : 4 innerevent : 1 서울 : 2 overflowhiddenwidth515pxbordertop1px : 1 colorf73a40 : 1 padding15px : 1 ecececfontsize0lineheight0 : 2 height24pxbackgroundposition285px : 1 바리톤 : 1 infocont : 4 floatleftwidth228pxheight159pxbordertop1px : 1 환율 : 1 46475bclearboth : 1 btnvdorelay : 1 775pxcolorf25334cursorpointer : 1 left141px : 1 전체 : 1 sectionmulti : 47 e8e8e8lineheight20pxbackgroundcolorfbfbfb : 1 icosteadybackgroundposition0 : 1 overflowhiddenpositionabsolutetop7pxright7pxwidth54pxheight25pxtextindent9999px : 1 btndaum : 1 0backgroundurlhttpi1daumcdnnetdecocomicstopdeco2014v2bgdaumv6pngv1559 : 2 510px : 1 floatleftmarginright10px : 1 불복종 : 1 길냥이의 : 1 positionrelativezindex0width181pxheight118pxmargin15px : 1 쓰려고 : 1 backgroundposition370px : 1 wrapmovie : 1 bestlikeon : 2 txtexchange : 1 width144pxmarginright0padding12px : 1 새로운 : 1 w08 : 2 w09 : 2 txtweather : 2 w04 : 2 w05 : 2 w06 : 2 w07 : 2 w01 : 2 w02 : 2 w03 : 2 165pxtextindent9999px : 1 utiltop : 3 연재하던 : 1 height24pxbackgroundposition378px : 1 350px : 2 floatleftwidth430pxheight105pxmarginright5px : 1 wraptiercont : 1 430px : 1 linknum : 1 titappimport : 1 letterspacing1px : 2 939px : 1 width111pxheight66px : 2 2위 : 2 width94px : 1 오프숄더 : 1 e5e5e5 : 1 width258pxmarginright5px : 1 0lineheight15pxverticalalignmiddletextalignleft : 1 titbestreader : 1 overflowhiddenfloatleftheight40pxmargintop0backgroundposition0 : 1 설정 : 3 urlhttpi1daumcdnnetdecocomicstopdeco2014v2bgdaumv6pngv1559 : 1 22pxfontsize11pxlineheight14pxletterspacing1px : 1 newson : 2 글래머러스한 : 1 backgroundposition0 : 57 끌어 : 1 paddingleft53pxbackgroundposition0 : 1 청주 : 1 10pxbackgroundposition100 : 1 iconormal : 1 백과사전 : 1 layoutverticalt4 : 9 splitg : 1 455px : 1 415pxcolor535353textaligncentertextdecorationnoneverticalaligntop : 1 fontweightboldcolorfff : 5 marginbottom5px : 3 overflowhiddenwidth200pxheight221pxmargintop11px : 1 zindex1backgroundcolor4e82eebackgroundposition225px : 1 중재 : 1 170pxverticalaligntoptextaligncenter : 1 클릭상품 : 1 4pxcolor444verticalaligntop : 1 width42pxbackgroundposition90px : 3 nonebackgroundcolorfff : 1 서비스 : 7 overflowvisibleoverflowxhiddenwidth399pxheight160pxhorizontalimg : 1 width83px : 1 PPT : 1 num40 : 1 top7pxright10px : 2 colorfff : 1 e1e1e1borderleft0 : 2 color434a55 : 1 contentcontentnone : 1 바로 : 22 blockquotebefore : 1 펼치기 : 1 positionrelativezindex103 : 1 positionrelative : 6 클라우드 : 1 linkkids : 1 linkcontvisited : 2 요금 : 1 ececec : 3 지쳐가는 : 1 폰토그래퍼 : 1 overflowhiddenfloatleftwidth113pxmarginright24pxlineheight14pxtextaligncenter : 1 floatleftpadding4px : 1 left406px : 1 440px : 1 myblogon : 4 stockdown : 2 displayinlineblockheight14pxmargin19px : 1 동영상 : 1 backgroundposition90px : 7 loadingon : 1 웹접근성안내 : 1 300만 : 1 베스트공감 : 1 297px : 1 width37pxbackgroundposition180px : 1 tittv : 4 39다케시마39 : 1 있는가 : 1 ageguisortablehelper : 1 width54pxbackgroundposition481px : 1 linkapp : 1 overflowhiddenfloatleftwidth100pxheight22pxpadding4px : 1 topautobottom63pxleft169px : 1 icotag : 3 351pxcolor196adb : 1 margintop1px : 1 floatleftmarginright14pxlineheight15px : 1 꿈꾸며 : 1 약관 : 1 width10pxmargintop1pxbackgroundposition218px : 1 layermycont : 14 상승52 : 2 top20px : 1 overflowhiddenheight1pxmargin7px : 1 31pxborder1px : 1 396px : 1 displayinlinepaddingleft18pxbackgroundposition9px : 1 230px : 4 연예인 : 1 11px : 2 것quot : 1 쇼핑기획전 : 1 532pxwhitespacenowrap : 1 paddingtop13px : 1 화두이자 : 1 270px : 1 left291px : 1 height60px : 1 개인정보취급방침 : 1 linkprogram : 1 color005dde : 1 top21pxright0 : 1 만화속세상 : 1 4pxborder1px : 1 positionrelativewidth940pxzindex100 : 1 어디에 : 1 displayblockcolor959595 : 1 1198px : 1 width158pxheight50pxcursorpointer : 1 titcont : 2 displayblockoverflowhiddenpositionrelativewidth280pxheight107pxmargintop5px : 1 10위 : 2 일본내 : 1 linkpolicy : 2 displayblockpadding8px : 1 overflowhiddenwidth427px : 2 nonelineheight21pxbackgroundcolortransparentimemodedisabled : 1 left449px : 1 titbrandspe : 1 btnsearchhover : 1 347px : 1 wrapgame : 3 흔들다 : 1 width235pxpaddingright23px : 1 backgroundposition477px : 2 txtinfo : 2 190px : 8 positionrelativewidth200pxheight245pxpadding24px : 1 위메프 : 2 내 : 1 사람의 : 1 독일 : 1 height63pxmargintop12px : 1 margintop5pxlineheight15px : 1 left481px : 1 6pxlineheight20pxbackgroundurlhttpi1daumcdnnetdecocomicstopdeco2014v2imgdaumvertv3pngv1130 : 1 paddingleft10pxcolor383b42 : 1 tiertopalpha : 1 살아간다는 : 1 paddingleft11pxbackgroundposition0 : 2 marginright11px : 1 직장생활에 : 1 displayblockheight54pxpaddingtop7px : 1 wraptip : 10 w17 : 2 e1e1e1borderbottom1px : 2 left58px : 1 titstoryball : 4 linkmysvchover : 1 하정우 : 1 mobileweblink : 3 backgroundposition400px : 1 w12 : 2 infothesong : 3 contcopy : 6 adtodaybrand : 1 backgroundurlhttpi1daumcdnnetdecotop2012startcafenone20121023png : 1 top16px : 1 color262626textdecorationnone : 1 w31 : 2 w30 : 2 w33 : 2 w32 : 2 w35 : 2 w34 : 2 w37 : 2 w36 : 2 w39 : 2 w38 : 2 fontsize11pxcolor477ae4letterspacing1px : 1 btnreset : 1 0textindent9999px : 2 marginbottom : 1 floatleftmarginright16pxlineheight15px : 1 tittabcont : 7 신과함께 : 1 발표시··· : 1 height16pxpaddingtop7pxlineheight16px : 1 밀수입 : 1 rank9 : 1 rank8 : 1 rank3 : 1 rank2 : 1 240px : 7 rank7 : 1 rank6 : 1 rank5 : 1 rank4 : 1 displayblockwidth181pxfontsize16pxlineheight25pxclearboth : 1 overflowhiddenwidth280pxheight224pxfontsize0lineheight0 : 1 issuenews : 6 floatleftfontsize11pxmargin3px : 1 txttime : 3 linkrel : 1 linknewapp : 1 recomlink : 1 shop5on : 3 backgroundposition330px : 1 eon : 1 icotheme : 1 displayblockoverflowhiddenclearboth : 1 로그인 : 5 blogg : 6\n",
      "순수 문자열 안의 총 단어 개수 : 5462\n"
     ]
    }
   ],
   "source": [
    "import urllib2\n",
    "import string\n",
    "\n",
    "source = urllib2.urlopen(\"http://www.daum.net\").read()\n",
    "\n",
    "i = 0\n",
    "save = ''\n",
    "save2 = []\n",
    "dic = {}\n",
    "\n",
    "while(i < len(source)):\n",
    "    if(source[i] == '<'):\n",
    "        while(source[i] != '>'):\n",
    "            i += 1\n",
    "        else:\n",
    "            i += 1        \n",
    "    else:\n",
    "        save += source[i]\n",
    "        i += 1        \n",
    "        \n",
    "save = save.replace(\"//\", \"\")\n",
    "save = save.replace(\"-->\", \"\")\n",
    "\n",
    "savePunc = string.punctuation\n",
    "save = save.split()\n",
    "                         \n",
    "for i in range(0, len(save)):\n",
    "    for punc in savePunc:\n",
    "        save[i] = save[i].replace(punc, \"\")\n",
    "    if(save[i] != ''):\n",
    "        save2.append(save[i])\n",
    "        \n",
    "for word in save2:\n",
    "    count = save2.count(word)\n",
    "    dic[word] = count\n",
    "    \n",
    "for word in dic:\n",
    "    print word, ':', dic[word],\n",
    "\n",
    "print    \n",
    "    \n",
    "print \"순수 문자열 안의 총 단어 개수 : %d\" % len(save2)"
   ]
  },
  {
   "cell_type": "markdown",
   "metadata": {},
   "source": [
    "다음 사이트"
   ]
  },
  {
   "cell_type": "code",
   "execution_count": 7,
   "metadata": {
    "collapsed": false,
    "scrolled": false
   },
   "outputs": [
    {
     "name": "stdout",
     "output_type": "stream",
     "text": [
      "{'RollsRoyce': 1, 'Rout': 1, '6px': 3, 'NYT': 2, '\\xe2\\x80\\x98Jason': 1, '0833': 1, 'NYC': 3, 'offenses': 1, 'ThickRimmed': 1, 'violate': 1, 'Watch': 3, 'urlhttpcssnytcomimagesiconsbullet4x4gif': 1, 'Nytimescom': 1, 'under': 1, 'h4sectionHeaderHome': 2, 'Yaphank': 1, 'h3containsThe': 1, 'League': 1, 'risk': 1, 'Moon': 2, 'envar': 1, 'every': 1, 'NYU': 2, 'encounter': 1, 'nrrequireforvar': 1, 'InBev': 1, 'supports': 1, 'fontweight': 12, 'Go': 5, 'force': 2, 'leaders': 1, '0052': 1, '0051': 1, 'batch': 1, 'Strange': 1, 'END': 1, 'established': 1, 'Game': 2, 'Put': 3, 'new': 7, 'seeks': 1, 'Faced': 1, 'wrapping': 1, 'Greene': 1, 'protection': 1, 'kicker': 4, 'Curry': 1, 'pageManagertrackingFireEventQueue': 1, 'roonooexportsreturn': 1, 'Tuesday': 2, '135rem': 1, 'credit': 2, 'Regulated': 2, 'Owner': 1, 'Home': 4, 'Flashback': 1, 'sansserif': 2, 'Privacy': 1, 'Three': 1, 'NYTDFlexTypespushtargetFT100000003987379typeFadingSlideShowdataoptionswidth177height134jsonphttpjson8nytimescomslideshow20151020nytnowyourtuesdaybriefingslideshowjsonplinkhttpwwwnytimescom20151020nytnowlatestnewsjustintrudeauoscarpistoriuschicagocubshtmlphotosphotourlcreditadvanceddelay5limitjsonp0renditiontargetoverrideabbreviatecreditstrue': 1, 'Corrections': 1, 'Behind': 4, 'Health': 9, 'Jeh': 1, 'would': 1, 'Drugs': 2, 'Houses': 2, 'Clockmaker': 1, 'foundationlegacymain': 1, 'Rule': 2, 'Chronicles': 1, '97': 2, 'avisited': 1, 'Ending': 1, 'Header': 1, 'Advertisers': 1, 'A81817': 2, '559': 1, 'give': 1, 'LEARN': 1, 'Struggles': 2, 'Virtual': 1, 'Reality': 1, 'alinknythpBriefingNewsletterSignup': 1, 'Bruni': 1, 'want': 1, 'Digital': 1, 'realEstateSearch': 1, 'Editorials': 1, 'recovery': 1, 'Watching': 1, 'Specimen': 1, 'revisit': 1, 'Admissions': 1, 'nytfranklinArialsansserif': 1, 'A': 13, 'earlier': 1, 'Getaway': 1, 'Will': 1, 'suing': 1, 'texttransform': 5, 'All': 1, 'Another': 1, 'keeps': 1, 'Blue': 2, '458': 1, 'Housing': 1, 'Nostalgic': 1, 'His': 2, 'NYTABTESTengineisUserVariantwatchingNoScroll': 1, 'revenue': 1, 'Glimpses': 1, '400': 4, 'videoFactory': 1, 'hidden': 2, 'Mobile': 2, 'Fragile': 2, 'Awakens\\xe2\\x80\\x99': 3, 'therapy': 1, 'schools': 1, 'tentifrcallenreturn': 1, 'Liberal': 2, 'meat': 1, 'victory': 1, 'side': 1, 'STOLBERG': 1, '13px': 1, 'Vermont': 1, 'Styles': 2, 'BEGIN': 1, 'Mistrial': 2, '\\xe2\\x80\\x98Saturday': 1, 'Wars': 3, 'content': 1, 'authgrowl': 1, 'Hold': 1, 'foundation': 1, 'University': 1, 'Work': 2, 'standard': 1, 'W': 1, 'Studies': 1, 'Clinton': 2, 'Contributors': 2, '002': 1, 'Photo': 1, 'Rips': 1, 'tdocumentcreateElementscripttasync0ttypetextjavascriptvar': 1, '0667': 1, 'windowmagnumwriteLogosmall': 1, 'Please': 1, 'Fight': 2, 'Stemming': 1, 'googletaggoogletaggoogletagcmdgoogletagcmdfunctionvar': 1, 'Congress': 1, 'top': 2, 'Volkswagen': 1, '0066': 1, '0067': 1, '0064': 1, '0063': 1, '0061': 1, 'httpa1nytcomassetshomepage20151014115710imagesfoundationlogos': 1, 'Baltimores': 1, '0069': 1, 'Search': 5, 'B': 2, '8216Petticoat8217': 1, 'Repair': 1, 'Code': 1, 'ireturnnew': 1, 'oet1nreturn': 1, 'httpstatic01nytcomvideovhsbuildvhs2xmin': 1, 'Version': 1, 'realestate': 1, 'messagebed': 1, 'Offensive': 1, 'E2E2E2': 1, 'tevar': 1, 'seek': 1, 'Flight': 1, 'Minister': 1, 'Collective': 1, 'Alabama': 1, 'aenfececoncatnfunction': 1, 'Bernie': 3, 'Declared': 2, 'QA': 1, 'pageManager': 2, 'Want': 1, 'doesn\\xe2\\x80\\x99t': 1, 'Its': 3, 'came': 1, 'saying': 1, 'Agency': 1, 'Helvetica': 1, 'Twain': 1, 'Differently': 3, 'Anna': 1, 'Bin': 1, 'nythpHideKickers': 1, 'Extend': 1, 'headline': 1, 'Bid': 1, 'Republicans': 1, 'Tries': 1, 'Account': 1, 'Quarter': 1, 'Leaders': 1, 'Jabs': 1, 'Carson\\xe2\\x80\\x99s': 1, 'Disabled': 1, 'SHERYL': 1, 'Dropped': 1, 'Oven': 1, 'Canada\\xe2\\x80\\x99s': 1, 'textdecoration': 1, 'rreturnvar': 1, 'Anderson': 1, '5000': 1, 'Butler': 1, '01': 1, '05': 6, 'away': 1, 'Rise': 1, 'actionlink': 1, 'nythpSplitCode': 3, 'aactive': 2, 'approach': 1, 'Settings': 1, 'paddingtop': 2, 'OpEd': 7, 'Dance': 1, 'Contact': 1, 'Classifieds': 1, 'Syrian': 1, 'Makers': 1, 'Analogies': 1, 'had': 1, 'height': 2, 'Returns': 1, 'false': 1, 'asks': 1, 'Cheaper': 1, 'Hillary': 1, 'families': 1, 'Cry': 1, 'Night': 1, 'rObjectprototypehasOwnPropertynexportst13functionenfunction': 1, 'Cybersecurity': 1, 'Manage': 1, '0070': 1, 'Schizophrenia': 2, 'study': 1, '3px': 4, 'Dividing': 1, 'is': 4, 'it': 1, 'Bush': 1, 'Here\\xe2\\x80\\x99s': 1, 'in': 27, 'Sworn': 1, 'id': 1, 'if': 2, 'the\\xc2\\xa0Volkswagen': 1, 'damages': 1, '\\xe2\\x80\\x98Kill': 1, 'Room': 3, 'h6active': 2, 'Stunning': 1, 'Truck': 1, 'opportunity': 1, 'aka': 1, 'spanablayout': 2, 'practices': 1, 'Table': 1, 'the': 55, 'left': 2, 'Nuts': 1, 'Crime': 3, 'human': 1, 'Surprise': 1, 'yet': 2, 'previous': 1, 'Reform': 1, 'Gas': 2, 'tentreturn': 1, 'News': 6, 'east': 1, 'Building': 1, 'D': 1, 'Taking': 2, 'siteindexbrandinglink': 1, 'oamarkdomContentifunction': 1, 'background': 5, 'judge': 1, 'mediaphotomediumthumb': 1, 'Art': 1, 'Newsletters': 1, '53': 1, '21px': 2, 'anythpBriefingNewsletterSignup': 1, 'sectionopinion': 2, 'WEHNER': 1, 'right': 2, 'deal': 1, 'Divided': 1, 'Conservation': 1, 'PaperVideo': 1, 'Life': 4, 'LeBoeuf': 2, 'for': 25, 'h3containsHoliday': 1, 'backgroundposition': 1, 'Celebration': 1, 'Gray': 1, 'School': 1, 'bold': 1, 'Supers': 1, 'Near': 1, '0px': 8, 'Attacking': 1, 'First': 9, 'Fair': 1, 'ltie10': 9, 'citizens': 1, 'Evidence': 2, 'Austria': 1, 'ensure': 1, 'efforts': 1, 'raised': 1, 'float': 3, 'Insider': 3, 'Misses': 1, 'Draft': 3, 'Provides': 1, 'lieu': 1, 'Survive': 1, 'MICHELLE': 1, 'ISIS': 2, 'Beef': 1, 'Hand': 1, 'Break': 1, 'width': 1, 'FiveAlarm': 1, 'Lives': 1, 'was': 3, 'optsvariation': 1, 'offer': 1, 'Column': 5, 'Defeat': 1, 'romantimesserif': 5, 'Legalization': 1, 'tnvar': 1, '20px': 1, 'Jays': 2, 'Birthplace': 1, 'Personal': 1, 'Six': 1, 'Potential': 1, 'libefore': 1, 'Digitized': 1, 'Bumble': 2, 'no': 2, 'Running': 1, '14px': 3, 'Tracy': 1, 'Pages': 1, 'homepage20151014115710jshomepage': 2, 'Trial': 1, 'longer': 2, 'Estate': 4, 'Reduce': 1, 'loyal': 1, 'time': 1, 'So': 1, 'alternatives': 1, 'creative': 1, 'Today': 1, 'Maddon': 2, 'father': 1, '0': 14, 'Believe': 1, 'Tourism': 1, 'Day': 2, 'Prize': 1, 'nationalize': 1, 'VICTORIA': 1, 'Jokes': 1, 'Yotam': 1, 'Tech': 2, 'AUSTEN': 2, 'fullest': 1, 'Just': 1, 'ahover': 2, 'standards': 1, 'div': 2, 'Debate': 3, 'Kevin': 1, '\\xe2\\x80\\x98Perfect': 1, 'Carbs': 2, 'Conjures': 1, 'a81817': 1, 'Rice': 1, 'Head': 1, 'inlineblock': 4, 'Subscriptions': 5, 'Heal': 2, 'Public': 2, 'Alone': 2, 'shared': 1, 'Fort': 1, 'Age': 1, 'Mr': 1, 'margintop': 5, 'Times': 15, 'Footsteps': 2, 'topnews': 5, 'MM': 1, 'BAB8B3': 1, 'Your': 3, 'navigation': 2, 'extra': 1, 'When': 2, 'foundationmain': 1, '0875': 1, 'nrrequirereturn': 1, 'Sanders': 4, 'working': 1, 'Dies': 4, 'helvetica': 1, '075rem': 1, 'Rowling\\xe2\\x80\\x99s': 2, 'optspoll': 1, 'October': 1, 'Ben': 1, 'Isolation': 1, 'Homelessness': 1, 'DAVID': 1, 'FD8249': 2, 'migrants': 1, 'timesvideo': 1, 'urlhttpgraphics8nytimescompackagesimageshomepagebriefingsdogearsmpng': 1, 'Bats': 1, 'can': 1, 'months': 1, 'Federal': 1, 'Resort': 1, 'ureturn': 1, 'Huma': 1, 'editiondomestic': 1, 'Terms': 2, 'Who': 10, '1': 19, 'Why': 1, 'product': 1, '140': 1, 'alerticon': 1, 'applications': 12, 'shuffleRecommendations': 1, 'data': 1, 'View': 2, 'Series': 1, 'desperation': 1, 'truck': 1, 'talk': 1, 'httpstatic01nytcomjs2buildvideoplayersextended20appRequire': 1, 'Barney': 1, 'Jay': 1, 'Ruthless': 1, 'Breaking': 2, 'displayed': 1, 'years': 1, 'My': 1, 'nbsp': 1, 'White': 1, 'group': 1, 'Views': 1, 'Rail': 1, 'Rain': 1, 'World': 4, 'Hiding': 1, 'prime': 2, 'Tactics': 2, 'env': 1, 'Socialist': 2, 'Presidential': 3, 'odocumentgetElementsByTagNamescript0oparentNodeinsertBeforeto': 1, 'EDITORIAL': 1, 'not': 1, 'Balmain': 1, 'now': 1, 'provision': 1, 'killed': 1, 'Glasses': 1, 'name': 1, 'Skip': 2, 'beings': 1, 'You\\xe2\\x80\\x99re': 1, 'Deadline': 1, 'thttpsssplit0esslForHttpdprotothttpshttpamarkonloadivar': 1, 'Billion': 1, 'Museum': 1, 'paddingleft': 3, 'Dude': 1, 'Migrants': 1, 'Split': 1, 'Suffocations': 1, 'container': 1, 'pocketregion': 6, 'space': 1, '\\xe2\\x80\\x98Shear': 1, 'Joe': 1, 'avisitednythpBriefingNewsletterSignup': 1, 'Stone': 2, '50px': 2, 'Theater': 2, 'Rights': 2, 'Conflict': 2, 'Dog': 1, 'httpstatic01nytcomjsmtr': 1, 'toi0foro': 1, 'Money': 4, 'Hungary': 1, 'nonprofit': 1, 'Speak': 1, '624': 1, 'Asia': 1, 'Start': 1, 'millions': 1, 'city': 2, 'Relic': 1, 'Monday': 1, 'tallWatchingModule': 1, 'nythpGiftguide': 8, 'Comeback': 1, 'that': 5, 'rehandleoe1ie2undefinedtypeof': 1, 'ObjectdefinePropertyenvalueowritable0enumerable1ocatchireturn': 1, 'padding': 8, 'Jail': 2, 'copy': 1, 'than': 1, '11': 1, '10': 3, 'Love': 1, '14': 1, '19': 1, 'require': 1, 'Advertise': 1, 'browser': 1, 'and': 25, 'Fronts': 1, 'Inquiry': 1, 'Demczuk': 1, '300aNight': 2, 'Do': 6, 'Murphy': 1, 'emphasis': 1, 'online': 1, 'DategetTimevar': 1, '15px': 1, 'Stuyvesant': 1, 'Articles': 1, 'Name': 1, 'paid': 1, 'Good': 1, '8220Artists': 1, 'considered': 1, 'NRA': 2, 'raquo': 34, 'tteelength0forvar': 1, 'shot': 1, 'Stephen': 2, '40px': 1, 'We': 1, 'upgrade': 1, '05625rem': 1, 'only': 1, 'going': 1, 'black': 1, 'Services': 1, 'Pampered': 1, 'Amid': 1, 'Heist': 1, 'Violence': 1, 'Magazine': 6, 'Exhibit': 1, 'Right': 1, 'nytcheltenhamshgeorgiatimes': 3, 'summary': 3, 'RoseColored': 2, 'Education': 4, 'imposing': 1, 'BOARD': 1, 'arialhelveticasansserif': 1, 'Beating': 1, 'bordertopcolor': 1, 'That': 2, 'review': 1, 'dormitory': 1, '3': 2, 'letterspacing': 1, 'Than': 1, 'editioninternational': 1, 'affordable': 1, 'requirehttpstatic01nytcombijstagxtagxjs': 1, 'jobs': 1, 'Johnson': 1, 'abcolumn': 1, 'arial': 1, 'Ottolenghi\\xe2\\x80\\x99s': 1, 'optslimit': 1, 'Give': 1, 'Phones': 1, 'Through': 1, 'Unicode': 1, 'senator': 1, 'Death': 1, 'nytcheltenhamgeorgiatimes': 1, 'color': 7, 'Travel': 3, 'Note': 1, 'nythpBriefings': 2, 'article': 8, 'opts': 2, 'storyheading': 4, 'Events': 3, 'late': 1, 'Buy': 1, 'Pain': 1, 'Promos': 1, '500': 2, '634': 1, 'ercalleotinoeoi1return': 1, 'minister': 2, 'Path': 1, 'Laws': 1, 'windowlocationsearchindexOfportalvariantwatchingNoScroll': 1, 'Open': 2, 'Better': 1, 'bias': 1, 'author': 1, 'Freddie': 1, 'Grisly': 2, 'Blood': 2, 'Design': 2, 'NYTDNYTD': 1, 'Live\\xe2\\x80\\x99': 1, 'I': 1, 'Clear': 1, 'collectionfirstchild': 2, 'allocation': 12, 'Says': 2, 'Is': 9, '2015Today\\xe2\\x80\\x99s': 1, 'It': 1, 'TV': 1, 'Rent': 1, 'In': 6, 'Nazi': 2, 'ccc': 1, 'Loading': 2, 'Service': 1, 'displaynone': 2, 'being': 1, 'Diesel': 1, 'Pine': 1, 'Conservative': 1, 'Pesto': 1, 'coloredSharetools': 1, 'Pint': 1, 'Itineraries': 1, 'death': 1, 'Jobs': 1, 'Spot': 1, 'smugglers': 1, 'Applications': 1, 'ccolumn': 6, 'Delivery': 1, 'Tale': 1, 'nytfranklin': 2, 'amp': 1, 'Talk': 1, 'Hacks': 1, 'offenders': 1, '\\xe4\\xb8\\xad\\xe6\\x96\\x87': 1, 'Before': 1, 'windowlocationsearchindexOfdisabletagx': 1, 'apartments': 1, 'uppercase': 5, 'CAREY': 1, 'ereturneobjectnfunctionn1ewindow0ieofunctionreturn': 1, 'Master': 1, 'International': 2, 'pinnedMasthead': 1, 'Overselling': 1, 'conservative': 1, 'timetimestamp': 1, 'Visit': 1, 'ontexportset0calloexportsfunctionnvar': 1, 'SHANNON': 1, 'refer': 3, 'candidate\\xe2\\x80\\x99s': 1, 'Rapper': 1, 'leadership': 1, 'Behavior': 1, 'Efforts': 1, 'requirehomepagemain': 2, 'of': 44, 'Transit': 1, 'Paper': 1, 'or': 5, 'Bags': 1, 'Away': 3, 'your': 2, 'Empty': 1, 'paidPostDriver': 1, 'Hotel': 3, 'Collection': 1, 'hed': 1, 'start': 1, 'Characters': 1, 'Artwork': 1, 'with': 3, 'Guide': 4, 'Trailer': 3, 'rage': 1, 'House': 1, 'Alterations': 1, 'vhs': 1, 'Eddie': 1, 'Close': 2, 'Chauffeur': 1, 'aehandlece1uwindowfudocumente2var': 1, 'videos': 1, 'Airlines': 1, 'Wordplay': 1, 'an': 2, 'How': 6, 'as': 3, 'at': 9, 'politics': 1, 'Migrant': 2, 'are': 4, 'Real': 4, '2000': 1, '5': 1, 'you': 2, 'PETER': 1, 'Las': 1, 'videoPlaylist': 1, 'includes': 1, 'important': 6, 'wfloading': 1, 'calls': 1, 'Reimagines': 1, 'Modern': 2, 'recklessness': 1, 'Canada': 1, 'onrcontextiegosnexportstgos7eSDFheefunctionennexportseQJf3ax3functionenfunction': 1, 'all': 3, 'Fix': 1, 'month': 1, 'Take': 1, 'Ceiling': 1, 'icons': 1, 'to': 46, 'Ear': 2, 'homepage': 6, '4em': 1, 'far': 2, 'Listings': 2, 'Sale': 2, 'Headers': 1, '1px': 7, 'slocationsplit0pbeaconbamnrdataneterrorBeaconbamnrdatanetagentjsagentnewreliccomnr686minjsdnexportsoffsetioriginsfeaturesfaddEventListenerfaddEventListenerDOMContentLoadedo1uaddEventListenerloadt1fattachEventonreadystatechangeruattachEventonloadtamarkfirstbytei11223handleD5DuLPloaderfunctionennexportseG9z0Bl12functionenfunction': 1, 'Madness\\xe2\\x80\\x99': 1, 'Breakfast': 1, 'messengersuggestions': 5, 'Log': 1, 'Ease': 2, 'Should': 1, '\\xe2\\x80\\x98Broil\\xe2\\x80\\x99': 1, 'Endorse': 1, 'ribbon': 1, 'rfcreateElementscriptrsrcdprotoeagentnparentNodeinsertBeforernfunction': 1, 'Giants': 3, 'what': 2, 'SHAW': 1, 'Cultural': 1, 'rvar': 1, 'rlistenerselengthremitentvoidrqrqerqerqepushnvar': 1, 'BreastFeeding': 1, 'Rhetoric': 2, 'paddingbottom': 1, 'Gift': 3, 'Arrangement\\xe2\\x80\\x99': 1, 'Supplements': 1, 'Briefing': 2, '\\xe2\\x80\\x98Empire': 1, 'search': 2, 'ArtsBeat': 1, 'margin': 1, 'Sidestep': 1, 'Itself': 2, 'Style': 4, 'Closeted': 1, 'nythpDeveloping': 1, 'Top': 2, 'Amanda': 1, 'Too': 1, 'Opinion': 13, 'Specimens': 1, 'Europe': 1, 'Explorer': 1, 'Glass': 1, 'Benchley': 1, 'Soft': 2, 'two': 1, 'Automobiles': 2, 'Baseball': 1, 'textalign': 2, 'minor': 1, 'Roger': 1, 'Barriers': 1, 'Found': 2, 'none': 13, 'Hamlet': 1, 'remain': 1, 'bordertop': 3, '326891': 1, 'tentnn0undefinedtypeof': 1, 'IBM': 1, 'matchHeight': 1, 'Benghazi': 1, 'Helped': 2, 'urlhttpgraphics8nytimescompackagesimageshomepagenewslettericonpng': 1, 'Television': 2, '619': 1, 'sciencefiction': 1, 'plans': 1, 'Accepts': 1, 'treatments': 1, 'Matter': 1, 'blood': 1, 'a': 41, 'Don\\xe2\\x80\\x99t': 2, 'ribbonChartbeatMostEmailed': 1, 'tvar': 2, 'Player': 1, 'httpstatic01nytcomjs2buildvideo20videofactoryrequire': 1, 'Film': 1, 'AntiBling': 1, 'What': 4, 'Arial': 1, 'BROMWICH': 1, 'Forces': 1, 'articleShareAtEnd': 1, 'ccolumncolumn': 3, '27': 1, '20': 4, 'actually': 1, 'freturnonaemitncreateulistenersceventsffunction': 1, 'splitlayout': 5, 'fines': 1, 'waitSeconds': 1, 'return': 2, 'timestamp': 2, 'demographics': 1, 'georgiatimes': 1, 'Trudeau': 4, 'Era': 1, 'Capitalist': 2, 'Offenders': 2, 'sweeping': 1, 'referheading': 1, 'Danes': 1, 'Safeguards': 1, 'Ready': 1, 'found': 2, 'windowNREUMNREUMnrrequirefunctionentfunction': 1, 'Poll': 1, 'trailer': 1, 'reduce': 1, 'Sports': 4, 'Setting': 1, 'insurance': 1, 'More': 6, 'candlelight': 1, 'since': 1, '7': 2, 'Report': 2, 'paidPostFivePack': 1, 'reeecreatenexportstteerrqeeQJf3axhandlefunctionennexportseD5DuLPXL7HBIfunctionenfunction': 1, '4px': 4, 'Town': 1, 'Drama': 1, 'ET': 10, 'generate': 1, 'Block': 2, 'People': 2, 'George': 4, 'Past': 1, 'columnfirstchild': 1, 'Expect': 1, 'recommendedLabelTest': 1, 'rcompletefreadyStateofunction': 1, 'rooted': 1, 'EmailedMost': 1, 'done': 1, 'Floor\\xe2\\x80\\x99': 1, '1871': 2, 'Concedes': 1, 'Vidal\\xe2\\x80\\x99': 1, 'story': 4, 'Catalogs': 1, 'Becomes': 3, 'Larry': 1, 'Justin': 2, 'Companies': 1, 'Long': 1, 'Todayrsquos': 2, 'Road': 1, 'throttle': 12, 'Puzzle': 2, 'Layouts': 1, 'Click': 1, 'nythpBriefingNewsletterSignup': 1, 'nythpBreakingnythpNoRule': 1, 'asetPageViewNameaddPageActionsetCustomAttributefinishedaddToTraceinlineHitnoticeErroroafunctionenwindowNREUMntapinnexportswindowNREUM112213handleD5DuLPgosfunctionennexportse7eSDFh7eSDFhfunctionenfunction': 1, 'paths': 1, 'Food': 5, 'borderbottom': 7, 'officers': 1, 'Graduates': 1, 'With': 7, 'Attacks': 1, '\\xe2\\x80\\x98Well': 2, 'Chief': 1, 'sponsored': 1, '71': 3, 'The': 34, 'NYTDFlexTypes': 2, 'Google': 1, 'Hackers': 1, 'clear': 1, 'windowNREUMNREUMNREUMinfobeaconbamnrdatanetlicenseKeyb5bcf2eba4applicationID4491446transactionNameYwFXZhRYVhAEVUZcX1pLYEAPFlkTFRhCXUAqueueTime0applicationTime471ttGuidagentTokenuserAttributeserrorBeaconbamnrdatanetagentjsagentnewreliccomnr686minjs': 1, 'Subscribe': 3, 'Cost': 1, 'Can8217t': 1, 'Gabriella': 1, 'Emissions': 1, 'Profit': 1, 'norepeat': 4, 'Uniting': 1, 'marginleft': 3, 'JK': 3, '22px': 1, 'documentreadyfunction': 2, 'French': 1, 'drugfocused': 1, 'r1otn0iArray0o0or': 1, '8': 1, 'Prime': 1, 'Masters': 1, 'his': 1, 'Cooker': 1, 'nythpSplitCodelayout': 1, 'While': 1, 'Trump\\xe2\\x80\\x99s': 1, 'banner': 1, 'Help': 1, 'dataoptionswidth177height134jsonphttpjson8nytimescomslideshow20151020nytnowyourtuesdaybriefingslideshowjsonplinkhttpwwwnytimescom20151020nytnowlatestnewsjustintrudeauoscarpistoriuschicagocubshtmlphotosphotourlcreditadvanceddelay5limitjsonp0renditiontargetoverrideabbreviatecreditstrue': 1, 'x': 1, 'art': 1, 'For': 2, 'culture': 1, 'homepage20151014115710jsfoundation': 1, 'edinfoNREUMinfonfgetElementsByTagNamescript0ifeelicenseKeyeapplicationIDncpfunctionntn': 1, 'fans': 1, 'Part': 1, 'Runway': 1, 'recently': 1, 'Could': 2, 'Buyers\\xe2\\x80\\x99': 1, 'testId': 12, 'lineheight': 9, 'Refugees': 2, 'last': 1, 'Deaths': 1, 'Hard': 2, 'Backfire': 1, 'regulates': 1, 'simple': 1, 'Consortium': 1, 'community': 1, 'Way': 1, 'Online': 1, 'Play': 2, 'Students': 2, 'Changes': 1, 'KIRKPATRICK': 1, 'political': 2, 'Royals': 1, 'twoandahalfminute': 1, 'Most': 1, 'Care': 2, 'cruelty': 1, 'Graduation': 1, 'else': 1, 'h3kicker': 2, 'lives': 1, 'GuideparentaddClassnythpGiftguide': 1, 'instructor': 1, '16px': 2, 'Todays': 3, 'Journeys': 1, 'solid': 7, 'socialist': 1, 'Sales': 1, 'Church': 1, 'Market': 2, 'City': 1, 'nytfranklinhelveticaarialsansserif': 1, 'Racism': 1, 'in\\xc2\\xa0Dewey': 1, 'Eagles': 2, 'JONAH': 1, 'Cosby': 1, '9': 1, 'fefunction': 1, 'Podcast': 2, 'About': 1, 'Movies': 2, '000': 4, 'backgroundimage': 1, 'Project': 1, 'ROBERTSON': 1, 'Technology': 1, 'Son': 2, 'Rate': 1, 'edge': 1, 'landmark': 1, 'organization': 1, 'Racial': 1, 'Jerusalem': 2, 'Tools': 1, 'T': 3, 'Living': 3, 'Takes': 2, 'Fans': 1, 'questions': 1, 'Internet': 1, 'Emojis': 1, 'Football': 1, 'input': 1, 'guarantees': 1, 'On': 2, 'Did': 1, 'Die': 2, 'couple': 1, 'discriminatory': 1, 'nythpHideBylines': 1, 'Landmark': 1, 'bit': 1, 'Or': 1, 'modifications': 1, '\\xe2\\x80\\x98Homeland\\xe2\\x80\\x99': 1, 'confront': 1, 'Cohen': 2, 'snowboard': 1, 'Columnists': 2, 'Find': 2, 'Happens': 2, 'velcroSocialFollow': 1, 'Candidates': 1, 'Shirley\\xe2\\x80\\x99': 1, 'Fears': 1, 'Email': 1, 'Daypart': 1, 'Firm': 1, 'Donors': 1, 'Fire': 1, 'Frank': 1, 'nythpBreaking': 2, 'be': 1, 'patient': 1, 'Look': 3, 'Bill': 1, 'David': 1, 'Davis': 1, 'by': 7, 'anything': 1, 'Laden\\xe2\\x80\\x99s': 1, '8px': 3, 'homepage20151014115710jsshared': 1, 'borderbottomwidth': 1, 'block': 1, 'NewsDeveloping': 1, 'Woodell': 1, 'Their': 1, 'themenewsheadlines': 2, 'AnheuserBusch': 1, 'Driven': 1, 'borderbottomcolor': 1, 'Illuminates': 1, 'Every': 1, 'User': 1, 'rhetorical': 1, 'Painter': 1, 'himself': 1, 'Vale\\xe2\\x80\\x99': 2, 'Opinionator': 1, 'Awkwafina': 1, 'Bell': 1, 'Africa': 1, 'Books': 6, 'ordered': 1, '0012': 1, 'nytmmFadingSlideShow': 2, 'Ice': 1, 'impasse': 1, 'To': 2, 'Attack': 1, 'New': 16, 'Upshot': 1, 'Map': 1, 'May': 1, 'application': 1, 'bcolumn': 14, 'Student': 1, 'eentvar': 1, 'Man': 2, 'Case': 2, 'Skills': 1, 'Recipes': 1, 'AM': 12, 'Gun': 1, 'vigil': 1, 'Making': 2, 'Documentary': 2, 'Ad': 1, 'BENEDICT': 1, 'Weddings': 1, 'An': 1, 'As': 1, 'Newsletter': 1, 'scroll': 1, 'Sell': 1, 'code': 1, 'Based': 1, 'Harper': 2, 'Self': 1, 'Time': 1, 'Enact': 1, 'Business': 4, 'CASEY': 1, 'Joint': 1, 'getFlexData': 1, 'Words': 2, 'Not': 2, 'Region': 2, 'Celebrations': 1, 'Parini': 1, 'functionrenew': 1, 'rtifntvar': 1, 'Index': 1, 'requireportalapp': 1, 'Mismanaging': 1, 'Sections': 3, 'Lonely': 1, 'requiremap': 1, 'Campaigns': 3, 'Balkans': 1, 'Survived': 1, 'Militia\\xe2\\x80\\x99': 2, 'explore': 1, 'Supposed': 1, 'otifObjectdefinePropertyObjectkeystryreturn': 1, 'Chinese': 1, 'GlutenFree': 2, 'tenvar': 1, 'Back': 1, '18px': 4, 'Photography': 1, 'Leading': 3, 'Multimedia': 2, '330': 1, 'Smugglers': 1, 'Contributing': 2, 'Kirk': 1, 'Safety': 1, 'Treatment': 3, 'from': 3, 'Sold': 1, 'next': 2, 'Lens': 1, 'Matters': 1, 'Novel': 5, 'on': 16, 'Denmark': 1, 'STYLING': 2, 'visibility': 1, 'Claire': 1, 'Editorial': 2, 'subscription': 1, 'Feedback': 1, 'this': 1, 'clients': 1, 'Video': 8, 'Police': 2, 'httpstatic01nytcomjsauthgrowldefault': 1, 'Feature': 2, 'IAN': 2, 'Party': 2, 'Several': 1, 'six': 1, 'photospotregion': 3, 'ViewedRecommended': 1, 'unseated': 1, 'Gore': 1, 'tereturn': 1, 'SABMiller': 1, 'Ghost': 1, 'iconbefore': 1, 'NYTABTEST': 1, 'Letters': 1, '\\xe2\\x80\\x98Deterrence\\xe2\\x80\\x99': 2, 'r1onridiegosnexportstgos7eSDFhidfunctionennexportseXL7HBIG9z0Blfunctionenfunction': 1, 'Stubblefield': 1, 'Politics': 4, 'httpa1nytcomassets': 1, 'Expensive': 1, 'sfunction': 1, 'Abedin': 1, 'symbols': 1, 'galaxy': 1, 'Logjam': 1, 'byline': 2, 'Smuggling': 1, 'storythemefeature': 3, 'Brooks': 1, 'li': 4, 'fontfamily': 12, 'NYTABTESTengine': 1, '2015': 1, 'paidPostFivePackMock': 1, 'Testifies': 1, 'image': 1, '2013': 1, 'greater': 1, 'Rowling': 1, 'Brother': 1, 'Can': 2, 'messagecontainer': 1, 'Mother': 2, 'transparent': 1, 'applicants': 1, 'Respond': 1, 'Friends': 1, 'Pro': 1, 'HampM': 1, 'Replica': 1, '10px': 2, 'Weekly': 1, 'Arts': 6, 'From': 5, '700': 8, 'Next': 1, 'meta': 1, 'cereturn': 1, 'Thunderous': 1, 'our': 2, '87': 1, 'Store': 1, 'enoovar': 1, 'cause': 1, 'Reveal': 1, 'This': 1, 'Museums': 1, 'CAMPBELL': 1, 'Spend': 3, 'Evil\\xe2\\x80\\x99': 3, 'spanablayoutlayout': 1, 'Point': 1, 'Topics': 1, 'ehttpsdocumentlocationprotocoltsrcehttpshttpwwwgoogletagservicescomtagjsgptjsvar': 1, 'Comic': 1, 'ntexportsiffunctiontypeof': 1, 'Lamb': 1, 'Review': 9, 'Visits': 1, 'NY': 4, 'Corporate': 1, 'requirefoundationmain': 3, 'their': 1, 'h6hover': 2, 'Iraq': 1, 'Success': 1, '97px': 1, 'fontsize': 12, 'foundationviewspagemanager': 2, 'Democratic': 2, 'herself': 1, 'steel': 1, 'Art8221': 1, 'Edition': 1, 'requirejquerynyt': 2, 'Appetite': 1, 'mediaslideshow': 1, 'Engineer': 2, 'Pat': 1, 'Pay': 2, 'Writers': 1, 'have': 1, 'need': 1, 'One': 2, 'border': 2, 'Mueller': 2, 'After': 1, 'mills': 1, 'authmtr': 1, '321': 3, 'jail': 1, 'Dewey': 1, '2016': 1, 'Blogs': 1, 'who': 4, 'Games': 1, 'but': 4, 'Enter': 1, 'masthead': 1, 'payment': 1, 'Reserve': 1, 'Actress': 1, 'face': 1, 'Relative': 1, 'Donald': 1, 'nythpHideTimestamps': 1, 'Father\\xe2\\x80\\x99s': 2, '09': 1, 'text': 2, '0036': 1, '0033': 1, 'Junction8217': 1, '30px': 1, 'Chelsea': 1, 'Undo': 1, 'Craft': 1, 'York': 10, 'Mob': 1, 'Strong': 2, 'commentspanel': 1, 'Homes': 1, 'watching': 1, 'DategetTimeconcatiargumentsvar': 1, 'Stranded': 1, '999': 3, 'Keep': 1, 'Stories': 1, 'THE': 1, 'Italian': 1, 'o0oppupapplystreturn': 1, 'spanabtopregion': 6, 'Assess': 1, 'Frank\\xe2\\x80\\x99s': 1, '165rem': 1, 'storythemesummary': 2, 'Arrives': 1, '21rem': 1, 'Cycle': 1, '2px': 7, 'strides': 1, 'job': 1, 'Against': 2, 'police': 2, 'display': 8, 'Osama': 1, 'Human': 2, 'functionPortal': 1, 'Unlikely': 1, 'Campus': 1, 'backgroundcolor': 1, 'Her': 1, 'Music': 1, 'citys': 1, 'baseUrl': 1, 'Brooklyn': 1, 'Obituaries': 2, 'f8e9d2': 1, 'marginbottom': 7, 'backgroundrepeat': 1, 'runaroundRight': 2, 'kickers': 1, 'Credit': 1, 'Essential': 1, 'NICHOLAS': 1, 'Force': 3, 'Pricing': 1, 'nytfranklinarialhelveticasansserif': 2, 'MORE': 1, 'Detoured': 1, 'It8217s': 1, 'Testify': 1, 'You': 5, 'Outsiders': 1, 'GAY': 1, 'ntypeof': 1, 'NYTimescom': 2, 'Handsome': 1, 'Third': 1, 'Ride': 1, 'Aims': 1, 'Can\\xe2\\x80\\x99t': 1, 'Choices': 1, 'center': 1, 'Have': 2, 'Need': 2, 'Lennart': 1, 'Sunday': 2, '\\xe2\\x80\\x98Night': 2, 'Be': 3, 'Cookbook': 1, 'Company': 1, 'day': 1, 'Understand': 1, 'By': 14, 'match': 1, 'Debut': 1, 'Drug': 1, 'Offices': 1, 'know': 1, 'variants': 12, 'Jamaica': 1, 'Fashion': 2, 'testName': 12, 'tryTypekitloadcatche': 1, 'Fear': 2, '11px': 4, '12px': 8, 'Quiz': 1, 'Crossword': 4, 'Offers': 1, 'Nocera': 1, 'Editor': 2, 'pthemecomments': 1, 'AheadparentaddClassnythpBriefings': 1, 'slideshow': 1, 'windowmagnumprocessFlagslimitFabrikSavemoreFollowSuggestionsunfollowCommentshomepageOpinionKickerCssfollowFeatureallTheEmphasesvideoVHSCovervideoVHSHomepageCoveradditionalOpinionRegionshpViewabilityminiNavCountnewsEventHierarchyfreeTrialinsiderLaunch': 1, 'Inside': 1, 'shortage': 1, 'Us': 2, '\\xe2\\x80\\x98Career': 3, 'after': 3, 'about': 1, 'hpHeader': 25, 'column': 1, 'US': 7, 'UN': 1, 'Americans': 1, 'Japan': 1, 'nythpDaypartRegion': 6, 'Mayor': 1, 'windownewrelicnewrelicwindowNREUMvar': 1, 'Alerts': 1, 'h6': 21, 'Two': 2, 'h5': 2, 'Iraqi': 1, 'Approach': 3, 'housing': 1, 'Chiefs': 1, 'Vegas': 1, 'Therapy': 1, 'Baltimore': 5, 'var': 6, 'function': 8, 'HIGGINS': 1, 'Science': 5, 'Detroit': 1, 'TaxTrimming': 1, 'Following': 2, 'It\\xe2\\x80\\x99s': 2, 'Consumer': 1, 'he': 2, 'made': 1, 'Twist': 1, 'productionpublished': 1, 'Ivy': 1, '\\xc2\\xbb': 1, 'Portalcreatenytinthpwatching': 1, 'nbspComments': 5, 'deaths': 1, 'universal': 1, 'Writer': 1, 'urlhttpi1nytcomimagesiconsiconalert12x12a81817png': 1, '\\xe2\\x80\\x98Star': 3, 'Cubs\\xe2\\x80\\x99': 2, 'Centered': 2, 'trials': 1, 'DAN': 1, 'Fats': 2, 'Lufthansa': 1, 'other': 1, 'Five': 1, 'Like': 1, 'Lost': 1, 'HPHEADER': 2, 'Remove': 1, 'rObjectprototypehasOwnPropertynexportstD5DuLPfunctionenfunction': 1, 'April': 1, 'Morgan': 1, 'Act': 1, 'Page': 3, 'South': 1, '\\xe2\\x80\\x94': 2, 'Fights': 1, 'Site': 3, 'maxHeight': 1}\n",
      "순수 문자열 안의 총 단어 개수 : 2991\n"
     ]
    }
   ],
   "source": [
    "import urllib2\n",
    "import string\n",
    "\n",
    "source = urllib2.urlopen(\"http://www.nytimes.com\").read()\n",
    "\n",
    "i = 0\n",
    "save = ''\n",
    "save2 = []\n",
    "dic = {}\n",
    "\n",
    "while(i < len(source)):\n",
    "    if(source[i] == '<'):\n",
    "        while(source[i] != '>'):\n",
    "            i += 1\n",
    "        else:\n",
    "            i += 1        \n",
    "    else:\n",
    "        save += source[i]\n",
    "        i += 1        \n",
    "        \n",
    "save = save.replace(\"//\", \"\")\n",
    "save = save.replace(\"-->\", \"\")\n",
    "\n",
    "savePunc = string.punctuation\n",
    "save = save.split()\n",
    "                         \n",
    "for i in range(0, len(save)):\n",
    "    for punc in savePunc:\n",
    "        save[i] = save[i].replace(punc, \"\")\n",
    "    if(save[i] != ''):\n",
    "        save2.append(save[i])\n",
    "        \n",
    "for word in save2:\n",
    "    count = save2.count(word)\n",
    "    dic[word] = count\n",
    "    \n",
    "print dic\n",
    "\n",
    "print \"순수 문자열 안의 총 단어 개수 : %d\" % len(save2)"
   ]
  },
  {
   "cell_type": "markdown",
   "metadata": {},
   "source": [
    "뉴욕 타임즈 사이트"
   ]
  },
  {
   "cell_type": "markdown",
   "metadata": {},
   "source": [
    "#소감"
   ]
  },
  {
   "cell_type": "markdown",
   "metadata": {},
   "source": [
    "이번 과제는 리스트 다양한 활용과 레퍼런스의 중요성을 과제를 통해 깨달은 시간이었던 것 같습니다. 과제를 하면서 내가 파이썬 공부를 깊이 있게 하지 않았구나 하는 생각이 들어 많이 반성했고, 단순히 강의 자료에 있는 내용으로 공부만 하지 않고 좀 더 심화된 내용을 찾아봐야 할 것 같습니다."
   ]
  }
 ],
 "metadata": {
  "kernelspec": {
   "display_name": "Python 2",
   "language": "python",
   "name": "python2"
  },
  "language_info": {
   "codemirror_mode": {
    "name": "ipython",
    "version": 2
   },
   "file_extension": ".py",
   "mimetype": "text/x-python",
   "name": "python",
   "nbconvert_exporter": "python",
   "pygments_lexer": "ipython2",
   "version": "2.7.9"
  }
 },
 "nbformat": 4,
 "nbformat_minor": 0
}
