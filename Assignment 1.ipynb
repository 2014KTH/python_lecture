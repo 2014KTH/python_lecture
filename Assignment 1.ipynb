{
 "cells": [
  {
   "cell_type": "markdown",
   "metadata": {},
   "source": [
    "# Assignment 1\n",
    "## 스크립트 프로그래밍 2분반 2014136031 김태형"
   ]
  },
  {
   "cell_type": "markdown",
   "metadata": {},
   "source": [
    "#### 1. a=\"Hello Python\" 문자열을 Slicing과 연결 연산자 (+)를 사용하여 \"Python Hello\"로 변경하시오. [주의] a 변수 자체에 \"Python Hello\" 문자열이 저장되어야 함"
   ]
  },
  {
   "cell_type": "code",
   "execution_count": 8,
   "metadata": {
    "collapsed": false
   },
   "outputs": [
    {
     "name": "stdout",
     "output_type": "stream",
     "text": [
      "Python Hello\n"
     ]
    }
   ],
   "source": [
    "a = \"Hello Python\"\n",
    "\n",
    "a = a[6:] + \" \" + a[:5]\n",
    "\n",
    "print a"
   ]
  },
  {
   "cell_type": "markdown",
   "metadata": {},
   "source": [
    "문자열 자료형은 변경되지 않기 때문에 변경하기 위해서는 slicing과 연결연산을 이용해야 한다. \n",
    "a = \"Hello Python\"을 \"Python Hello\"로 변경하기 위해 slicing과 연결연산을 사용했다.\n",
    "먼저 a=\"Hello Python\"을 정의한 후 다시 a를 a[6:] -> (Python) + \" \" (띄어쓰기) + a[:5] -> (Hello)로 정의해\n",
    "정의된 a를 출력했다."
   ]
  },
  {
   "cell_type": "markdown",
   "metadata": {},
   "source": [
    "#### 2. b=\"Hello Python World\" 문자열을 Slicing과 연결 연산자 (+)를 사용하여 \"World Python Hello\"로 변경하시오. [주의] b 변수 자체에 \"Python Hello\" 문자열이 저장되어야 함"
   ]
  },
  {
   "cell_type": "code",
   "execution_count": 3,
   "metadata": {
    "collapsed": false
   },
   "outputs": [
    {
     "name": "stdout",
     "output_type": "stream",
     "text": [
      "World Python Hello \n"
     ]
    }
   ],
   "source": [
    "b = \"Hello Python World\"\n",
    "\n",
    "a = b[13:] + \" \"\n",
    "\n",
    "b = b[6:12] + \" \" +b[:6]\n",
    "\n",
    "print a + b"
   ]
  },
  {
   "cell_type": "markdown",
   "metadata": {},
   "source": [
    "문자열 자료형은 변경되지 않기 때문에 변경하기 위해서는 slicing과 연결연산을 이용해야 한다. b = \"Hello Python World\"을 \"World Python Hello\"로 변경하기 위해 slicing과 연결연산을 사용했다. 여기서 주의할 점이 최종적으로 b에 저장되어 있는 문자열은 \"Python Hello\"이기 때문에 \"World\" 문자열은 다른 변수를 사용해 저장했다. 먼저 a라는 변수에 b[13:] -> (World) + \" \"(띄어쓰기)를 저장했고, b라는 변수에 b[6:12] -> (Python) + \" \"(띄어쓰기) + b[:6] -> (Hello)를 저장했다 최종적으로 문자열 연산을 이용해 a + b를 출력했다."
   ]
  },
  {
   "cell_type": "markdown",
   "metadata": {},
   "source": [
    "#### 3. c=\"Hello\"를 \"olleH\"로 변경하시오 [주의] c 변수 자체에 \"olleH\" 문자열이 저장되어야 함"
   ]
  },
  {
   "cell_type": "code",
   "execution_count": 14,
   "metadata": {
    "collapsed": false
   },
   "outputs": [
    {
     "name": "stdout",
     "output_type": "stream",
     "text": [
      "olleH\n"
     ]
    }
   ],
   "source": [
    "c = \"Hello\"\n",
    "\n",
    "c = c[::-1]\n",
    "\n",
    "print c"
   ]
  },
  {
   "cell_type": "markdown",
   "metadata": {},
   "source": [
    "문자열 자료형은 변경되지 않기 때문에 변경하기 위해서는 slicing을 이용해야 한다. 파이썬 slicing중 문자열을 거꾸로 출력할 수 있기 때문에 그 문법을 사용했다. c[start:stop:step] 우선 step에 -1을 넣으면 해당 문자열을 거꾸로 출력할 수 있다. 범위는 전체 출력을 해야 하므로 기본값을 대입했다 결론적으로 c = \"Hello\"를 c = c[::-1]로 재정의하여 문자열을 거꾸로 출력할 수 있다."
   ]
  },
  {
   "cell_type": "markdown",
   "metadata": {},
   "source": [
    "#### 4. s=\"python\"에 대해 다음 문제를 풀어보시오."
   ]
  },
  {
   "cell_type": "markdown",
   "metadata": {},
   "source": [
    "1 - s[0], s[0][0], s[0][0][0]은 각각 어떤 값이 나오는지 확인하고 그 이유를 나름대로 설명해 보시오."
   ]
  },
  {
   "cell_type": "code",
   "execution_count": 12,
   "metadata": {
    "collapsed": false
   },
   "outputs": [
    {
     "name": "stdout",
     "output_type": "stream",
     "text": [
      "p p p\n",
      "33726912 33726912 33726912\n"
     ]
    }
   ],
   "source": [
    "s = \"python\"\n",
    "\n",
    "print s[0], s[0][0], s[0][0][0]\n",
    "\n",
    "print id(s[0]), id(s[0][0]), id(s[0][0][0])"
   ]
  },
  {
   "cell_type": "markdown",
   "metadata": {},
   "source": [
    "먼저 1차원은 x 좌표, 2차원은 x, y 좌표, 3차원은 x, y, z 좌표가 있다고 가정하자. -> (s가 객체) s = \"python\"이 1차원 리스트이므로 x 좌표에 0부터 5까지 한칸씩 p, y, t, h, o, n이 저장되어 있다. 그래서 s[0]을 출력하면 p가 출력된다. s[0][0]은 2차원 리스트이므로 x, y좌표가 있다. 하지만 s[0][0]은 s[0]과 가리키는 레퍼런스가 같기 때문에 p가 출력된다. 마지막으로 s[0][0][0]은 3차원 리스트이기 때문에 x, y, z좌표가 있다. 이 레퍼런스도 마찬가지로 s[0][0][0]이 s[0]가 가리키는 레퍼런스와 같기 때문에 p가 출력된다. 결론적으로 좌표로 얘기하면 (0), (0,0), (0,0,0)이므로 셋 다 결국 원점을 가리키므로 p가 출력된다. 이는 id 내장함수를 이용해서 식별자를 확인하면 똑같다는 결론이 나온다. "
   ]
  },
  {
   "cell_type": "markdown",
   "metadata": {},
   "source": [
    "2 - s[-100], s[100]은 값이 나오는지 에러가 나오는지 확인하고 그 결과에 대한 이유를 나름대로 설명해 보시오."
   ]
  },
  {
   "cell_type": "code",
   "execution_count": 14,
   "metadata": {
    "collapsed": false
   },
   "outputs": [
    {
     "ename": "IndexError",
     "evalue": "string index out of range",
     "output_type": "error",
     "traceback": [
      "\u001b[1;31m---------------------------------------------------------------------------\u001b[0m",
      "\u001b[1;31mIndexError\u001b[0m                                Traceback (most recent call last)",
      "\u001b[1;32m<ipython-input-14-47cd858b81f9>\u001b[0m in \u001b[0;36m<module>\u001b[1;34m()\u001b[0m\n\u001b[0;32m      1\u001b[0m \u001b[0ms\u001b[0m \u001b[1;33m=\u001b[0m \u001b[1;34m\"python\"\u001b[0m\u001b[1;33m\u001b[0m\u001b[0m\n\u001b[0;32m      2\u001b[0m \u001b[1;33m\u001b[0m\u001b[0m\n\u001b[1;32m----> 3\u001b[1;33m \u001b[1;32mprint\u001b[0m \u001b[0ms\u001b[0m\u001b[1;33m[\u001b[0m\u001b[1;36m100\u001b[0m\u001b[1;33m]\u001b[0m\u001b[1;33m\u001b[0m\u001b[0m\n\u001b[0m",
      "\u001b[1;31mIndexError\u001b[0m: string index out of range"
     ]
    }
   ],
   "source": [
    "s = \"python\"\n",
    "\n",
    "print s[-100], s[100]"
   ]
  },
  {
   "cell_type": "markdown",
   "metadata": {},
   "source": [
    "s = \"python\"으로 s[0] ~ s[5]까지 리스트가 정의되있다. 하지만 출력하려는 것은 s[-100]과 s[100]이다. 이는 정의된 s의 리스트의 범위를 모두 넘었으므로 오류가 발생했다."
   ]
  },
  {
   "cell_type": "markdown",
   "metadata": {},
   "source": [
    "3 - s[-100, 100]은 값이 나오는지 에러가 나오는지 확인하고 그 결과에 대한 이유를 나름대로 설명해 보시오."
   ]
  },
  {
   "cell_type": "code",
   "execution_count": 6,
   "metadata": {
    "collapsed": false
   },
   "outputs": [
    {
     "ename": "TypeError",
     "evalue": "string indices must be integers, not tuple",
     "output_type": "error",
     "traceback": [
      "\u001b[1;31m---------------------------------------------------------------------------\u001b[0m",
      "\u001b[1;31mTypeError\u001b[0m                                 Traceback (most recent call last)",
      "\u001b[1;32m<ipython-input-6-2f19b65430a4>\u001b[0m in \u001b[0;36m<module>\u001b[1;34m()\u001b[0m\n\u001b[0;32m      1\u001b[0m \u001b[0ms\u001b[0m \u001b[1;33m=\u001b[0m \u001b[1;34m\"python\"\u001b[0m\u001b[1;33m\u001b[0m\u001b[0m\n\u001b[0;32m      2\u001b[0m \u001b[1;33m\u001b[0m\u001b[0m\n\u001b[1;32m----> 3\u001b[1;33m \u001b[1;32mprint\u001b[0m \u001b[0ms\u001b[0m\u001b[1;33m[\u001b[0m\u001b[1;33m-\u001b[0m\u001b[1;36m100\u001b[0m\u001b[1;33m,\u001b[0m \u001b[1;36m100\u001b[0m\u001b[1;33m]\u001b[0m\u001b[1;33m\u001b[0m\u001b[0m\n\u001b[0m",
      "\u001b[1;31mTypeError\u001b[0m: string indices must be integers, not tuple"
     ]
    }
   ],
   "source": [
    "s = \"python\"\n",
    "\n",
    "print s[-100, 100]"
   ]
  },
  {
   "cell_type": "markdown",
   "metadata": {},
   "source": [
    "s = \"python\"으로 정의되어 있다. 즉 인덱스 값을 가지고 있는 리스트로 정의되어있다. 하지만 출력하려는 것은 s[-100,100]이므로 인덱스를 가리키고 있는 것이 아니라 정의되지 않은 다른 것을 가리키고 있어 오류가 발생했다."
   ]
  },
  {
   "cell_type": "markdown",
   "metadata": {},
   "source": [
    "4 - s[1:-1]의 결과를 확인하고 그 결과에 대한 이유를 정확하게 설명하시오."
   ]
  },
  {
   "cell_type": "code",
   "execution_count": 26,
   "metadata": {
    "collapsed": false
   },
   "outputs": [
    {
     "name": "stdout",
     "output_type": "stream",
     "text": [
      "ytho\n"
     ]
    }
   ],
   "source": [
    "s = \"python\"\n",
    "\n",
    "print s[1:-1]"
   ]
  },
  {
   "cell_type": "markdown",
   "metadata": {},
   "source": [
    "리스트의 시작이 s[1] -> y 부터고 끝이 s[-1] -> n이므로 y부터 n전인 o까지 즉 ytho가 출력된다."
   ]
  },
  {
   "cell_type": "markdown",
   "metadata": {},
   "source": [
    "5 - s[3:-3]의 결과를 확인하고 그 결과에 대한 이유를 정확하게 설명하시오."
   ]
  },
  {
   "cell_type": "code",
   "execution_count": 28,
   "metadata": {
    "collapsed": false,
    "scrolled": true
   },
   "outputs": [
    {
     "name": "stdout",
     "output_type": "stream",
     "text": [
      "\n"
     ]
    }
   ],
   "source": [
    "s = \"python\"\n",
    "\n",
    "print s[3:-3]"
   ]
  },
  {
   "cell_type": "markdown",
   "metadata": {},
   "source": [
    "리스트의 시작이 s[3] -> h 부터고 끝이 s[-3] -> h이므로 둘이 서로 같으므로 아무것도 출력되지 않는다."
   ]
  },
  {
   "cell_type": "markdown",
   "metadata": {},
   "source": [
    "#### 5. for문을 활용하여 1부터 100사이의 홀수를 출력하시오."
   ]
  },
  {
   "cell_type": "code",
   "execution_count": 32,
   "metadata": {
    "collapsed": false
   },
   "outputs": [
    {
     "name": "stdout",
     "output_type": "stream",
     "text": [
      "1 3 5 7 9 11 13 15 17 19 21 23 25 27 29 31 33 35 37 39 41 43 45 47 49 51 53 55 57 59 61 63 65 67 69 71 73 75 77 79 81 83 85 87 89 91 93 95 97 99\n"
     ]
    }
   ],
   "source": [
    "for i in range(1, 101):\n",
    "    if(i%2 != 0):\n",
    "        print i,"
   ]
  },
  {
   "cell_type": "markdown",
   "metadata": {},
   "source": [
    "for문을 활용하여 1부터 100사이를 반복시켰다. 그 과정에서 if문을 사용하여 2로 나누었을 때 나머지가 0이 아니라면 홀수이기 때문에 그 수를 출력했다."
   ]
  },
  {
   "cell_type": "markdown",
   "metadata": {},
   "source": [
    "#### 6. while문을 활용하여 1부터 100사이의 짝수의 합을 계산하여 출력하시오."
   ]
  },
  {
   "cell_type": "code",
   "execution_count": 34,
   "metadata": {
    "collapsed": false
   },
   "outputs": [
    {
     "name": "stdout",
     "output_type": "stream",
     "text": [
      "2550\n"
     ]
    }
   ],
   "source": [
    "i = 1\n",
    "total = 0\n",
    "\n",
    "while(i<=100):\n",
    "    if(i%2 == 0):\n",
    "        total += i\n",
    "    i += 1\n",
    "    \n",
    "print total"
   ]
  },
  {
   "cell_type": "markdown",
   "metadata": {},
   "source": [
    "짝수의 합을 저장할 count 변수를 0으로 정의하고 시작값인 i를 1로 우선 정의했다. 반복문인 while을 사용하여 i가 100 될 때까지 반복하고 그 과정에서 if문을 사용하여 2로 나누었을 때 나머지가 0이면 홀수이므로 그 i값을 total값에 더했다. 그리고 i값이 짝수이든 아니든 i값을 증가시켰다. while문이 종료된다면 짝수의 값이 저장된 total값을 출력했다."
   ]
  },
  {
   "cell_type": "markdown",
   "metadata": {},
   "source": [
    "#### 7. 사용자로 부터 임의의 정수를 입력받고, 해당 숫자를 역순으로 출력하는 프로그램을 작성하시오.\n",
    "[실행 예] 정수를 입력하세요: 3125\n",
    "숫자 역순은 5213 입니다."
   ]
  },
  {
   "cell_type": "code",
   "execution_count": 8,
   "metadata": {
    "collapsed": false
   },
   "outputs": [
    {
     "name": "stdout",
     "output_type": "stream",
     "text": [
      "number : 3125\n",
      "숫자 역순은 5213입니다.\n"
     ]
    }
   ],
   "source": [
    "num = raw_input(\"number : \")\n",
    "\n",
    "print \"숫자 역순은 \" + num[::-1] + \"입니다.\""
   ]
  },
  {
   "cell_type": "markdown",
   "metadata": {},
   "source": [
    "raw_input은 문자열을 받아들이기 때문에 사용자로부터 수를 입력받은 것이 문자열로 저장된다. 그러므로 리스트를 사용하여 문자열을 거꾸로 출력하는 문법을 사용하여 역순을 출력했다."
   ]
  },
  {
   "cell_type": "markdown",
   "metadata": {},
   "source": [
    "#### 8. 사용자로 부터 정수를 입력받아서 1부터 그 사이에 존재하는 소수 (Prime number)를 출력하는 파이썬 프로그램을 작성하시오."
   ]
  },
  {
   "cell_type": "code",
   "execution_count": 10,
   "metadata": {
    "collapsed": false
   },
   "outputs": [
    {
     "name": "stdout",
     "output_type": "stream",
     "text": [
      "number : 100\n",
      "2 3 5 7 11 13 17 19 23 29 31 37 41 43 47 53 59 61 67 71 73 79 83 89 97\n"
     ]
    }
   ],
   "source": [
    "num = int(raw_input(\"number : \"))\n",
    "\n",
    "for i in range(1, num+1):\n",
    "    count = 0\n",
    "    for j in range(1, i+1):\n",
    "        if(i%j == 0):\n",
    "            count += 1\n",
    "    \n",
    "    if(count == 2):\n",
    "        print i,"
   ]
  },
  {
   "cell_type": "markdown",
   "metadata": {},
   "source": [
    "raw_input이 사용자로부터 문자열을 받기 때문에 형변환 int()를 사용하여 정수형으로 받아들였다. 받아들인 수 까지의 반복문을 돌려 우선 소수인지 아닌지 확인할 count 변수를 0으로 초기화하고, i+1까지 반복되는 두 번째 반복문을 돌렸다. 그 두번째 반복문 과정에서 if문을 사용하여 i%j == 0 이라면 count값을 1증가시켰다. 최종적으로 count == 2라면 1과 자기 자신의 수가 나눠진 소수이기 때문에 그 i값을 출력했다."
   ]
  },
  {
   "cell_type": "markdown",
   "metadata": {},
   "source": [
    "#### 9. [프로젝트 오일러 문제 1]\n",
    "10보다 작은 자연수 중에서 3 또는 5의 배수는 3, 5, 6, 9 이고, 이것을 모두 더하면 23입니다.\n",
    "\n",
    "1000보다 작은 자연수 중에서 3 또는 5의 배수를 모두 더하면 얼마일까요?"
   ]
  },
  {
   "cell_type": "code",
   "execution_count": 11,
   "metadata": {
    "collapsed": false
   },
   "outputs": [
    {
     "name": "stdout",
     "output_type": "stream",
     "text": [
      "233168\n"
     ]
    }
   ],
   "source": [
    "sum = 0 \n",
    "n = 1\n",
    "\n",
    "while(n<1000):\n",
    "    if(n%3 == 0 or n%5 == 0):\n",
    "        sum += n\n",
    "    n += 1\n",
    "    \n",
    "print sum"
   ]
  },
  {
   "cell_type": "markdown",
   "metadata": {},
   "source": [
    "우선 총합을 저장할 변수 num 을 0으로 초기화하고 작은 자연수 n = 1 로 정의했습니다. 반복문을 통해 n이 1000보다 작을 경우 반복하게 했고, 그 과정에서 if문을 사용하여 n을 3또는 5로 나눈 나머지가 0이면 3또는 5의 배수이므로 그 수를 더하고 총합을 출력했습니다."
   ]
  },
  {
   "cell_type": "markdown",
   "metadata": {},
   "source": [
    "#### 10. [프로젝트 오일러 문제 2]\n",
    "피보나치 수열의 각 항은 바로 앞의 항 두 개를 더한 것이 됩니다. 1과 2로 시작하는 경우 이 수열은 아래와 같습니다.\n",
    "\n",
    "1, 2, 3, 5, 8, 13, 21, 34, 55, 89, ...\n",
    "짝수이면서 4백만 이하인 모든 항을 더하면 얼마가 됩니까?"
   ]
  },
  {
   "cell_type": "code",
   "execution_count": 12,
   "metadata": {
    "collapsed": false
   },
   "outputs": [
    {
     "name": "stdout",
     "output_type": "stream",
     "text": [
      "4613732\n"
     ]
    }
   ],
   "source": [
    "a = 1\n",
    "b = 2\n",
    "n = a + b\n",
    "sum = 2\n",
    "\n",
    "while(n <= 4000000):\n",
    "    n = a + b\n",
    "    if(n % 2 == 0):\n",
    "        sum += n\n",
    "    \n",
    "    a = b\n",
    "    b = n\n",
    "    \n",
    "print sum"
   ]
  },
  {
   "cell_type": "markdown",
   "metadata": {},
   "source": [
    "피보나치 수열의 초기항 a = 1, b = 2로 정의하고 그 다음 행은 a + b 이므로 이 값을 n에 저장했습니다. 4백만 이하이면서 짝수인 항을 더해야 하므로 반복문 조건을 4백만 이하로 정의하고, 그 과정에서 if문을 사용하여 짝수인 경우에만 총 합의 값을 저장할 변수 num에 더했습니다. 그리고 a = b, b = n으로 피보나치 수열을 진행했습니다. 마지막으로 짝수이면서 4백만 이하의 항을 모두 더한 sum값을 출력했습니다."
   ]
  },
  {
   "cell_type": "markdown",
   "metadata": {},
   "source": [
    "#### 11. [프로젝트 오일러 문제 3]\n",
    "어떤 수를 소수의 곱으로만 나타내는 것을 소인수분해라 하고, 이 소수들을 그 수의 소인수라고 합니다.\n",
    "예를 들면 13195의 소인수는 5, 7, 13, 29 입니다.\n",
    "\n",
    "600851475143의 소인수 중에서 가장 큰 수를 구하세요."
   ]
  },
  {
   "cell_type": "code",
   "execution_count": 13,
   "metadata": {
    "collapsed": false
   },
   "outputs": [
    {
     "name": "stdout",
     "output_type": "stream",
     "text": [
      "6857\n"
     ]
    }
   ],
   "source": [
    "num = 600851475143\n",
    "\n",
    "ini = 2\n",
    "\n",
    "while(1):\n",
    "    if(num == ini):\n",
    "        break;\n",
    "    if(num % ini == 0):\n",
    "        num = num/ini\n",
    "    else:\n",
    "        ini +=1\n",
    "        \n",
    "print num"
   ]
  },
  {
   "cell_type": "markdown",
   "metadata": {},
   "source": [
    "우선 모든 수는 소수의 곱으로 구성되어있습니다. 무한 반복문 과정 속에서 계속 값을 나누어 마지막으로 나누는 수와 나누어지는 수가 같은 경우가 어떤 값의 소인수 중에서 가장 큰 수 이기 때문에 조건문을 걸어 반복문을 빠져나가고 그 값을 출력하도록 했습니다."
   ]
  },
  {
   "cell_type": "markdown",
   "metadata": {},
   "source": [
    "# 소감"
   ]
  },
  {
   "cell_type": "markdown",
   "metadata": {},
   "source": [
    "수업을 들으면서 아직까지는 파이썬을 사용하여 프로그래밍을 하는 것이 어렵지 않습니다. 하지만 과제를 하는 과정에서 이때까지 C와 C++을 위주로 수업을 듣고 과제를 했기 때문에 지금 파이썬 프로그래밍을 하고 있지만 알고리즘은 C와 C++의 문법을 사용하고 있다라는 느낌이 들어 내가 파이썬의 장점을 가지고 프로그래밍을 제대로 하고 있는가하는 생각이 자주 듭니다. 물론 아직 파이썬이라는 언어에 익숙하지 않아서 그럴 수도 있지만 지금의 제가 가진 생각으로는 앞으로 파이썬 프로그래밍하는데 걱정이 됩니다."
   ]
  }
 ],
 "metadata": {
  "kernelspec": {
   "display_name": "Python 2",
   "language": "python",
   "name": "python2"
  },
  "language_info": {
   "codemirror_mode": {
    "name": "ipython",
    "version": 2
   },
   "file_extension": ".py",
   "mimetype": "text/x-python",
   "name": "python",
   "nbconvert_exporter": "python",
   "pygments_lexer": "ipython2",
   "version": "2.7.9"
  }
 },
 "nbformat": 4,
 "nbformat_minor": 0
}
