{
 "cells": [
  {
   "cell_type": "markdown",
   "metadata": {},
   "source": [
    "# Assignment 2\n",
    "## 스크립트 프로그래밍 2분반 2014136031 김태형"
   ]
  },
  {
   "cell_type": "markdown",
   "metadata": {},
   "source": [
    "####1. 다음 6 개의 Expression에 대해 Evaluation 결과 값을 출력하고, 해당 결과가 나온 이유에 대해 설명하시오."
   ]
  },
  {
   "cell_type": "code",
   "execution_count": 1,
   "metadata": {
    "collapsed": false
   },
   "outputs": [
    {
     "name": "stdout",
     "output_type": "stream",
     "text": [
      "4\n",
      "1\n",
      "2\n",
      "2\n",
      "1\n",
      "3\n"
     ]
    }
   ],
   "source": [
    "print 1 and 2 and 3 and 4\n",
    "print 1 or 2 or 3 or 4\n",
    "print 1 and 2 or 3 and 4\n",
    "print (1 and 2) or (3 and 4)\n",
    "print 1 or 2 and 3 or 4\n",
    "print (1 or 2) and (3 or 4)"
   ]
  },
  {
   "cell_type": "markdown",
   "metadata": {},
   "source": [
    "and : 전체가 참이여야 참\n",
    "\n",
    "or : 하나만 참이여도 참\n",
    "\n",
    "0은 거짓 그외의 수는 참\n",
    "\n",
    "1. 이 문장은 and로 묶여있다. and는 전체를 비교해야 하므로 1과 2를 비교해서 2, 2와 3을 비교해서 3, 3과 4를 비교해서 결론적으로 4가 출력되었다.\n",
    "\n",
    "2. 이 문장은 or로 묶여있다. or는 하나만 참이면 나머지가 참이므로 1이 참이므로 다른 건 비교할 필요없이 결론적으로 1이 출력되었다.\n",
    "\n",
    "3. 이 문장은 and와 or로 묶여있다. 우선 1과 2가 and로 묶여있으므로 2가 나왔다. 2가 나왔는데 뒤의 문장이 or이므로 뒤의 문장은 비교할 필요없이 결론적으로 2가 출력되었다.\n",
    "\n",
    "4. 이 문장은 가로가 쳐져있다. 가로가 쳐져있는게 우선이므로 우선 1과 2를 and로 묶여있으므로 2, 3과 4가 and로 묶여있으므로 4, and로 결과 나온값이 2 or 4이므로 2가 참이니 뒤의 비교 필요없이 결론적으로 2가 출력되었다.\n",
    "\n",
    "5. 이 문장은 and와 or로 묶여있다. 처음에 1과 2가 or로 묶여있어 1이 참이므로 뒤의 비교는 할 필요가 없다. 그래서 1이 출력되었다.\n",
    "\n",
    "6. 이 문장은 가로가 쳐져있다. 가로가 쳐져있는게 우선이므로 우선 1과 2가 or로 묶여있으므로 1, 3과 4가 or로 묶여있으므로 3, or로 결과 나온 값이 1 and 3이므로 전체가 참이여야 하므로 마지막 수인 3이 출력되었다."
   ]
  },
  {
   "cell_type": "markdown",
   "metadata": {},
   "source": [
    "####2. 키보드로 정수값을 입력 받고 그 값이 양수인지 음수인지를 비트 연산자를 이용하여 판단하는 프로그램을 작성하시오."
   ]
  },
  {
   "cell_type": "code",
   "execution_count": 6,
   "metadata": {
    "collapsed": false
   },
   "outputs": [
    {
     "name": "stdout",
     "output_type": "stream",
     "text": [
      "number : 5\n",
      "양수\n"
     ]
    }
   ],
   "source": [
    "number = int(raw_input('number : '))\n",
    "\n",
    "if(bin(number)[0] == '-'):\n",
    "    print \"음수\"\n",
    "else:\n",
    "    print \"양수\""
   ]
  },
  {
   "cell_type": "markdown",
   "metadata": {},
   "source": [
    "bin() 함수는 정수의 비트 값을 나타내는 함수이다. 사용자로부터 받은 정수가 양수일 경우 맨 왼쪽의 비트 값이 0, 음수이면 -가 출력된다. 그래서 인덱스를 이용하여 if문으로 맨 왼쪽의 비트에 따라 음수인지 양수인지 출력하도록 했습니다."
   ]
  },
  {
   "cell_type": "markdown",
   "metadata": {},
   "source": [
    "####3. 경로에 해당하는 문자열 1개를 입력 받아 그 안에 디렉토리 경로명과 파일명을 분리하여 리스트로 반환하는 함수 div_path(s)를 작성하시오."
   ]
  },
  {
   "cell_type": "code",
   "execution_count": 51,
   "metadata": {
    "collapsed": false,
    "scrolled": true
   },
   "outputs": [
    {
     "data": {
      "text/plain": [
       "['/usr/local/bin', 'python']"
      ]
     },
     "execution_count": 51,
     "metadata": {},
     "output_type": "execute_result"
    }
   ],
   "source": [
    "def div_path(s):\n",
    "    news = s.split('/')\n",
    "    save = []\n",
    "    add = ''\n",
    "    \n",
    "    for i in range(1, len(news)-1):\n",
    "        add += ('/' + news[i])\n",
    "        \n",
    "    save.append(add)\n",
    "    save.append(news[len(news)-1])\n",
    "    \n",
    "    return save\n",
    "    \n",
    "div_path('/usr/local/bin/python')"
   ]
  },
  {
   "cell_type": "markdown",
   "metadata": {},
   "source": [
    "우선 파일 경로가 '/'로 구분이 되므로 split()함수를 통해 news라는 변수에 '/'로 나누어진 값들을 저장했습니다. 그리고 경로명과 파일명이 분리된 값을 저장할 save라는 빈 리스트를 정의하고, 분리된 경로명을 다시 더해줄 add라는 빈 문자열 변수를 정의했습니다. 반복문을 이용해서 파일명전까지의 단어들을 더해 그 문자열을 save 리스트에 append() 함수를 이용해 추가하고, 마지막으로 파일명을 save 리스트에 append() 함수를 이용해 추가했습니다."
   ]
  },
  {
   "cell_type": "markdown",
   "metadata": {},
   "source": [
    "####4. 두 개의 리스트를 인자로 받아서 그 두 개의 리스트에 대한 '합집합'을 반환하는 함수 list_union(lista, listb)를 작성하시오."
   ]
  },
  {
   "cell_type": "code",
   "execution_count": 67,
   "metadata": {
    "collapsed": false
   },
   "outputs": [
    {
     "data": {
      "text/plain": [
       "[0, 1, 2]"
      ]
     },
     "execution_count": 67,
     "metadata": {},
     "output_type": "execute_result"
    }
   ],
   "source": [
    "def list_union(lista, listb):\n",
    "    save = lista + listb\n",
    "    result = []\n",
    "    \n",
    "    for i in save:\n",
    "        if(i in result):\n",
    "            continue\n",
    "        else:\n",
    "            result.append(i)\n",
    "    \n",
    "    result.sort()\n",
    "    \n",
    "    return result\n",
    "\n",
    "list_union([0, 1, 2], [0, 1, 2])"
   ]
  },
  {
   "cell_type": "markdown",
   "metadata": {},
   "source": [
    "첫 번째 리스트와 두 번째 리스트를 우선 더해 그 값을 save에 저장했습니다. 그리고 두 개의 합집합을 저장할 빈 리스트 result를 정의했습니다. save 리스트의 값을 반복문을 사용해 하나씩 result 리스트에 append() 함수를 통해 더해주었으며, 만약 result 리스트에 똑같은 정수가 있다면, continue를 사용해 넘어가도록했습니다. 그리고 sort() 함수를 사용해 정렬을 해주었습니다.  "
   ]
  },
  {
   "cell_type": "markdown",
   "metadata": {},
   "source": [
    "####5. [프로젝트 오일러 문제 4]\n",
    "앞에서부터 읽을 때나 뒤에서부터 읽을 때나 모양이 같은 수를 대칭수(palindrome)라고 부릅니다.\n",
    "\n",
    "두 자리 수를 곱해 만들 수 있는 대칭수 중 가장 큰 수는 9009 (= 91 × 99) 입니다.\n",
    "\n",
    "세 자리 수를 곱해 만들 수 있는 가장 큰 대칭수는 얼마입니까?"
   ]
  },
  {
   "cell_type": "code",
   "execution_count": 68,
   "metadata": {
    "collapsed": false
   },
   "outputs": [
    {
     "name": "stdout",
     "output_type": "stream",
     "text": [
      "906609\n"
     ]
    }
   ],
   "source": [
    "result = []\n",
    "\n",
    "for i in range(100, 1000):\n",
    "    for j in range(100, 1000):\n",
    "        a = str(i*j)\n",
    "        if(len(a) == 6):\n",
    "            if(a[0] == a[5] and a[1] == a[4] and a[2] == a[3]):\n",
    "                result.append(int(a))\n",
    "            \n",
    "print max(result)\n",
    "            "
   ]
  },
  {
   "cell_type": "markdown",
   "metadata": {},
   "source": [
    "세 자리 수를 곱해 만들 수 있는 대칭수를 저장하기 위해 빈 리스트 result를 정의했습니다. 세 자리 수의 곱이므로 이중 for문을 사용해 100부터 999 까지 범위를 설정해주었습니다. 이중 for문으로 i와 j를 곱한 값을 문자열로 저장해 a에 저장했습니다. 문자열은 시퀀스 자료형이므로 인덱스의 비교를 통해서 만약 대칭수일경우 그 문자열을 다시 정수로 바꾸어 result 리스트에 append()함수을 사용해 추가했습니다. 추가한 대칭수들 중에서 가장 큰 대칭수를 찾기 위해 max()함수를 사용했습니다."
   ]
  },
  {
   "cell_type": "markdown",
   "metadata": {},
   "source": [
    "#### 6. [프로젝트 오일러 문제 5]\n",
    "1 ~ 10 사이의 어떤 수로도 나누어 떨어지는 가장 작은 수는 2520입니다.\n",
    "\n",
    "그러면 1 ~ 20 사이의 어떤 수로도 나누어 떨어지는 가장 작은 수는 얼마입니까?"
   ]
  },
  {
   "cell_type": "code",
   "execution_count": 69,
   "metadata": {
    "collapsed": false
   },
   "outputs": [
    {
     "name": "stdout",
     "output_type": "stream",
     "text": [
      "232792560\n"
     ]
    }
   ],
   "source": [
    "a = range(2,21)\n",
    "result = 1\n",
    "\n",
    "for i in range(2,21):\n",
    "    num = 0\n",
    "    b = [0] * 19\n",
    "    while(num < 19):\n",
    "        if(a[num] % i == 0):\n",
    "            a[num] = a[num]/i\n",
    "            b[num] += 1\n",
    "        else:\n",
    "            num += 1\n",
    "    \n",
    "    result *= pow(i,max(b))\n",
    " \n",
    "print result"
   ]
  },
  {
   "cell_type": "markdown",
   "metadata": {},
   "source": [
    "모든 수는 소수의 곱으로 이루어져있습니다. 그래서 1~20 사이의 어떤 수로도 나누어지기 위해서는 범위 안에서 각 소수의 최대값을 찾아 곱해주면 그 값이 1~20 사이의 어떤 수로도 나누어지는 수입니다. 1~20 사이의 소수의 최대값을 찾아 result값에 저장하여 그 값을 출력했습니다."
   ]
  },
  {
   "cell_type": "markdown",
   "metadata": {},
   "source": [
    "####7. [프로젝트 오일러 문제 6]\n",
    "1부터 10까지 자연수를 각각 제곱해 더하면 다음과 같습니다 (제곱의 합).\n",
    "\n",
    "1^2 + 2^2 + ... + 10^2 = 385\n",
    "\n",
    "1부터 10을 먼저 더한 다음에 그 결과를 제곱하면 다음과 같습니다 (합의 제곱).\n",
    "\n",
    "(1 + 2 + ... + 10)^2 = 552 = 3025\n",
    "\n",
    "따라서 1부터 10까지 자연수에 대해 \"합의 제곱\"과 \"제곱의 합\" 의 차이는 3025 - 385 = 2640 이 됩니다.\n",
    "\n",
    "그러면 1부터 100까지 자연수에 대해 \"합의 제곱\"과 \"제곱의 합\"의 차이는 얼마입니까?"
   ]
  },
  {
   "cell_type": "code",
   "execution_count": 1,
   "metadata": {
    "collapsed": false
   },
   "outputs": [
    {
     "name": "stdout",
     "output_type": "stream",
     "text": [
      "25164150\n"
     ]
    }
   ],
   "source": [
    "square_of_sum = 0\n",
    "sum_of_square = 0\n",
    "\n",
    "for i in range(1,101):\n",
    "    square_of_sum += i\n",
    "\n",
    "for i in range(1,101):\n",
    "    sum_of_square += i*i\n",
    "    \n",
    "print (square_of_sum*square_of_sum)-sum_of_square"
   ]
  },
  {
   "cell_type": "markdown",
   "metadata": {},
   "source": [
    "합의 제곱과 제곱의 합을 저장할 변수를 0으로 먼저 초기화 해주었습니다. 합의 제곱은 for문을 통해서 1부터 100까지 먼저 덧셈을 해주었고, 제곱의 합은 for문을 통해서 1부터 100까지 각 수를 제곱한 뒤 곱해주었습니다. 마지막으로 출력할 때 합의 제곱과 제곱의 합을 빼 결과를 출력했습니다."
   ]
  },
  {
   "cell_type": "markdown",
   "metadata": {},
   "source": [
    "####8. [Incremental Project] 웹 URL로 지정된 웹페이지를 문자열로 가져와 1) 모든 HTML 태그를 제외한 순수 텍스트 문자열만을 걸러내고, 2) 그 순수 텍스트 문자열 안에 존재하는 단어가 총 몇개인지 출력하는 프로그램을 작성하시오."
   ]
  },
  {
   "cell_type": "code",
   "execution_count": 27,
   "metadata": {
    "collapsed": false
   },
   "outputs": [
    {
     "name": "stdout",
     "output_type": "stream",
     "text": [
      "\n",
      "\n",
      "\n",
      "\n",
      "\n",
      "\n",
      "\n",
      "\n",
      "컴퓨터공학부\n",
      "\n",
      "\n",
      "\n",
      "\n",
      "\n",
      "\n",
      "\n",
      "\n",
      "\n",
      "\n",
      "\n",
      "\n",
      "\n",
      "\n",
      "\n",
      "\n",
      "\n",
      "\n",
      "\n",
      "\n",
      "\n",
      "\n",
      "\n",
      "\n",
      "\n",
      "\n",
      "\n",
      "\n",
      "\n",
      "\n",
      "\n",
      "\n",
      "\n",
      "\n",
      "\n",
      "\n",
      "\t\n",
      "\tSchoolfun - Study and Fun\n",
      "\t\n",
      "\t\n",
      "\t\n",
      "\t\t\n",
      "\t\n",
      "\t\n",
      "\t\t\n",
      "\t\t\t\n",
      "\n",
      "\n",
      "\n",
      "\t\n",
      "\t\t\n",
      "\t\t\t\n",
      "\t\t\t\t\n",
      "\t\t\t\t\n",
      "\t\t\t\t\n",
      "\t\t\t\n",
      "\t\t\t\n",
      "\t\t\t\n",
      "\t\t\t\t\n",
      "\t\t\t\t\t\t\t\t\t\t\n",
      "\t\t\t\t\n",
      "\t\t\t\t\n",
      "\t\t\t\t\t\t\t\t\t\n",
      "\t\t\t\t\t\n",
      "\t로그인\n",
      "\t\n",
      "\t\t로그인\n",
      "\t\t\n",
      "\t\t\n",
      "\t\t\n",
      "\t\t\t\t\n",
      "\t\t\t아이디\t\t\t\t\t\t\t\t\t\t\t\t비밀번호\n",
      "\t\t\t\n",
      "\t\t\t\n",
      "\t\t\t\t\n",
      "\t\t\t\t로그인 유지\n",
      "\t\t\t\n",
      "\t\t\t브라우저를 닫더라도 로그인이 계속 유지될 수 있습니다. 로그인 유지 기능을 사용할 경우 다음 접속부터는 로그인할 필요가 없습니다. 단, 게임방, 학교 등 공공장소에서 이용 시 개인정보가 유출될 수 있으니 꼭 로그아웃을 해주세요.\n",
      "\t\t\n",
      "\t\t\n",
      "\t\t\n",
      "\t\t\t회원가입\n",
      "\t\t\tID/PW 찾기\n",
      "\t\t\n",
      "\t\n",
      "\n",
      "\n",
      "\t\t\t\t\n",
      "\t\t\t\tIT 교육의 글로벌 메카!한국기술교육대학교 컴퓨터공학부\n",
      "\t\t\t\n",
      "\t\t\n",
      "\t\n",
      "\t\n",
      "\t\tClose\n",
      "\t\t\n",
      "\t\t\t\n",
      "\t\t\t\t\n",
      "\t\t\t\t\n",
      "\t\t\t\t\n",
      "\t\t\t\n",
      "\t\t\t\n",
      "\t\t\t\t\t\t\t\t\n",
      "\t\t\t\t\t\t\t\t\t\t소개\n",
      "\t\t\t\t\t\t\t\t\t\t\n",
      "\t\t\t\t\n",
      "\t\t\t\t\t\t\t\t\t\t\t\t\t\n",
      "\t\t\t\t\t\t\t\t\t\t구성원소개\n",
      "\t\t\t\t\t\t\t\t\t\t\n",
      "\t\t\t\t\n",
      "\t\t\t\t\t\t\t\t\t\t\t\t\t\n",
      "\t\t\t\t\t\t\t\t\t\t학사안내\n",
      "\t\t\t\t\t\t\t\t\t\t\n",
      "\t\t\t\t\n",
      "\t\t\t\t\t\t\t\t\t\t\t\t\t\n",
      "\t\t\t\t\t\t\t\t\t\t입학\n",
      "\t\t\t\t\t\n",
      "                        학부\n",
      "                        대학원\n",
      "                    \n",
      "\t\t\t\t\t\t\t\t\t\t\n",
      "\t\t\t\t\n",
      "\t\t\t\t\t\t\t\t\t\t\t\t\t\n",
      "\t\t\t\t\t\t\t\t\t\t학부광장\n",
      "\t\t\t\t\t\t\t\t\t\t\n",
      "\t\t\t\t\n",
      "\t\t\t\t\t\t\t\t\t\t\t\t\t\n",
      "\t\t\t\t\t\t\t\t\t\t자료실\n",
      "\t\t\t\t\t\t\t\t\t\t\n",
      "\t\t\t\t\n",
      "\t\t\t\t\t\t\t\t\t\t\t\t\t\n",
      "\t\t\t\t\t\t\t\t\t\t대학원\n",
      "\t\t\t\t\t\t\t\t\t\t\n",
      "\t\t\t\t\n",
      "\t\t\t\t\t\t\t\t\t\t\t\t\t\n",
      "\t\t\t\t\t\t\t\t\t\t공학교육인증\n",
      "\t\t\t\t\t\t\t\t\t\t\n",
      "\t\t\t\t\n",
      "\t\t\t\t\t\t\t\t\t\t\t\t\t\n",
      "\t\t\t\t\t\t\t\t\t\t\n",
      "\t\t\t\t\t\t\t\t\t\t\n",
      "\t\t\t\t\n",
      "\t\t\t\t\t\t\t\t\t\t\t\t\t\n",
      "\t\t\t\n",
      "                        \t\t\tRegistration\n",
      "                        \t\t\n",
      "\t\n",
      "      \n",
      "\t        \t        \n",
      "\n",
      "\n",
      "    \n",
      "        \n",
      "            컴퓨터공학부\n",
      "                School of Computer Science and Engineering\n",
      "                \n",
      "            \n",
      "            \n",
      "                IT 융합소프트웨어 인력양성사업\n",
      "                CK (Creative Korea)-I\n",
      "                \n",
      "            \n",
      "            \n",
      "                교육역량강화사업 온라인 컨텐츠\n",
      "                Online Contents for Education Capability Empowerment\n",
      "                \n",
      "            \n",
      "        \n",
      "    \n",
      "\t\n",
      "        \n",
      "        \n",
      "        \n",
      "            \n",
      "                IT 교육의 글로벌 메카\n",
      "                한국기술교육대학교 컴퓨터공학부 홈페이지에 오신 것을환영합니다!\n",
      "            \n",
      "        \n",
      "    \n",
      "    \n",
      "        \n",
      "        \n",
      "\t\n",
      "            \n",
      "                IT 융합소프트웨어 인력양성사업\n",
      "                글로벌 수준의 IT전문인력 양성\n",
      "IT융합분야에 대한 국제적인 경쟁력 고취\n",
      "                바로가기\n",
      "            \n",
      "        \n",
      "    \n",
      "    \n",
      "        \n",
      "        \n",
      "\t\n",
      "            \n",
      "                교육역량강화사업 컨텐츠\n",
      "                교육역량강화사업 온라인 컨텐츠를 소개합니다.\n",
      "                바로가기\n",
      "            \n",
      "        \n",
      "    \n",
      "\n",
      "\n",
      "\n",
      "    \t\t\n",
      "    \n",
      "\n",
      "\t\n",
      "                공지사항\n",
      "    \n",
      "                    \n",
      "                                                                                        [특성화] 토익, 오픽 강좌 수요조사 공고\n",
      "                                                                                                                            2015-10-06 16:41 16:41\n",
      "                                    \n",
      "                \n",
      "                                                                                        [특성화] IT융합 개도국 해외기술지원봉사 참가자 모집...\n",
      "                                                                                                                            2015-10-05 16:38 16:38\n",
      "                                    \n",
      "                \n",
      "                                                                                        [특성화] 장비대여 안내\n",
      "                                                                                                                            2015-10-05 15:28 15:28\n",
      "                                    \n",
      "                \n",
      "                                                                                        제4회 TOPCIT 정기평가\n",
      "                                                                                                                            2015-10-05 14:56 14:56\n",
      "                                    \n",
      "                \n",
      "                                                                                        [특성화] 국제게임전시회 G-star 2015 참관 안내\n",
      "                                                                                                                            2015-10-05 11:51 11:51\n",
      "                                    \n",
      "            \n",
      "            \n",
      "\n",
      "\n",
      "\n",
      "\n",
      "\t\n",
      "                자유게시판\n",
      "    \n",
      "                    \n",
      "                                                                                        (주) 엔에스이 에서 개발자를 모집합니다.\n",
      "                                                                                                                            2015-09-30 13:30 13:30\n",
      "                                    \n",
      "                \n",
      "                                                                                        졸업작품 전시회 컴퓨터공학부 인기상 투표 이벤트\n",
      "                                                                                                                            2015-09-25 01:21 01:21\n",
      "                                    \n",
      "                \n",
      "                                                                                        삼성 대학생 프로그래밍 경진대회\n",
      "                                                                                                                            2015-09-15 11:17 11:17\n",
      "                                    \n",
      "                \n",
      "                                                                                        2015년 4차 모의토익 지원\n",
      "                                                                                                                            2015-09-09 23:34 23:34\n",
      "                                    \n",
      "                \n",
      "                                                                                        난 괜찮아, 돌아가면 되지~\n",
      "                                                                                                                            2015-09-09 15:51 15:51\n",
      "                                    \n",
      "            \n",
      "            \n",
      "\n",
      "\n",
      "\n",
      "\n",
      "\t\n",
      "                취업게시판\n",
      "    \n",
      "                    \n",
      "                                                                                        [특성화] (주)KMW  인턴사원 모집공고\n",
      "                                                                                                                            2015-09-23 14:31 14:31\n",
      "                                    \n",
      "                \n",
      "                                                                                        ㈜인젠트 기술연구소 전문연구요원 모집\n",
      "                                                                                                                            2015-09-14 11:54 11:54\n",
      "                                    \n",
      "                \n",
      "                                                                                        펜타인 2015년도 신입사원 채용공고\n",
      "                                                                                                                            2015-09-03 16:16 16:16\n",
      "                                    \n",
      "                \n",
      "                                                                                        LIG인베니아 (코스닥상장 LIG그룹사 디스플레이장비전...\n",
      "                                                                                                                            2015-09-03 14:01 14:01\n",
      "                                    \n",
      "                \n",
      "                                                                                        ㈜ 한울 소프트웨어 개발자\n",
      "                                                                                                                            2015-06-18 10:28 10:28\n",
      "                                    \n",
      "            \n",
      "            \n",
      "\n",
      "\n",
      "\n",
      "\n",
      "\t\n",
      "                VENTURESQUARE\n",
      "    \n",
      "                    \n",
      "                                                                                        AWS 리인벤트 2015 행사, “글로벌 파트너 네트워크 강...\n",
      "                                                                                    \n",
      "                                                                                    2015-10-07 14:45 14:45\n",
      "                                    \n",
      "                \n",
      "                                                                                        아카마이, 2015년 2분기 인터넷 보안 현황 보고서 발표\n",
      "                                                                                    \n",
      "                                                                                    2015-10-07 14:01 14:01\n",
      "                                    \n",
      "                \n",
      "                                                                                        [실리콘밸리 비하인드 스토리 #5] 조금은 늦은 버닝맨 ...\n",
      "                                                                                    \n",
      "                                                                                    2015-10-07 14:00 14:00\n",
      "                                    \n",
      "                \n",
      "                                                                                        2015년 TIPS 프로그램 운영사 선정 설명회 열려.. 11월...\n",
      "                                                                                    \n",
      "                                                                                    2015-10-07 12:00 12:00\n",
      "                                    \n",
      "                \n",
      "                                                                                        KAIST 사회적기업가 MBA 4기 신입생 모집\n",
      "                                                                                    \n",
      "                                                                                    2015-10-07 11:39 11:39\n",
      "                                    \n",
      "            \n",
      "            \n",
      "\n",
      "\n",
      "\n",
      "\n",
      "\t\n",
      "                전자신문\n",
      "    \n",
      "                    \n",
      "                                                                                        이통사 스팸차단 서비스, 차단율 80% 돌파\n",
      "                                                                                    \n",
      "                                                                                    2015-10-07 14:22 14:22\n",
      "                                    \n",
      "                \n",
      "                                                                                        아이즈비전, 부산대 사물인터넷 연구센터와 협약\n",
      "                                                                                    \n",
      "                                                                                    2015-10-07 14:19 14:19\n",
      "                                    \n",
      "                \n",
      "                                                                                        KT-올레 기가 IoT 얼라이언스, 교동식품 IoT 기반 스마...\n",
      "                                                                                    \n",
      "                                                                                    2015-10-07 13:58 13:58\n",
      "                                    \n",
      "                \n",
      "                                                                                        KT M모바일, 약정없는 LTE 유심 13 요금제 출시···“10...\n",
      "                                                                                    \n",
      "                                                                                    2015-10-07 13:44 13:44\n",
      "                                    \n",
      "                \n",
      "                                                                                        SK텔레콤 생활가치 플랫폼 `펫트윈` 베타 서비스···“반...\n",
      "                                                                                    \n",
      "                                                                                    2015-10-07 13:44 13:44\n",
      "                                    \n",
      "            \n",
      "            \n",
      "\n",
      "\n",
      "\n",
      "\n",
      "\t\n",
      "                RE/CODE\n",
      "    \n",
      "                    \n",
      "                                                                                        Samsung Predicts First Quarterly Profit Growth...\n",
      "                                                                                    \n",
      "                                                                                    2015-10-07 12:44 12:44\n",
      "                                    \n",
      "                \n",
      "                                                                                        Pandora Appears Close to a $450 Million Deal f...\n",
      "                                                                                    \n",
      "                                                                                    2015-10-07 12:25 12:25\n",
      "                                    \n",
      "                \n",
      "                                                                                        Elon to Jack: ‘I Wouldn’t Recommend Running Tw...\n",
      "                                                                                    \n",
      "                                                                                    2015-10-07 10:16 10:16\n",
      "                                    \n",
      "                \n",
      "                                                                                        Elon Musk: Self-Driving Cars Are Coming Sooner...\n",
      "                                                                                    \n",
      "                                                                                    2015-10-07 10:15 10:15\n",
      "                                    \n",
      "                \n",
      "                                                                                        Here Is Bradley Cooper Discovering Virtual Rea...\n",
      "                                                                                    \n",
      "                                                                                    2015-10-07 08:57 08:57\n",
      "                                    \n",
      "            \n",
      "            \n",
      "\n",
      "\n",
      "    \n",
      "\n",
      "\n",
      "\n",
      "    \n",
      "        Back to Top\n",
      "    \n",
      "    \n",
      "        Leading Together for Brighter Future\n",
      "    \n",
      "    \n",
      "    \n",
      "        \n",
      "            \n",
      "                \n",
      "                    \n",
      "                        Quick Navigation\n",
      "                        \n",
      "                            한국기술교육대학교 홈페이지\n",
      "                            한국기술교육대학교 WEBMAIL\n",
      "                            한국기술교육대학교 온라인 평생교육원\n",
      "                            교육역량강화사업 온라인 컨텐츠\n",
      "                            컴퓨터공학부 포트폴리오\n",
      "                            IT 융합소프트웨어 인력양성사업\n",
      "                        \n",
      "                    \n",
      "                \n",
      "            \n",
      "            \n",
      "                \n",
      "                    \n",
      "                        Campus Location\n",
      "                        \n",
      "\t                        \n",
      "                    \n",
      "                \n",
      "            \n",
      "\n",
      "                \n",
      "                    Contact CSE\n",
      "                충청남도 천안시 동남구 병천면 충절로 1600한국기술교육대학교 컴퓨터공학부 학과사무실 TEL (041) 560 1460~1461 FAX (041) 560 1462\n",
      "                \n",
      "                    Facebook\n",
      "                    Twitter\n",
      "                    Google Plus\n",
      "                    Linkedin\n",
      "Youtube\n",
      "                    Flickr\n",
      "                \n",
      "                \n",
      "            \n",
      "        \n",
      "    \n",
      "    \n",
      "        \n",
      "            \n",
      "            (31253) 충청남도 천안시 동남구 병천면 충절로 1600 (가전리, 한국기술교육대학교) 컴퓨터공학부 \n",
      "            Copyright © 2015. All rights reserved\n",
      "        \n",
      "    \n",
      "\n",
      "\n",
      "\n",
      "\n",
      "\n",
      "\n",
      "\n",
      "\n",
      "\n",
      "순수 문자열 안의 총 단어 개수 : 453\n"
     ]
    }
   ],
   "source": [
    "import urllib2\n",
    "\n",
    "source = urllib2.urlopen(\"http://cse.kut.ac.kr/\").read()\n",
    "\n",
    "i = 0\n",
    "save= ''\n",
    "\n",
    "while(i < len(source)):\n",
    "    if(source[i] == '<'):\n",
    "        while(source[i] != '>'):\n",
    "            i += 1\n",
    "        else:\n",
    "            i += 1        \n",
    "    else:\n",
    "        save += source[i]\n",
    "        i += 1\n",
    "        \n",
    "save = save.replace(\"//\", \"\")\n",
    "save = save.replace(\"-->\", \"\")\n",
    "\n",
    "print save\n",
    "print \"순수 문자열 안의 총 단어 개수 : %d\" % len(save.split())"
   ]
  },
  {
   "cell_type": "markdown",
   "metadata": {},
   "source": [
    "컴퓨터공학부 사이트의 소스코드를 source 변수에 문자열로 다 저장한 뒤 len() 함수를 사용하여 문자 끝가지 while문으로 반복했습니다. 반복하면서 만약 source[i] 가 '<' 이면 '>' 가 나올 때 까지 무시하도록 했습니다. 그 외의 경우는 순수 문자열로 생각해서 save 변수에 문자를 더했습니다. 예외처리로 '//' 과 '-->' 문자가 나올 경우 replace() 함수를 사용해 공백으로 바꾸었습니다. 띄어쓰기 기준으로 단어를 나눠야 하므로 split() 함수를 사용해서 단어로 나누고 len() 함수를 사용해 단어 개수를 확인했습니다."
   ]
  },
  {
   "cell_type": "markdown",
   "metadata": {
    "collapsed": true
   },
   "source": [
    "# 소감"
   ]
  },
  {
   "cell_type": "markdown",
   "metadata": {},
   "source": [
    "파이썬 안에 문자열을 다루는 다양한 기능이 있어서 과제를 하는데 상당히 유용했습니다. 하지만 많이 써보지 않아서 아직은 어색하지만 최대한 손에 익도록 많은 연습을 해야겠다는 생각이 들었습니다. 그리고 마지막 문제에서 주석에 있는 단어들을 따로 예외 처리를 하고 해야하는지, 아니면 상관없이 순수 문자열만 뽑아내야 하는지 잘 모르겠습니다."
   ]
  }
 ],
 "metadata": {
  "kernelspec": {
   "display_name": "Python 2",
   "language": "python",
   "name": "python2"
  },
  "language_info": {
   "codemirror_mode": {
    "name": "ipython",
    "version": 2
   },
   "file_extension": ".py",
   "mimetype": "text/x-python",
   "name": "python",
   "nbconvert_exporter": "python",
   "pygments_lexer": "ipython2",
   "version": "2.7.9"
  }
 },
 "nbformat": 4,
 "nbformat_minor": 0
}
